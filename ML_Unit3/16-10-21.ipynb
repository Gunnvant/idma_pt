{
 "cells": [
  {
   "cell_type": "code",
   "execution_count": 1,
   "id": "4c2fb55c-b0d0-4799-bf93-adb15e1f597d",
   "metadata": {},
   "outputs": [],
   "source": [
    "import numpy as np"
   ]
  },
  {
   "cell_type": "code",
   "execution_count": 6,
   "id": "ed841afd-46a0-4517-95fe-8e41ec7c346d",
   "metadata": {},
   "outputs": [],
   "source": [
    "W = np.matrix([[3,4],[5,6],[7,8],[9,10]])\n",
    "W0 = np.matrix([1,2,3,5]).reshape((4,1))"
   ]
  },
  {
   "cell_type": "code",
   "execution_count": 3,
   "id": "66408b4b-e22a-4988-b89f-bec8f827451d",
   "metadata": {},
   "outputs": [
    {
     "data": {
      "text/plain": [
       "(4, 2)"
      ]
     },
     "execution_count": 3,
     "metadata": {},
     "output_type": "execute_result"
    }
   ],
   "source": [
    "W.shape"
   ]
  },
  {
   "cell_type": "code",
   "execution_count": 7,
   "id": "83f7be3c-999b-4ac7-adbe-b593ec31f101",
   "metadata": {},
   "outputs": [
    {
     "data": {
      "text/plain": [
       "(4, 1)"
      ]
     },
     "execution_count": 7,
     "metadata": {},
     "output_type": "execute_result"
    }
   ],
   "source": [
    "W0.shape"
   ]
  },
  {
   "cell_type": "code",
   "execution_count": 8,
   "id": "f1f120a3-6704-477e-b4d8-918b56b081ee",
   "metadata": {},
   "outputs": [
    {
     "data": {
      "text/plain": [
       "matrix([[1],\n",
       "        [2],\n",
       "        [3],\n",
       "        [5]])"
      ]
     },
     "execution_count": 8,
     "metadata": {},
     "output_type": "execute_result"
    }
   ],
   "source": [
    "W0"
   ]
  },
  {
   "cell_type": "code",
   "execution_count": 9,
   "id": "b3578071-52b4-4a07-b743-667152879b54",
   "metadata": {},
   "outputs": [
    {
     "data": {
      "text/plain": [
       "matrix([[ 3,  4],\n",
       "        [ 5,  6],\n",
       "        [ 7,  8],\n",
       "        [ 9, 10]])"
      ]
     },
     "execution_count": 9,
     "metadata": {},
     "output_type": "execute_result"
    }
   ],
   "source": [
    "W"
   ]
  },
  {
   "cell_type": "code",
   "execution_count": 12,
   "id": "7f0a8767-4452-4a9c-bedb-9cc172b7eff2",
   "metadata": {},
   "outputs": [],
   "source": [
    "X = np.matrix([50,60]).reshape((2,1))"
   ]
  },
  {
   "cell_type": "code",
   "execution_count": 13,
   "id": "6fda3e60-0c10-4448-b927-d4f111324892",
   "metadata": {},
   "outputs": [
    {
     "data": {
      "text/plain": [
       "(2, 1)"
      ]
     },
     "execution_count": 13,
     "metadata": {},
     "output_type": "execute_result"
    }
   ],
   "source": [
    "X.shape"
   ]
  },
  {
   "cell_type": "code",
   "execution_count": 14,
   "id": "4ac80e23-1f05-4742-a9b2-19ba4b542706",
   "metadata": {},
   "outputs": [
    {
     "data": {
      "text/plain": [
       "matrix([[50],\n",
       "        [60]])"
      ]
     },
     "execution_count": 14,
     "metadata": {},
     "output_type": "execute_result"
    }
   ],
   "source": [
    "X"
   ]
  },
  {
   "cell_type": "code",
   "execution_count": 17,
   "id": "b6a1fa6e-9b45-48d9-9de8-a8cb3df5cd25",
   "metadata": {},
   "outputs": [],
   "source": [
    "Z=W@X+W0"
   ]
  },
  {
   "cell_type": "code",
   "execution_count": 18,
   "id": "08f6e3c1-1517-4589-bffa-b12d6e069ac1",
   "metadata": {},
   "outputs": [
    {
     "data": {
      "text/plain": [
       "matrix([[ 391],\n",
       "        [ 612],\n",
       "        [ 833],\n",
       "        [1055]])"
      ]
     },
     "execution_count": 18,
     "metadata": {},
     "output_type": "execute_result"
    }
   ],
   "source": [
    "Z"
   ]
  },
  {
   "cell_type": "code",
   "execution_count": 19,
   "id": "12653cf2-121c-4bad-9134-8a2712479e6a",
   "metadata": {},
   "outputs": [
    {
     "data": {
      "text/plain": [
       "matrix([[ 391],\n",
       "        [ 612],\n",
       "        [ 833],\n",
       "        [1055]])"
      ]
     },
     "execution_count": 19,
     "metadata": {},
     "output_type": "execute_result"
    }
   ],
   "source": [
    "np.matmul(W,X)+W0"
   ]
  },
  {
   "cell_type": "code",
   "execution_count": 20,
   "id": "31d5fda7-fea5-48a5-9f55-f67ab532c351",
   "metadata": {},
   "outputs": [
    {
     "data": {
      "text/plain": [
       "matrix([[ 391],\n",
       "        [ 612],\n",
       "        [ 833],\n",
       "        [1055]])"
      ]
     },
     "execution_count": 20,
     "metadata": {},
     "output_type": "execute_result"
    }
   ],
   "source": [
    "np.dot(W,X)+W0"
   ]
  },
  {
   "cell_type": "code",
   "execution_count": 21,
   "id": "1f54ca67-d649-4c04-ae90-f7f9794f1fcc",
   "metadata": {},
   "outputs": [],
   "source": [
    "### relu\n",
    "def relu(x):\n",
    "    x[x<0]=0\n",
    "    return x"
   ]
  },
  {
   "cell_type": "code",
   "execution_count": 22,
   "id": "324d7e98-c10e-4ce6-9850-74cd11268643",
   "metadata": {},
   "outputs": [
    {
     "data": {
      "text/plain": [
       "matrix([[ 391],\n",
       "        [ 612],\n",
       "        [ 833],\n",
       "        [1055]])"
      ]
     },
     "execution_count": 22,
     "metadata": {},
     "output_type": "execute_result"
    }
   ],
   "source": [
    "relu(Z)"
   ]
  },
  {
   "cell_type": "code",
   "execution_count": 24,
   "id": "56edc808-edff-4c0a-96dd-17a5df4f26c0",
   "metadata": {},
   "outputs": [
    {
     "data": {
      "text/plain": [
       "matrix([[ 2],\n",
       "        [13],\n",
       "        [ 0],\n",
       "        [ 0]])"
      ]
     },
     "execution_count": 24,
     "metadata": {},
     "output_type": "execute_result"
    }
   ],
   "source": [
    "relu(np.matrix([[  2],\n",
    "        [ 13],\n",
    "        [ -4],\n",
    "        [-15]]))"
   ]
  },
  {
   "cell_type": "code",
   "execution_count": 25,
   "id": "6af6177c-c404-49e7-b31c-833c233dcc6f",
   "metadata": {},
   "outputs": [],
   "source": [
    "def relu_scalar(x):\n",
    "    if x<0:\n",
    "        return 0\n",
    "    else:\n",
    "        return x"
   ]
  },
  {
   "cell_type": "code",
   "execution_count": 27,
   "id": "413d828e-28b6-46fc-9f56-4b967b9e3e70",
   "metadata": {},
   "outputs": [
    {
     "data": {
      "text/plain": [
       "3"
      ]
     },
     "execution_count": 27,
     "metadata": {},
     "output_type": "execute_result"
    }
   ],
   "source": [
    "relu_scalar(3)"
   ]
  },
  {
   "cell_type": "code",
   "execution_count": 28,
   "id": "8b999a49-cb8c-467d-9c82-df61ad13a7a0",
   "metadata": {},
   "outputs": [
    {
     "data": {
      "text/plain": [
       "(4, 1)"
      ]
     },
     "execution_count": 28,
     "metadata": {},
     "output_type": "execute_result"
    }
   ],
   "source": [
    "Z.shape"
   ]
  },
  {
   "cell_type": "code",
   "execution_count": 29,
   "id": "af34c2d5-5e33-4c77-a2aa-a0bc654655a7",
   "metadata": {},
   "outputs": [
    {
     "data": {
      "text/plain": [
       "(2, 4)"
      ]
     },
     "execution_count": 29,
     "metadata": {},
     "output_type": "execute_result"
    }
   ],
   "source": [
    "V = np.matrix([[1,1,1,1],[1,1,1,1]])\n",
    "V.shape"
   ]
  },
  {
   "cell_type": "code",
   "execution_count": 33,
   "id": "77b38c01-53b9-4fc6-bd35-a2d18fd36c78",
   "metadata": {},
   "outputs": [],
   "source": [
    "V0=np.matrix([2,2]).reshape((2,1))"
   ]
  },
  {
   "cell_type": "code",
   "execution_count": 34,
   "id": "d040a5e0-45de-40b0-94bb-541fbcdc0170",
   "metadata": {},
   "outputs": [
    {
     "data": {
      "text/plain": [
       "(2, 1)"
      ]
     },
     "execution_count": 34,
     "metadata": {},
     "output_type": "execute_result"
    }
   ],
   "source": [
    "V0.shape"
   ]
  },
  {
   "cell_type": "code",
   "execution_count": 37,
   "id": "8ead0e27-816d-41a9-91e9-3a6489bfc2d7",
   "metadata": {},
   "outputs": [
    {
     "data": {
      "text/plain": [
       "matrix([[2893],\n",
       "        [2893]])"
      ]
     },
     "execution_count": 37,
     "metadata": {},
     "output_type": "execute_result"
    }
   ],
   "source": [
    "V@relu(Z)+V0"
   ]
  },
  {
   "cell_type": "code",
   "execution_count": 44,
   "id": "aa011506-911d-4947-82aa-789cff5c3146",
   "metadata": {},
   "outputs": [],
   "source": [
    "### Organize your code\n",
    "## max value in a one dimensional array\n",
    "## def min_one_dim():\n",
    "    ## return\n",
    "## max value of a 3 dimensional array:\n",
    "## def max_3d():\n",
    "    ## return\n",
    "## max value of a 4 d array:\n",
    "## def max_4d():\n",
    "    ## return \n",
    "## if 1d array, max(), then finds max for 1 array\n",
    "## if its 2d array, max(), then finds max for 2d array\n",
    "\n",
    "class MLSessions():\n",
    "    ## constructor\n",
    "    def __init__(self,session_name,duration):\n",
    "        self.session_name = session_name\n",
    "        self.duration = duration\n",
    "    def display(self):\n",
    "        return {'session_name':self.session_name,'duration':self.duration}\n",
    "        "
   ]
  },
  {
   "cell_type": "code",
   "execution_count": 45,
   "id": "45c739b8-67ab-4458-bea4-20659ed740c5",
   "metadata": {},
   "outputs": [],
   "source": [
    "cls = MLSessions(session_name=['afkanf','ajkskld'],duration=[80,90])"
   ]
  },
  {
   "cell_type": "code",
   "execution_count": 40,
   "id": "7f8ef7cb-76d6-4966-b29a-87597838d46a",
   "metadata": {},
   "outputs": [
    {
     "name": "stdout",
     "output_type": "stream",
     "text": [
      "['__class__', '__delattr__', '__dict__', '__dir__', '__doc__', '__eq__', '__format__', '__ge__', '__getattribute__', '__gt__', '__hash__', '__init__', '__init_subclass__', '__le__', '__lt__', '__module__', '__ne__', '__new__', '__reduce__', '__reduce_ex__', '__repr__', '__setattr__', '__sizeof__', '__str__', '__subclasshook__', '__weakref__', 'display', 'duration', 'session_name']\n"
     ]
    }
   ],
   "source": [
    "print(dir(cls))"
   ]
  },
  {
   "cell_type": "code",
   "execution_count": 41,
   "id": "d1823450-d709-4717-8f50-d973a54f24fb",
   "metadata": {},
   "outputs": [
    {
     "data": {
      "text/plain": [
       "['afkanf', 'ajkskld']"
      ]
     },
     "execution_count": 41,
     "metadata": {},
     "output_type": "execute_result"
    }
   ],
   "source": [
    "cls.session_name"
   ]
  },
  {
   "cell_type": "code",
   "execution_count": 42,
   "id": "b92eb589-09c8-4be4-82b5-9619099c2217",
   "metadata": {},
   "outputs": [
    {
     "data": {
      "text/plain": [
       "[80, 90]"
      ]
     },
     "execution_count": 42,
     "metadata": {},
     "output_type": "execute_result"
    }
   ],
   "source": [
    "cls.duration"
   ]
  },
  {
   "cell_type": "code",
   "execution_count": 46,
   "id": "537f26be-4e5c-4587-b441-ae8101cdc5df",
   "metadata": {},
   "outputs": [
    {
     "data": {
      "text/plain": [
       "{'session_name': ['afkanf', 'ajkskld'], 'duration': [80, 90]}"
      ]
     },
     "execution_count": 46,
     "metadata": {},
     "output_type": "execute_result"
    }
   ],
   "source": [
    "cls.display()"
   ]
  },
  {
   "cell_type": "code",
   "execution_count": 47,
   "id": "8f25b482-8e1e-442a-a966-fcda61227054",
   "metadata": {},
   "outputs": [],
   "source": [
    "## Add method to this class which gives the sum of all durations\n",
    "class MLSessions():\n",
    "    ## constructor\n",
    "    def __init__(self,session_name,duration):\n",
    "        self.session_name = session_name\n",
    "        self.duration = duration\n",
    "    def display(self):\n",
    "        return {'session_name':self.session_name,'duration':self.duration}\n",
    "    def total_dur(self):\n",
    "        return sum(self.duration)"
   ]
  },
  {
   "cell_type": "code",
   "execution_count": 48,
   "id": "1c14f219-0cf9-490f-a49d-2a883d403bde",
   "metadata": {},
   "outputs": [],
   "source": [
    "cls = MLSessions(session_name=['afkanf','ajkskld'],duration=[80,90])"
   ]
  },
  {
   "cell_type": "code",
   "execution_count": 49,
   "id": "4be56c30-caff-4337-a353-ca33ae31c777",
   "metadata": {},
   "outputs": [
    {
     "data": {
      "text/plain": [
       "170"
      ]
     },
     "execution_count": 49,
     "metadata": {},
     "output_type": "execute_result"
    }
   ],
   "source": [
    "cls.total_dur()"
   ]
  },
  {
   "cell_type": "code",
   "execution_count": 50,
   "id": "13df569a-6ac9-4fa6-9ca3-0d223bceae02",
   "metadata": {},
   "outputs": [],
   "source": [
    "### Define a class that can take a 2 by 1 matrix (X) and do a forward pass on it\n",
    "W = np.matrix([[3,4],[5,6],[7,8],[9,10]])\n",
    "W0 = np.matrix([1,2,3,5]).reshape((4,1))\n",
    "V = np.matrix([[1,1,1,1],[1,1,1,1]])\n",
    "V0=np.matrix([2,2]).reshape((2,1))"
   ]
  },
  {
   "cell_type": "code",
   "execution_count": null,
   "id": "ebc0171d-54ec-457d-bc5e-fae1c7bc94aa",
   "metadata": {},
   "outputs": [],
   "source": [
    "class NN():\n",
    "    \n",
    "    def __init__(self):\n",
    "        self.W = np.matrix([[2,4],[5,6],[7,8],[9,10]])\n",
    "        self.W0 = np.matrix([1,2,3,5]).reshape((4,1))\n",
    "        self.V = np.matrix([[2,2,1,1],[1,1,1,1]])\n",
    "        self.V0 = np.matrix([2,2]).reshape((2,1))\n",
    "    \n",
    "    def relu(self,Z):\n",
    "        Z[Z<0] = 0\n",
    "        return Z\n",
    "    \n",
    "    def forward(self,X):\n",
    "        Z = self.W@X+self.W0\n",
    "        activation = self.relu(Z)\n",
    "        Z = self.V@activation + self.V0\n",
    "        return self.relu(Z)\n",
    "        "
   ]
  },
  {
   "cell_type": "code",
   "execution_count": 62,
   "id": "64027858-bdf0-404c-b10e-e684fdcae395",
   "metadata": {},
   "outputs": [
    {
     "data": {
      "text/plain": [
       "matrix([[50],\n",
       "        [60]])"
      ]
     },
     "execution_count": 62,
     "metadata": {},
     "output_type": "execute_result"
    }
   ],
   "source": [
    "X"
   ]
  },
  {
   "cell_type": "code",
   "execution_count": 63,
   "id": "31ce945a-2715-4da5-ae9d-067014bce3dc",
   "metadata": {},
   "outputs": [],
   "source": [
    "n=NN()"
   ]
  },
  {
   "cell_type": "code",
   "execution_count": 65,
   "id": "50799282-176e-4b74-9f03-445f1b5b593a",
   "metadata": {},
   "outputs": [
    {
     "name": "stdout",
     "output_type": "stream",
     "text": [
      "['V', 'V0', 'W', 'W0', '__class__', '__delattr__', '__dict__', '__dir__', '__doc__', '__eq__', '__format__', '__ge__', '__getattribute__', '__gt__', '__hash__', '__init__', '__init_subclass__', '__le__', '__lt__', '__module__', '__ne__', '__new__', '__reduce__', '__reduce_ex__', '__repr__', '__setattr__', '__sizeof__', '__str__', '__subclasshook__', '__weakref__', 'forward', 'relu']\n"
     ]
    }
   ],
   "source": [
    "print(dir(n))"
   ]
  },
  {
   "cell_type": "code",
   "execution_count": 66,
   "id": "634f57c6-f0f5-4ec8-b0bb-5f48e701a374",
   "metadata": {},
   "outputs": [
    {
     "data": {
      "text/plain": [
       "matrix([[2893],\n",
       "        [2893]])"
      ]
     },
     "execution_count": 66,
     "metadata": {},
     "output_type": "execute_result"
    }
   ],
   "source": [
    "n.forward(X)"
   ]
  },
  {
   "cell_type": "code",
   "execution_count": null,
   "id": "f0e44865-a6b4-4573-a57c-5e308e2d816c",
   "metadata": {},
   "outputs": [],
   "source": []
  }
 ],
 "metadata": {
  "kernelspec": {
   "display_name": "Python 3",
   "language": "python",
   "name": "python3"
  },
  "language_info": {
   "codemirror_mode": {
    "name": "ipython",
    "version": 3
   },
   "file_extension": ".py",
   "mimetype": "text/x-python",
   "name": "python",
   "nbconvert_exporter": "python",
   "pygments_lexer": "ipython3",
   "version": "3.9.5"
  }
 },
 "nbformat": 4,
 "nbformat_minor": 5
}
