{
 "cells": [
  {
   "cell_type": "markdown",
   "id": "866293ef-8345-45d0-a253-0f0589f09025",
   "metadata": {},
   "source": [
    "**Backpropagation Algorithm**\n",
    "\n",
    "This notebook illustrates the backprop algorithm for a relatively simple dataset. The network architecture is as follows:\n",
    "\n",
    "1. $z_1 = w_1x$\n",
    "2. $a_1 = tanh(z_1)$\n",
    "3. $z_2 = w_2a_1+b$\n",
    "4. $y =tanh(z_2)$\n",
    "5. $C = \\frac{1}{2}(y-t)^2$\n",
    "\n",
    "Now the gradients needed would be for the following parameters:\n",
    "\n",
    "1. $w_1$\n",
    "2. $w_2$\n",
    "3. $b$"
   ]
  },
  {
   "cell_type": "code",
   "execution_count": 1,
   "id": "8f7abae1-8f08-4852-b275-e330a6fd7f9f",
   "metadata": {},
   "outputs": [],
   "source": [
    "import pandas as pd\n",
    "data = pd.read_csv(\"nn_data.csv\")"
   ]
  },
  {
   "cell_type": "code",
   "execution_count": 2,
   "id": "937e18b7-e723-49bf-be73-c94f4dcf8089",
   "metadata": {},
   "outputs": [
    {
     "data": {
      "text/html": [
       "<div>\n",
       "<style scoped>\n",
       "    .dataframe tbody tr th:only-of-type {\n",
       "        vertical-align: middle;\n",
       "    }\n",
       "\n",
       "    .dataframe tbody tr th {\n",
       "        vertical-align: top;\n",
       "    }\n",
       "\n",
       "    .dataframe thead th {\n",
       "        text-align: right;\n",
       "    }\n",
       "</style>\n",
       "<table border=\"1\" class=\"dataframe\">\n",
       "  <thead>\n",
       "    <tr style=\"text-align: right;\">\n",
       "      <th></th>\n",
       "      <th>x</th>\n",
       "      <th>y</th>\n",
       "    </tr>\n",
       "  </thead>\n",
       "  <tbody>\n",
       "    <tr>\n",
       "      <th>0</th>\n",
       "      <td>0.052356</td>\n",
       "      <td>3.342177</td>\n",
       "    </tr>\n",
       "    <tr>\n",
       "      <th>1</th>\n",
       "      <td>1.183768</td>\n",
       "      <td>78.464246</td>\n",
       "    </tr>\n",
       "    <tr>\n",
       "      <th>2</th>\n",
       "      <td>-1.489419</td>\n",
       "      <td>-98.712041</td>\n",
       "    </tr>\n",
       "    <tr>\n",
       "      <th>3</th>\n",
       "      <td>-0.873507</td>\n",
       "      <td>-57.871641</td>\n",
       "    </tr>\n",
       "    <tr>\n",
       "      <th>4</th>\n",
       "      <td>-0.552740</td>\n",
       "      <td>-36.297684</td>\n",
       "    </tr>\n",
       "  </tbody>\n",
       "</table>\n",
       "</div>"
      ],
      "text/plain": [
       "          x          y\n",
       "0  0.052356   3.342177\n",
       "1  1.183768  78.464246\n",
       "2 -1.489419 -98.712041\n",
       "3 -0.873507 -57.871641\n",
       "4 -0.552740 -36.297684"
      ]
     },
     "execution_count": 2,
     "metadata": {},
     "output_type": "execute_result"
    }
   ],
   "source": [
    "data.head()"
   ]
  },
  {
   "cell_type": "code",
   "execution_count": 3,
   "id": "1838d664-0e54-4cdb-8439-7e73bcdd11dc",
   "metadata": {},
   "outputs": [],
   "source": [
    "X = data['x'].values\n",
    "Y = data['y'].values"
   ]
  },
  {
   "cell_type": "code",
   "execution_count": 20,
   "id": "7317a30c-2424-495b-aa9a-c2b670b71d9a",
   "metadata": {},
   "outputs": [],
   "source": [
    "import math\n",
    "class NN():\n",
    "    def __init__(self):\n",
    "        self.w1 = 0.2\n",
    "        self.w2 = 1\n",
    "        self.b = 1.5\n",
    "        self.eta = 0.01\n",
    "        \n",
    "    def forward(self,x):\n",
    "        self.z1 = self.w1*x\n",
    "        self.a1 = math.tanh(self.z1)\n",
    "        self.z2 = self.w2*self.a1+self.b\n",
    "        y = math.tanh(self.z2)\n",
    "        return y\n",
    "    \n",
    "    def backprop(self,x,t):\n",
    "        grad_w1 = x*(1-math.tanh(self.z1)**2)*self.w2*(math.tanh(self.z2)-t)*(1-math.tanh(self.z2)**2)\n",
    "        grad_w2 = math.tanh(self.z1)*(math.tanh(self.z2)-t)*(1-math.tanh(self.z2)**2)\n",
    "        grad_b = (math.tanh(self.z2)-t)*(1-math.tanh(self.z2)**2)\n",
    "        self.w1 = self.w1 - self.eta*grad_w1\n",
    "        self.w2 = self.w2 - self.eta*grad_w2\n",
    "        self.b = self.b - self.eta*grad_b\n",
    "                                                                    "
   ]
  },
  {
   "cell_type": "code",
   "execution_count": 21,
   "id": "caf35fcf-6c1a-46d9-aa9d-7e26ac845977",
   "metadata": {},
   "outputs": [],
   "source": [
    "model = NN()"
   ]
  },
  {
   "cell_type": "code",
   "execution_count": 22,
   "id": "7ab7a444-b8f7-473c-a015-20e35f59f008",
   "metadata": {},
   "outputs": [
    {
     "data": {
      "text/plain": [
       "0.2"
      ]
     },
     "execution_count": 22,
     "metadata": {},
     "output_type": "execute_result"
    }
   ],
   "source": [
    "model.w1"
   ]
  },
  {
   "cell_type": "code",
   "execution_count": 23,
   "id": "b83ac069-45d3-40c2-acd4-d24fdd7a0ef8",
   "metadata": {},
   "outputs": [
    {
     "data": {
      "text/plain": [
       "1"
      ]
     },
     "execution_count": 23,
     "metadata": {},
     "output_type": "execute_result"
    }
   ],
   "source": [
    "model.w2"
   ]
  },
  {
   "cell_type": "code",
   "execution_count": 24,
   "id": "f693c173-05bd-4df8-852e-fae69844bb07",
   "metadata": {},
   "outputs": [],
   "source": [
    "for (x,y) in zip(X,Y):\n",
    "    preds = model.forward(x)\n",
    "    model.backprop(x=x,t=y)    "
   ]
  },
  {
   "cell_type": "code",
   "execution_count": 25,
   "id": "21bb0abb-b5ba-46e8-87f6-110bef13a1ab",
   "metadata": {},
   "outputs": [
    {
     "data": {
      "text/plain": [
       "1.5862441419490318"
      ]
     },
     "execution_count": 25,
     "metadata": {},
     "output_type": "execute_result"
    }
   ],
   "source": [
    "model.w1"
   ]
  },
  {
   "cell_type": "code",
   "execution_count": 26,
   "id": "b7ceca2c-4bd6-4561-934b-444ee375dbc1",
   "metadata": {},
   "outputs": [
    {
     "data": {
      "text/plain": [
       "2.4704938257890756"
      ]
     },
     "execution_count": 26,
     "metadata": {},
     "output_type": "execute_result"
    }
   ],
   "source": [
    "model.w2"
   ]
  },
  {
   "cell_type": "code",
   "execution_count": 27,
   "id": "eb23aae1-fbcd-4e69-9f26-6d86160dd556",
   "metadata": {},
   "outputs": [
    {
     "name": "stdout",
     "output_type": "stream",
     "text": [
      "0\n",
      "0.0523555662290172 3.342177289414041\n",
      "1\n",
      "1.183768325029945 78.46424628488703\n",
      "2\n",
      "-1.4894191273167068 -98.71204096851244\n",
      "3\n",
      "-0.8735073407296362 -57.87164126935035\n",
      "4\n",
      "-0.5527401307271728 -36.29768425832116\n",
      "5\n",
      "-1.8765572608021144 -124.09450710453828\n",
      "6\n",
      "-1.1065235444622 -73.19551067931033\n",
      "7\n",
      "-0.5181249546761798 -34.57962573527692\n",
      "8\n",
      "0.5098425481434431 34.08954440882307\n",
      "9\n",
      "-1.5346527189911023 -101.13298026122548\n",
      "10\n",
      "-1.4101755042259103 -93.23728552929742\n",
      "11\n",
      "-0.3472943712219216 -23.09592250402809\n",
      "12\n",
      "0.5717181031080295 38.040075947984256\n",
      "13\n",
      "0.5960694136088931 39.7649975972887\n",
      "14\n",
      "-1.3443927499728658 -89.1445508307826\n"
     ]
    }
   ],
   "source": [
    "i = 0\n",
    "for (x,y) in zip(X,Y):\n",
    "    print(i)\n",
    "    i = i+1\n",
    "    print(x,y)"
   ]
  },
  {
   "cell_type": "code",
   "execution_count": null,
   "id": "ac75ff35-2c6e-44de-8104-a3fde8cb3a13",
   "metadata": {},
   "outputs": [],
   "source": []
  }
 ],
 "metadata": {
  "kernelspec": {
   "display_name": "Python 3",
   "language": "python",
   "name": "python3"
  },
  "language_info": {
   "codemirror_mode": {
    "name": "ipython",
    "version": 3
   },
   "file_extension": ".py",
   "mimetype": "text/x-python",
   "name": "python",
   "nbconvert_exporter": "python",
   "pygments_lexer": "ipython3",
   "version": "3.9.5"
  }
 },
 "nbformat": 4,
 "nbformat_minor": 5
}
