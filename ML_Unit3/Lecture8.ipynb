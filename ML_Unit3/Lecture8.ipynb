{
 "cells": [
  {
   "cell_type": "markdown",
   "id": "6ccb20bf-b91d-4e2e-b2bf-7cd700334443",
   "metadata": {
    "tags": []
   },
   "source": [
    "## Lecture 8: Introduction to feedforward neural networks\n",
    "\n",
    "**Motivation**\n",
    "\n",
    "The traditional linear and non-linear classifiers that we have seen so far project the data into a **fixed** feature representation. For example in non-linear classification the classifier used to be of the form:\n",
    "\n",
    "$sign(\\theta.\\phi(x))$, where $\\phi(x)$ was always a fixed feature transformation. In Neural Networks we try to learn both:\n",
    "\n",
    "1. The feature transformation $\\phi(x)$\n",
    "2. The ML task (Classification or Regression)\n",
    "\n",
    "**Neural Network Units, Introduction to deep neural networks**\n",
    "\n",
    "Refer to the slide `./decks/Neural Networks.pptx` The idea of activation functions, flow of data through the network etc is described from slide 1 to 26.\n",
    "\n",
    "The rest of the slides build on the intuition about what parameter learning means for neural networks, builds the intution about the loss functions and data flow. Refer to the `./excel/Numerical Examples.xlsx` for more detailed explanation.\n",
    "\n",
    "**Coding a forward pass**\n",
    "\n",
    "The forward pass of any neural network can be easily represented as a sequence of matrix multiplication steps.\n",
    "\n",
    "![](./imgs/nn.png)\n",
    "\n",
    "This network can be described as follows:\n",
    "\n",
    "- Input vector = $X = (x1,x2)$\n",
    "- Weight Matrix (hidden layer) = $$W = \\begin{bmatrix}\n",
    "W_{11}&&W_{21}\\\\\n",
    "W_{12}&&W_{22}\\\\\n",
    "W_{13}&&W_{23}\\\\\n",
    "W_{14}&&W_{24}\\\\\n",
    "\\end{bmatrix}\n",
    "$$\n",
    "*note the subscripts are being mapped to weights in the figure\n",
    "\n",
    "- Bias/offset Matrix (hidden layer) = $$\n",
    "W_0 = \\begin{bmatrix}\n",
    "W_{01}\\\\\n",
    "W_{02}\\\\\n",
    "W_{03}\\\\\n",
    "W_{04}\\\\\n",
    "\\end{bmatrix}\n",
    "$$\n",
    "\n",
    "Now the forward pass for the hidden layer can be described as \n",
    "\n",
    "$$W \\times X + W_0= Z = \\begin{bmatrix}\n",
    "z_{1}\\\\\n",
    "z_{2}\\\\\n",
    "z_3\\\\\n",
    "z_4\\\\\n",
    "\\end{bmatrix}\n",
    "$$\n",
    "\n",
    "Applying the activation function $f$ over the matrix $Z$ will complete the forward pass.\n",
    "\n",
    "$$f(W \\times X + W_0)= f(Z) = f(\\begin{bmatrix}\n",
    "z_{1}\\\\\n",
    "z_{2}\\\\\n",
    "z_3\\\\\n",
    "z_4\\\\\n",
    "\\end{bmatrix}) = \n",
    "\\begin{bmatrix}\n",
    "f(z_{1})\\\\\n",
    "f(z_{2})\\\\\n",
    "f(z_3)\\\\\n",
    "f(z_4)\\\\\n",
    "\\end{bmatrix}\n",
    "$$\n",
    "\n",
    "For the output layer:\n",
    "\n",
    "- The weight matrix is $$V = \\begin{bmatrix}\n",
    "V_{11}&&V_{21}&&V_{31}&&V_{41}\\\\\n",
    "V_{12}&&V_{22}&&V_{32}&&V_{42}\\\\\n",
    "\\end{bmatrix}\n",
    "$$\n",
    "\n",
    "- The bias/offset matrix is $$V_0 = \\begin{bmatrix}\n",
    "V_{01}\\\\\n",
    "V_{02}\\\\\n",
    "\\end{bmatrix}\n",
    "$$\n",
    "\n",
    "The rest of the forward pass can be described as follows:\n",
    "\n",
    "$$softmax(V \\times f(Z) + V_0) = softmax(U) = \\begin{bmatrix} \n",
    "\\frac{e^{(u_1)}}{e^{(u_1)}+e^{(u_2)}}\\\\\n",
    "\\frac{e^{(u_2)}}{e^(u_1)+e^{(u_2)}}\\\\\n",
    "\\end{bmatrix}\n",
    "$$\n",
    "\n",
    "\n",
    "Lets see a piece of code to impliment the above math"
   ]
  },
  {
   "cell_type": "code",
   "execution_count": 1,
   "id": "721eee66-4a5f-450d-bfcc-a0b584f0590f",
   "metadata": {},
   "outputs": [],
   "source": [
    "import numpy as np\n",
    "X = np.matrix([[3,14]])\n",
    "W = np.matrix([[1,0],\n",
    "             [0,1],\n",
    "             [-1,0],\n",
    "             [0,-1]])\n",
    "W0 = np.matrix([[-1,-1,-1,-1]])\n",
    "V = np.matrix([[1,1,1,1],\n",
    "             [-1,-1,-1,-1]])\n",
    "V0 = np.matrix([[0,2]])\n",
    "\n",
    "def relu(z):\n",
    "    z[z<0]=0\n",
    "    return z\n",
    "\n",
    "def softmax(z):\n",
    "    z = np.exp(z)\n",
    "    z = z/z.sum(axis=0)\n",
    "    return z"
   ]
  },
  {
   "cell_type": "code",
   "execution_count": 2,
   "id": "58dc5f77-5bed-42bd-b409-90fd60e22245",
   "metadata": {},
   "outputs": [
    {
     "data": {
      "text/plain": [
       "(1, 2)"
      ]
     },
     "execution_count": 2,
     "metadata": {},
     "output_type": "execute_result"
    }
   ],
   "source": [
    "X.shape"
   ]
  },
  {
   "cell_type": "code",
   "execution_count": 3,
   "id": "4b08fe17-1031-4186-acee-216005ce40db",
   "metadata": {},
   "outputs": [
    {
     "data": {
      "text/plain": [
       "matrix([[ 3, 14]])"
      ]
     },
     "execution_count": 3,
     "metadata": {},
     "output_type": "execute_result"
    }
   ],
   "source": [
    "X"
   ]
  },
  {
   "cell_type": "code",
   "execution_count": 4,
   "id": "39ce1a1d-aa3f-4f8e-96a2-a867d2b90469",
   "metadata": {},
   "outputs": [],
   "source": [
    "X = X.reshape((2,1))"
   ]
  },
  {
   "cell_type": "code",
   "execution_count": 5,
   "id": "e55b7948-36fd-472f-abcb-42206a9fd6fd",
   "metadata": {},
   "outputs": [
    {
     "data": {
      "text/plain": [
       "matrix([[ 3],\n",
       "        [14]])"
      ]
     },
     "execution_count": 5,
     "metadata": {},
     "output_type": "execute_result"
    }
   ],
   "source": [
    "X"
   ]
  },
  {
   "cell_type": "code",
   "execution_count": 6,
   "id": "a3243d9e-a026-4448-a21c-adf367edbd7a",
   "metadata": {},
   "outputs": [
    {
     "data": {
      "text/plain": [
       "(4, 2)"
      ]
     },
     "execution_count": 6,
     "metadata": {},
     "output_type": "execute_result"
    }
   ],
   "source": [
    "W.shape"
   ]
  },
  {
   "cell_type": "code",
   "execution_count": 7,
   "id": "0539b149-bb30-4132-addd-a0d509bc5e8d",
   "metadata": {},
   "outputs": [
    {
     "data": {
      "text/plain": [
       "(1, 4)"
      ]
     },
     "execution_count": 7,
     "metadata": {},
     "output_type": "execute_result"
    }
   ],
   "source": [
    "W0.shape"
   ]
  },
  {
   "cell_type": "code",
   "execution_count": 8,
   "id": "853414af-613e-4c3c-8b79-13b15c395070",
   "metadata": {},
   "outputs": [],
   "source": [
    "W0 = W0.reshape((4,1))"
   ]
  },
  {
   "cell_type": "code",
   "execution_count": 9,
   "id": "20ae1b9f-68eb-4c9f-9092-882db6b425bf",
   "metadata": {},
   "outputs": [],
   "source": [
    "Z = W@X+W0"
   ]
  },
  {
   "cell_type": "code",
   "execution_count": 10,
   "id": "af1a412a-0add-4e66-b3ce-85eb88a3ee79",
   "metadata": {},
   "outputs": [
    {
     "data": {
      "text/plain": [
       "matrix([[  2],\n",
       "        [ 13],\n",
       "        [ -4],\n",
       "        [-15]])"
      ]
     },
     "execution_count": 10,
     "metadata": {},
     "output_type": "execute_result"
    }
   ],
   "source": [
    "Z"
   ]
  },
  {
   "cell_type": "code",
   "execution_count": 11,
   "id": "dad1a714-553a-47b0-81a7-086f653923d7",
   "metadata": {},
   "outputs": [
    {
     "data": {
      "text/plain": [
       "(4, 1)"
      ]
     },
     "execution_count": 11,
     "metadata": {},
     "output_type": "execute_result"
    }
   ],
   "source": [
    "Z.shape"
   ]
  },
  {
   "cell_type": "code",
   "execution_count": 12,
   "id": "ba3fa4ba-e7b4-4e8d-bbfa-9f19d07f39af",
   "metadata": {},
   "outputs": [
    {
     "data": {
      "text/plain": [
       "(2, 4)"
      ]
     },
     "execution_count": 12,
     "metadata": {},
     "output_type": "execute_result"
    }
   ],
   "source": [
    "V.shape"
   ]
  },
  {
   "cell_type": "code",
   "execution_count": 13,
   "id": "e06a98df-be00-4d0c-9669-168e9475c740",
   "metadata": {},
   "outputs": [
    {
     "data": {
      "text/plain": [
       "matrix([[-4],\n",
       "        [ 4]])"
      ]
     },
     "execution_count": 13,
     "metadata": {},
     "output_type": "execute_result"
    }
   ],
   "source": [
    "V@Z"
   ]
  },
  {
   "cell_type": "code",
   "execution_count": 14,
   "id": "bc0e0fb2-6d27-485e-a694-67ebb5af248b",
   "metadata": {},
   "outputs": [
    {
     "data": {
      "text/plain": [
       "(1, 2)"
      ]
     },
     "execution_count": 14,
     "metadata": {},
     "output_type": "execute_result"
    }
   ],
   "source": [
    "V0.shape"
   ]
  },
  {
   "cell_type": "code",
   "execution_count": 15,
   "id": "d53fd8dd-3e50-4143-b93e-e6a11d9a7fe3",
   "metadata": {},
   "outputs": [],
   "source": [
    "V0 = V0.reshape((2,1))"
   ]
  },
  {
   "cell_type": "code",
   "execution_count": 16,
   "id": "4826b171-f7cc-4777-9423-36f205ba7f00",
   "metadata": {},
   "outputs": [
    {
     "data": {
      "text/plain": [
       "matrix([[-4],\n",
       "        [ 6]])"
      ]
     },
     "execution_count": 16,
     "metadata": {},
     "output_type": "execute_result"
    }
   ],
   "source": [
    "V@Z+V0"
   ]
  },
  {
   "cell_type": "code",
   "execution_count": 17,
   "id": "abee3ec6-fe5f-4afb-ba8b-e7c1444db86d",
   "metadata": {},
   "outputs": [
    {
     "data": {
      "text/plain": [
       "matrix([[ 15],\n",
       "        [-13]])"
      ]
     },
     "execution_count": 17,
     "metadata": {},
     "output_type": "execute_result"
    }
   ],
   "source": [
    "V@relu(Z)+V0"
   ]
  },
  {
   "cell_type": "code",
   "execution_count": 18,
   "id": "efe14588-f3e7-4923-a47b-29ad8642b0f5",
   "metadata": {},
   "outputs": [
    {
     "data": {
      "text/plain": [
       "matrix([[15],\n",
       "        [ 0]])"
      ]
     },
     "execution_count": 18,
     "metadata": {},
     "output_type": "execute_result"
    }
   ],
   "source": [
    "relu(V@relu(Z)+V0)"
   ]
  },
  {
   "cell_type": "markdown",
   "id": "b1b6c17f-bb7f-4492-8f1e-e4829cd4a7e5",
   "metadata": {},
   "source": [
    "### Introduction to OOPs\n",
    "\n",
    "We will try to write neural networks using the idea of python classes. First we will learn how to write basic python classes and then we will use the same core logic as we have come up with till now to create class that can do a forward pass."
   ]
  },
  {
   "cell_type": "code",
   "execution_count": 19,
   "id": "f9b4b074-ba52-47db-84be-4ce2b5240533",
   "metadata": {},
   "outputs": [
    {
     "name": "stdout",
     "output_type": "stream",
     "text": [
      "The session names are ['Maths', 'Linear Classifiers', 'Reccommendation Engines', 'Kernels']\n",
      "The durations are [90, 90, 90, 90]\n",
      "['__class__', '__delattr__', '__dict__', '__dir__', '__doc__', '__eq__', '__format__', '__ge__', '__getattribute__', '__gt__', '__hash__', '__init__', '__init_subclass__', '__le__', '__lt__', '__module__', '__ne__', '__new__', '__reduce__', '__reduce_ex__', '__repr__', '__setattr__', '__sizeof__', '__str__', '__subclasshook__', '__weakref__', 'display', 'duration', 'session_name']\n"
     ]
    }
   ],
   "source": [
    "class MLMIT():\n",
    "    def __init__(self,session_name,duration):\n",
    "        self.session_name=session_name\n",
    "        self.duration=duration\n",
    "    def display(self):\n",
    "        print(\"The session names are {}\".format(self.session_name))\n",
    "        print(\"The durations are {}\".format(self.duration))\n",
    "c=MLMIT(session_name=[\"Maths\",\"Linear Classifiers\",\"Reccommendation Engines\",\"Kernels\"],\n",
    "           duration=[90,90,90,90])        \n",
    "c.display()\n",
    "print(dir(c))"
   ]
  },
  {
   "cell_type": "code",
   "execution_count": 20,
   "id": "c5e2f452-e13c-4c36-bd17-9dc10fee2f03",
   "metadata": {},
   "outputs": [
    {
     "data": {
      "text/plain": [
       "['Maths', 'Linear Classifiers', 'Reccommendation Engines', 'Kernels']"
      ]
     },
     "execution_count": 20,
     "metadata": {},
     "output_type": "execute_result"
    }
   ],
   "source": [
    "c.session_name"
   ]
  },
  {
   "cell_type": "code",
   "execution_count": 21,
   "id": "d527f704-3b74-4596-b10a-eeb27f37f8c7",
   "metadata": {},
   "outputs": [
    {
     "data": {
      "text/plain": [
       "[90, 90, 90, 90]"
      ]
     },
     "execution_count": 21,
     "metadata": {},
     "output_type": "execute_result"
    }
   ],
   "source": [
    "c.duration"
   ]
  },
  {
   "cell_type": "markdown",
   "id": "148e5c43-8caf-4b4f-a449-8c8eab55aeef",
   "metadata": {},
   "source": [
    "#### Class Excercise: \n",
    "Create a python class that can take the session_names, durations as input and output impliment a method called avg_duration() with computes the average duration of all the sessions."
   ]
  },
  {
   "cell_type": "code",
   "execution_count": 22,
   "id": "6dc52504-8d67-4807-b9a0-189e41cc152a",
   "metadata": {},
   "outputs": [],
   "source": [
    "class MLMIT():\n",
    "    def __init__(self,session_name,duration):\n",
    "        self.session_name = session_name\n",
    "        self.duration = duration\n",
    "    \n",
    "    def avg_duration(self):\n",
    "        n = len(self.duration)\n",
    "        avg = sum(self.duration)/n\n",
    "        return avg"
   ]
  },
  {
   "cell_type": "code",
   "execution_count": 23,
   "id": "9468dc79-57dd-4b92-8827-b8729c438842",
   "metadata": {},
   "outputs": [],
   "source": [
    "c = MLMIT(session_name=[\"Maths\",\"Linear Classifiers\",\"Reccommendation Engines\",\"Kernels\"],\n",
    "           duration=[90,90,90,90])"
   ]
  },
  {
   "cell_type": "code",
   "execution_count": 24,
   "id": "3f2248a6-ce2c-42e5-8a30-0f731835709e",
   "metadata": {},
   "outputs": [
    {
     "data": {
      "text/plain": [
       "90.0"
      ]
     },
     "execution_count": 24,
     "metadata": {},
     "output_type": "execute_result"
    }
   ],
   "source": [
    "c.avg_duration()"
   ]
  },
  {
   "cell_type": "markdown",
   "id": "93503ea2-a2c1-431e-ba25-7847a4668481",
   "metadata": {},
   "source": [
    "One can also write the same logic and encapsulate it in a python class."
   ]
  },
  {
   "cell_type": "code",
   "execution_count": 25,
   "id": "27575a4f-4390-4ece-91cc-e8baab40e947",
   "metadata": {},
   "outputs": [],
   "source": [
    "class NN():\n",
    "    def __init__(self,X):\n",
    "        self.W = np.matrix([[1,0],\n",
    "                             [0,1],\n",
    "                             [-1,0],\n",
    "                             [0,-1]])\n",
    "        self.W0 = np.matrix([[-1,-1,-1,-1]]).reshape((4,1))\n",
    "        self.V = np.matrix([[1,1,1,1],\n",
    "                         [-1,-1,-1,-1]])\n",
    "        self.V0 = np.matrix([[0,2]]).reshape((2,1))\n",
    "        self.X = X\n",
    "    def _relu(self,z):\n",
    "        z[z<0]=0\n",
    "        return z\n",
    "    def forward(self):\n",
    "        Z = W@X+W0\n",
    "        f_Z = self._relu(Z)\n",
    "        U = V@f_Z+V0\n",
    "        f_U = self._relu(U)\n",
    "        return f_U"
   ]
  },
  {
   "cell_type": "code",
   "execution_count": 26,
   "id": "dba8ebd6-21d4-437c-b9c9-f3f348f9bea2",
   "metadata": {},
   "outputs": [],
   "source": [
    "model = NN(X)"
   ]
  },
  {
   "cell_type": "code",
   "execution_count": 27,
   "id": "34a4b47b-92a2-4e72-9fbe-86b14772c039",
   "metadata": {},
   "outputs": [
    {
     "data": {
      "text/plain": [
       "matrix([[15],\n",
       "        [ 0]])"
      ]
     },
     "execution_count": 27,
     "metadata": {},
     "output_type": "execute_result"
    }
   ],
   "source": [
    "model.forward()"
   ]
  },
  {
   "cell_type": "code",
   "execution_count": null,
   "id": "494b5855-f396-4d72-a0a3-8d243d9da109",
   "metadata": {},
   "outputs": [],
   "source": []
  }
 ],
 "metadata": {
  "kernelspec": {
   "display_name": "Python 3 (ipykernel)",
   "language": "python",
   "name": "python3"
  },
  "language_info": {
   "codemirror_mode": {
    "name": "ipython",
    "version": 3
   },
   "file_extension": ".py",
   "mimetype": "text/x-python",
   "name": "python",
   "nbconvert_exporter": "python",
   "pygments_lexer": "ipython3",
   "version": "3.9.7"
  }
 },
 "nbformat": 4,
 "nbformat_minor": 5
}
