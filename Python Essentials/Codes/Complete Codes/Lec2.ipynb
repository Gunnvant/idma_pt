{
 "cells": [
  {
   "cell_type": "code",
   "execution_count": 1,
   "id": "ed5b3862-f03c-497c-86b2-d4bce700df52",
   "metadata": {},
   "outputs": [],
   "source": [
    "### Dictionaries\n",
    "table = {'id':[1,2,4,5],'Age':[23,24,25,26],'Gender':['M','F','M','F']}"
   ]
  },
  {
   "cell_type": "code",
   "execution_count": 2,
   "id": "f7caee0c-681c-4845-a5ec-5dab081452b4",
   "metadata": {},
   "outputs": [
    {
     "name": "stdout",
     "output_type": "stream",
     "text": [
      "{'Age': [23, 24, 25, 26], 'Gender': ['M', 'F', 'M', 'F']}\n"
     ]
    }
   ],
   "source": [
    "print(table)"
   ]
  },
  {
   "cell_type": "code",
   "execution_count": 3,
   "id": "0f0fa160-494d-4be5-a2c4-e02d46357978",
   "metadata": {},
   "outputs": [
    {
     "name": "stdout",
     "output_type": "stream",
     "text": [
      "Age\n",
      "Gender\n"
     ]
    }
   ],
   "source": [
    "for i in table:\n",
    "    print(i)"
   ]
  },
  {
   "cell_type": "code",
   "execution_count": 4,
   "id": "b11e6c99-34ab-486c-9a92-0d37e25271f7",
   "metadata": {},
   "outputs": [
    {
     "data": {
      "text/plain": [
       "1"
      ]
     },
     "execution_count": 4,
     "metadata": {},
     "output_type": "execute_result"
    }
   ],
   "source": [
    "l = [1,2,3,4,5]\n",
    "l[0]"
   ]
  },
  {
   "cell_type": "code",
   "execution_count": 8,
   "id": "d36bd926-60cf-430a-b286-73650cc3f506",
   "metadata": {},
   "outputs": [
    {
     "data": {
      "text/plain": [
       "list"
      ]
     },
     "execution_count": 8,
     "metadata": {},
     "output_type": "execute_result"
    }
   ],
   "source": [
    "type(table['Age'])"
   ]
  },
  {
   "cell_type": "code",
   "execution_count": 29,
   "id": "56865077-ead6-4665-9b08-144bf9e7e713",
   "metadata": {},
   "outputs": [
    {
     "data": {
      "text/plain": [
       "[23, 24, 25, 26]"
      ]
     },
     "execution_count": 29,
     "metadata": {},
     "output_type": "execute_result"
    }
   ],
   "source": [
    "table['Age']"
   ]
  },
  {
   "cell_type": "code",
   "execution_count": 21,
   "id": "54253193-e832-455e-8671-fe9ea4dfd65f",
   "metadata": {},
   "outputs": [],
   "source": [
    "table = {'Age':(23,24,25,26),1:('M','F','M','F'),'Age':{'salary':[2,3,4]}}"
   ]
  },
  {
   "cell_type": "code",
   "execution_count": 50,
   "id": "df2ceca8-b75d-4f59-b5ef-9030102f6af5",
   "metadata": {},
   "outputs": [],
   "source": [
    "table = {'id':[1,2,4,5],'Age':[23,24,25,26],'Gender':['M','F','M','F']}"
   ]
  },
  {
   "cell_type": "code",
   "execution_count": 25,
   "id": "8e8b1dfb-1a76-4df1-9ec0-8ab673f82f36",
   "metadata": {},
   "outputs": [
    {
     "name": "stdout",
     "output_type": "stream",
     "text": [
      "id [1, 2, 4, 5]\n",
      "Age [23, 24, 25, 26]\n",
      "Gender ['M', 'F', 'M', 'F']\n"
     ]
    }
   ],
   "source": [
    "for i in table:\n",
    "    print(i, table[i])"
   ]
  },
  {
   "cell_type": "code",
   "execution_count": 32,
   "id": "3b3f1b1a-f832-4d36-b009-ed531d9ad99b",
   "metadata": {},
   "outputs": [
    {
     "name": "stdout",
     "output_type": "stream",
     "text": [
      "id [1, 2, 4, 5]\n",
      "Age [23, 24, 25, 26]\n",
      "Gender ['M', 'F', 'M', 'F']\n"
     ]
    }
   ],
   "source": [
    "for i in table.items():\n",
    "    print(i[0],i[1])"
   ]
  },
  {
   "cell_type": "code",
   "execution_count": 40,
   "id": "e8acd2b0-a157-4e3a-893f-a7d941c41f66",
   "metadata": {},
   "outputs": [
    {
     "name": "stdout",
     "output_type": "stream",
     "text": [
      "id [1, 2, 4, 5]\n",
      "Age [23, 24, 25, 26]\n",
      "Gender ['M', 'F', 'M', 'F']\n"
     ]
    }
   ],
   "source": [
    "for a,b in table.items():\n",
    "    print(a,b)"
   ]
  },
  {
   "cell_type": "code",
   "execution_count": 30,
   "id": "edcb616d-b1a9-4567-a4f1-917b0e1c5721",
   "metadata": {},
   "outputs": [
    {
     "data": {
      "text/plain": [
       "dict_items([('id', [1, 2, 4, 5]), ('Age', [23, 24, 25, 26]), ('Gender', ['M', 'F', 'M', 'F'])])"
      ]
     },
     "execution_count": 30,
     "metadata": {},
     "output_type": "execute_result"
    }
   ],
   "source": [
    "table.items()"
   ]
  },
  {
   "cell_type": "code",
   "execution_count": 33,
   "id": "809b3a1d-019f-4989-8ce5-715dd33117da",
   "metadata": {},
   "outputs": [],
   "source": [
    "t = (1,2)"
   ]
  },
  {
   "cell_type": "code",
   "execution_count": 34,
   "id": "794d005a-4c57-4a8e-86e4-c7b9fb07145b",
   "metadata": {},
   "outputs": [
    {
     "data": {
      "text/plain": [
       "(1, 2)"
      ]
     },
     "execution_count": 34,
     "metadata": {},
     "output_type": "execute_result"
    }
   ],
   "source": [
    "t"
   ]
  },
  {
   "cell_type": "code",
   "execution_count": 36,
   "id": "33fd676d-060a-41aa-ac78-ea4ed864bcc9",
   "metadata": {},
   "outputs": [],
   "source": [
    "i,j = (1,2)"
   ]
  },
  {
   "cell_type": "code",
   "execution_count": 37,
   "id": "73b70bd1-c2ac-41d3-8c83-9662b0eca8d8",
   "metadata": {},
   "outputs": [
    {
     "data": {
      "text/plain": [
       "1"
      ]
     },
     "execution_count": 37,
     "metadata": {},
     "output_type": "execute_result"
    }
   ],
   "source": [
    "i"
   ]
  },
  {
   "cell_type": "code",
   "execution_count": 38,
   "id": "8d67166c-ef33-4a5f-9274-2c0eba9d1745",
   "metadata": {},
   "outputs": [
    {
     "data": {
      "text/plain": [
       "2"
      ]
     },
     "execution_count": 38,
     "metadata": {},
     "output_type": "execute_result"
    }
   ],
   "source": [
    "j"
   ]
  },
  {
   "cell_type": "code",
   "execution_count": 41,
   "id": "5ff8f0d8-e4c8-4e86-b6d9-f6ee346252e5",
   "metadata": {},
   "outputs": [
    {
     "name": "stdout",
     "output_type": "stream",
     "text": [
      "['__class__', '__class_getitem__', '__contains__', '__delattr__', '__delitem__', '__dir__', '__doc__', '__eq__', '__format__', '__ge__', '__getattribute__', '__getitem__', '__gt__', '__hash__', '__init__', '__init_subclass__', '__ior__', '__iter__', '__le__', '__len__', '__lt__', '__ne__', '__new__', '__or__', '__reduce__', '__reduce_ex__', '__repr__', '__reversed__', '__ror__', '__setattr__', '__setitem__', '__sizeof__', '__str__', '__subclasshook__', 'clear', 'copy', 'fromkeys', 'get', 'items', 'keys', 'pop', 'popitem', 'setdefault', 'update', 'values']\n"
     ]
    }
   ],
   "source": [
    "print(dir(table))"
   ]
  },
  {
   "cell_type": "code",
   "execution_count": 42,
   "id": "86c3b478-f72d-4dec-b4e7-ba105a7153a2",
   "metadata": {},
   "outputs": [
    {
     "data": {
      "text/plain": [
       "dict_keys(['id', 'Age', 'Gender'])"
      ]
     },
     "execution_count": 42,
     "metadata": {},
     "output_type": "execute_result"
    }
   ],
   "source": [
    "table.keys()"
   ]
  },
  {
   "cell_type": "code",
   "execution_count": 43,
   "id": "9926d2bd-ae46-49fe-ba05-32875b99bbda",
   "metadata": {},
   "outputs": [
    {
     "data": {
      "text/plain": [
       "dict_values([[1, 2, 4, 5], [23, 24, 25, 26], ['M', 'F', 'M', 'F']])"
      ]
     },
     "execution_count": 43,
     "metadata": {},
     "output_type": "execute_result"
    }
   ],
   "source": [
    "table.values()"
   ]
  },
  {
   "cell_type": "code",
   "execution_count": 52,
   "id": "011b8e5d-e36e-46dd-8eba-febd4a978cdf",
   "metadata": {},
   "outputs": [],
   "source": [
    "table['new_key'] = 'value'"
   ]
  },
  {
   "cell_type": "code",
   "execution_count": 69,
   "id": "33cd4c9c-9504-4286-b508-9c3d6273c675",
   "metadata": {},
   "outputs": [
    {
     "data": {
      "text/plain": [
       "True"
      ]
     },
     "execution_count": 69,
     "metadata": {},
     "output_type": "execute_result"
    }
   ],
   "source": [
    "'id' in table"
   ]
  },
  {
   "cell_type": "code",
   "execution_count": 70,
   "id": "9cbdceb9-f502-4ad4-8885-06ba33459654",
   "metadata": {},
   "outputs": [
    {
     "data": {
      "text/plain": [
       "{'id': [1, 2, 4, 5],\n",
       " 'Age': [23, 24, 25, 26],\n",
       " 'Gender': ['M', 'F', 'M', 'F'],\n",
       " 'new_key': 'value'}"
      ]
     },
     "execution_count": 70,
     "metadata": {},
     "output_type": "execute_result"
    }
   ],
   "source": [
    "table"
   ]
  },
  {
   "cell_type": "code",
   "execution_count": 61,
   "id": "747f2d30-fd28-4c02-a912-2fd71c287aa9",
   "metadata": {},
   "outputs": [],
   "source": [
    "e = {}"
   ]
  },
  {
   "cell_type": "code",
   "execution_count": 62,
   "id": "c0430980-96e0-47e9-91af-b6086c3aa340",
   "metadata": {},
   "outputs": [],
   "source": [
    "e['gender'] = ['M','F','M']"
   ]
  },
  {
   "cell_type": "code",
   "execution_count": 63,
   "id": "1c5b56be-59fe-42e5-836f-56e4775b9c45",
   "metadata": {},
   "outputs": [
    {
     "data": {
      "text/plain": [
       "{'gender': ['M', 'F', 'M']}"
      ]
     },
     "execution_count": 63,
     "metadata": {},
     "output_type": "execute_result"
    }
   ],
   "source": [
    "e"
   ]
  },
  {
   "cell_type": "code",
   "execution_count": 64,
   "id": "d1e892d1-32ea-40fb-8cb1-2cb4ec4e2fa9",
   "metadata": {},
   "outputs": [],
   "source": [
    "ghalib = [\n",
    "'''\n",
    "It’s only my heart, not unfeeling stone,\n",
    "so why be dismayed when it throbs with pain?\n",
    "It was made to suffer ten thousand darts;\n",
    "why let one more torment impede us?\n",
    "''',\n",
    "\n",
    "'''\n",
    "The miracle of your absence\n",
    "is that I found myself endlessly searching for you.\n",
    "''',\n",
    "\n",
    "'''\n",
    "On the subject of mystic philosophy, Ghalib,\n",
    "your words might have struck us as deeply profound\n",
    "and we might have pronounced you a saint ...\n",
    "Yes, if only we hadn't found\n",
    "you drunk\n",
    "as a skunk!\n",
    "''',\n",
    "    \n",
    "'''\n",
    "Not the blossomings of songs nor the adornments of music:\n",
    "I am the voice of my own heart breaking.\n",
    "You toy with your long, dark curls\n",
    "while I remain captive to my dark, pensive thoughts.\n",
    "We congratulate ourselves that we two are different:\n",
    "that this weakness has not burdened us both with inchoate grief.\n",
    "Now you are here, and I find myself bowing—\n",
    "as if sadness is a blessing, and longing a sacrament.\n",
    "I am a fragment of sound rebounding;\n",
    "you are the walls impounding my echoes.\n",
    "''',\n",
    "    \n",
    "'''\n",
    "All your life, O Ghalib,\n",
    "You kept repeating the same mistake:\n",
    "Your face was dirty\n",
    "But you were obsessed with cleaning the mirror!\n",
    "'''\n",
    "]"
   ]
  },
  {
   "cell_type": "code",
   "execution_count": 65,
   "id": "3685b2ef-6b39-4741-87f3-1cf4a4cb5b3b",
   "metadata": {},
   "outputs": [],
   "source": [
    "sent = \"This is a a sentence\""
   ]
  },
  {
   "cell_type": "code",
   "execution_count": 66,
   "id": "91e0c626-4fb6-4bed-a598-47e776a3a54f",
   "metadata": {},
   "outputs": [],
   "source": [
    "bow = sent.split(\" \")"
   ]
  },
  {
   "cell_type": "code",
   "execution_count": 67,
   "id": "6a805c5c-bd8e-44db-94c3-da2fe9a5a9cf",
   "metadata": {},
   "outputs": [
    {
     "data": {
      "text/plain": [
       "['This', 'is', 'a', 'a', 'sentence']"
      ]
     },
     "execution_count": 67,
     "metadata": {},
     "output_type": "execute_result"
    }
   ],
   "source": [
    "bow"
   ]
  },
  {
   "cell_type": "code",
   "execution_count": 71,
   "id": "e2f7588b-e01e-44d2-acc5-703f8c9876f6",
   "metadata": {},
   "outputs": [],
   "source": [
    "### You can always create an empty dict\n",
    "e = {}"
   ]
  },
  {
   "cell_type": "code",
   "execution_count": 72,
   "id": "577ecf4e-c61d-4056-9aeb-36cc797b642c",
   "metadata": {},
   "outputs": [
    {
     "data": {
      "text/plain": [
       "{}"
      ]
     },
     "execution_count": 72,
     "metadata": {},
     "output_type": "execute_result"
    }
   ],
   "source": [
    "e"
   ]
  },
  {
   "cell_type": "code",
   "execution_count": 73,
   "id": "b3ad5645-bc2d-4748-b998-c374f267e0f1",
   "metadata": {},
   "outputs": [],
   "source": [
    "### You can also fill up the empty dict\n",
    "e['key'] = 1"
   ]
  },
  {
   "cell_type": "code",
   "execution_count": 74,
   "id": "73dc5719-24b9-43d2-ba67-8ebb04dbb7c5",
   "metadata": {},
   "outputs": [
    {
     "data": {
      "text/plain": [
       "{'key': 1}"
      ]
     },
     "execution_count": 74,
     "metadata": {},
     "output_type": "execute_result"
    }
   ],
   "source": [
    "e"
   ]
  },
  {
   "cell_type": "code",
   "execution_count": 75,
   "id": "e08d5320-4be3-4d7f-9e1b-0263353aafed",
   "metadata": {},
   "outputs": [
    {
     "data": {
      "text/plain": [
       "True"
      ]
     },
     "execution_count": 75,
     "metadata": {},
     "output_type": "execute_result"
    }
   ],
   "source": [
    "### You can also check if a key is a part of the dict\n",
    "'key' in e"
   ]
  },
  {
   "cell_type": "code",
   "execution_count": 76,
   "id": "de9b0ed3-5974-481b-aa74-e7bea600bc76",
   "metadata": {},
   "outputs": [
    {
     "data": {
      "text/plain": [
       "['This', 'is', 'a', 'a', 'sentence']"
      ]
     },
     "execution_count": 76,
     "metadata": {},
     "output_type": "execute_result"
    }
   ],
   "source": [
    "bow"
   ]
  },
  {
   "cell_type": "code",
   "execution_count": 90,
   "id": "57586b7e-e1f7-4b22-ae51-f600e2c51827",
   "metadata": {},
   "outputs": [
    {
     "data": {
      "text/plain": [
       "False"
      ]
     },
     "execution_count": 90,
     "metadata": {},
     "output_type": "execute_result"
    }
   ],
   "source": [
    "count = {}\n",
    "## Iter 1\n",
    "'This' in count"
   ]
  },
  {
   "cell_type": "code",
   "execution_count": 91,
   "id": "ed10d1cb-2128-41a5-8378-4810f31a7c1c",
   "metadata": {},
   "outputs": [],
   "source": [
    "count['This'] = 1"
   ]
  },
  {
   "cell_type": "code",
   "execution_count": 92,
   "id": "e24be629-e185-4da6-853d-d8f15f8afcc3",
   "metadata": {},
   "outputs": [
    {
     "data": {
      "text/plain": [
       "{'This': 1}"
      ]
     },
     "execution_count": 92,
     "metadata": {},
     "output_type": "execute_result"
    }
   ],
   "source": [
    "count"
   ]
  },
  {
   "cell_type": "code",
   "execution_count": 93,
   "id": "da09ecbe-3a05-4a1c-a819-5d9c80cbd263",
   "metadata": {},
   "outputs": [
    {
     "data": {
      "text/plain": [
       "False"
      ]
     },
     "execution_count": 93,
     "metadata": {},
     "output_type": "execute_result"
    }
   ],
   "source": [
    "## iter 2\n",
    "'is' in count"
   ]
  },
  {
   "cell_type": "code",
   "execution_count": 94,
   "id": "2e5ee9ed-8573-44aa-813c-dd272036e74d",
   "metadata": {},
   "outputs": [],
   "source": [
    "count['is'] = 1"
   ]
  },
  {
   "cell_type": "code",
   "execution_count": 95,
   "id": "e669f89b-c923-47b8-a105-38fd13ca7c57",
   "metadata": {},
   "outputs": [
    {
     "data": {
      "text/plain": [
       "{'This': 1, 'is': 1}"
      ]
     },
     "execution_count": 95,
     "metadata": {},
     "output_type": "execute_result"
    }
   ],
   "source": [
    "count"
   ]
  },
  {
   "cell_type": "code",
   "execution_count": 96,
   "id": "80434814-ba18-4836-ae94-41d6fe23dd80",
   "metadata": {},
   "outputs": [
    {
     "data": {
      "text/plain": [
       "False"
      ]
     },
     "execution_count": 96,
     "metadata": {},
     "output_type": "execute_result"
    }
   ],
   "source": [
    "## Iter 3\n",
    "'a' in count"
   ]
  },
  {
   "cell_type": "code",
   "execution_count": 97,
   "id": "ecbb1e74-314f-4069-8805-ccfa23719027",
   "metadata": {},
   "outputs": [],
   "source": [
    "count['a'] = 1"
   ]
  },
  {
   "cell_type": "code",
   "execution_count": 98,
   "id": "6d1839ce-aa0c-4fea-be4b-4f1e467f244c",
   "metadata": {},
   "outputs": [
    {
     "data": {
      "text/plain": [
       "{'This': 1, 'is': 1, 'a': 1}"
      ]
     },
     "execution_count": 98,
     "metadata": {},
     "output_type": "execute_result"
    }
   ],
   "source": [
    "count"
   ]
  },
  {
   "cell_type": "code",
   "execution_count": 99,
   "id": "f720b5a5-9336-4d27-840e-34bdd5e0847c",
   "metadata": {},
   "outputs": [
    {
     "data": {
      "text/plain": [
       "True"
      ]
     },
     "execution_count": 99,
     "metadata": {},
     "output_type": "execute_result"
    }
   ],
   "source": [
    "## Iter 4\n",
    "'a' in count"
   ]
  },
  {
   "cell_type": "code",
   "execution_count": 113,
   "id": "4ae1a5d8-3913-4566-936d-df291919c385",
   "metadata": {},
   "outputs": [],
   "source": [
    "a = {'count':1}"
   ]
  },
  {
   "cell_type": "code",
   "execution_count": null,
   "id": "e2432f8a-1428-4162-961c-63949440f747",
   "metadata": {},
   "outputs": [],
   "source": [
    "a['count'] = a['count']+1"
   ]
  },
  {
   "cell_type": "code",
   "execution_count": null,
   "id": "9c112681-bfad-4b2b-8320-1fc51073a0da",
   "metadata": {},
   "outputs": [
    {
     "data": {
      "text/plain": [
       "{'count': (1, 2)}"
      ]
     },
     "execution_count": 108,
     "metadata": {},
     "output_type": "execute_result"
    }
   ],
   "source": [
    "a"
   ]
  },
  {
   "cell_type": "code",
   "execution_count": 88,
   "id": "fb02c45c-d8fa-4007-a649-71ade5661336",
   "metadata": {},
   "outputs": [],
   "source": [
    "count['a'] = count['a']+1"
   ]
  },
  {
   "cell_type": "code",
   "execution_count": 89,
   "id": "8d239709-6346-46b4-ab35-02a37e77c127",
   "metadata": {},
   "outputs": [
    {
     "data": {
      "text/plain": [
       "{'This': 1, 'is': 1, 'a': 2}"
      ]
     },
     "execution_count": 112,
     "metadata": {},
     "output_type": "execute_result"
    }
   ],
   "source": [
    "count"
   ]
  },
  {
   "cell_type": "code",
   "execution_count": 114,
   "id": "6c6125e7-d029-4da0-9fb0-cc8137b663ae",
   "metadata": {},
   "outputs": [],
   "source": [
    "## Now solve the smaller problem\n",
    "sent = \"This is a a sentence\"\n",
    "bow = sent.split(\" \")\n",
    "count = {}\n",
    "for word in bow:\n",
    "    if word in count:\n",
    "        count[word] = count[word]+1\n",
    "    else:\n",
    "        count[word] = 1"
   ]
  },
  {
   "cell_type": "code",
   "execution_count": 115,
   "id": "64ec04d5-944b-49d7-83fc-174db71ac1f0",
   "metadata": {},
   "outputs": [
    {
     "data": {
      "text/plain": [
       "{'This': 1, 'is': 1, 'a': 2, 'sentence': 1}"
      ]
     },
     "execution_count": 115,
     "metadata": {},
     "output_type": "execute_result"
    }
   ],
   "source": [
    "count"
   ]
  },
  {
   "cell_type": "code",
   "execution_count": 121,
   "id": "651b3059-c45e-4a56-83dd-4fd2eefea78f",
   "metadata": {},
   "outputs": [
    {
     "name": "stdout",
     "output_type": "stream",
     "text": [
      "['\\nIt’s', 'only', 'my', 'heart,', 'not', 'unfeeling', 'stone,\\nso', 'why', 'be', 'dismayed', 'when', 'it', 'throbs', 'with', 'pain?\\nIt', 'was', 'made', 'to', 'suffer', 'ten', 'thousand', 'darts;\\nwhy', 'let', 'one', 'more', 'torment', 'impede', 'us?\\n']\n",
      "['\\nThe', 'miracle', 'of', 'your', 'absence\\nis', 'that', 'I', 'found', 'myself', 'endlessly', 'searching', 'for', 'you.\\n']\n",
      "['\\nOn', 'the', 'subject', 'of', 'mystic', 'philosophy,', 'Ghalib,\\nyour', 'words', 'might', 'have', 'struck', 'us', 'as', 'deeply', 'profound\\nand', 'we', 'might', 'have', 'pronounced', 'you', 'a', 'saint', '...\\nYes,', 'if', 'only', 'we', \"hadn't\", 'found\\nyou', 'drunk\\nas', 'a', 'skunk!\\n']\n",
      "['\\nNot', 'the', 'blossomings', 'of', 'songs', 'nor', 'the', 'adornments', 'of', 'music:\\nI', 'am', 'the', 'voice', 'of', 'my', 'own', 'heart', 'breaking.\\nYou', 'toy', 'with', 'your', 'long,', 'dark', 'curls\\nwhile', 'I', 'remain', 'captive', 'to', 'my', 'dark,', 'pensive', 'thoughts.\\nWe', 'congratulate', 'ourselves', 'that', 'we', 'two', 'are', 'different:\\nthat', 'this', 'weakness', 'has', 'not', 'burdened', 'us', 'both', 'with', 'inchoate', 'grief.\\nNow', 'you', 'are', 'here,', 'and', 'I', 'find', 'myself', 'bowing—\\nas', 'if', 'sadness', 'is', 'a', 'blessing,', 'and', 'longing', 'a', 'sacrament.\\nI', 'am', 'a', 'fragment', 'of', 'sound', 'rebounding;\\nyou', 'are', 'the', 'walls', 'impounding', 'my', 'echoes.\\n']\n",
      "['\\nAll', 'your', 'life,', 'O', 'Ghalib,\\nYou', 'kept', 'repeating', 'the', 'same', 'mistake:\\nYour', 'face', 'was', 'dirty\\nBut', 'you', 'were', 'obsessed', 'with', 'cleaning', 'the', 'mirror!\\n']\n"
     ]
    }
   ],
   "source": [
    "for para in ghalib:\n",
    "    print(para.split(\" \"))"
   ]
  },
  {
   "cell_type": "code",
   "execution_count": 122,
   "id": "35c53db3-4c08-40d1-adbc-b2b1baaaf796",
   "metadata": {},
   "outputs": [],
   "source": [
    "count = {}\n",
    "for para in ghalib:\n",
    "    for word in para.replace('\\n',\"\").split(\" \"):\n",
    "        if word.lower() in count:\n",
    "            count[word.lower()] = count[word.lower()]+1\n",
    "        else:\n",
    "            count[word.lower()] = 1"
   ]
  },
  {
   "cell_type": "code",
   "execution_count": 124,
   "id": "3f641323-89ba-4b19-aebd-a6eb30c6b629",
   "metadata": {},
   "outputs": [],
   "source": [
    "### Files and reading them\n",
    "import pandas"
   ]
  },
  {
   "cell_type": "code",
   "execution_count": null,
   "id": "d251952b-9adb-45ad-ac6f-e688ea9977f5",
   "metadata": {},
   "outputs": [],
   "source": [
    "path = r\"/Users/gunnvantsaini/OneDrive/consulting/dono/idma_pt/Python Essentials/data/stores.csv\"\n",
    "stores = pandas.read_csv(path)"
   ]
  },
  {
   "cell_type": "code",
   "execution_count": 136,
   "id": "414939d8-73ae-4882-82bd-5a7deb215969",
   "metadata": {},
   "outputs": [
    {
     "data": {
      "text/html": [
       "<div>\n",
       "<style scoped>\n",
       "    .dataframe tbody tr th:only-of-type {\n",
       "        vertical-align: middle;\n",
       "    }\n",
       "\n",
       "    .dataframe tbody tr th {\n",
       "        vertical-align: top;\n",
       "    }\n",
       "\n",
       "    .dataframe thead th {\n",
       "        text-align: right;\n",
       "    }\n",
       "</style>\n",
       "<table border=\"1\" class=\"dataframe\">\n",
       "  <thead>\n",
       "    <tr style=\"text-align: right;\">\n",
       "      <th></th>\n",
       "      <th>Ship Date</th>\n",
       "      <th>Customer ID</th>\n",
       "    </tr>\n",
       "  </thead>\n",
       "  <tbody>\n",
       "    <tr>\n",
       "      <th>0</th>\n",
       "      <td>11-12-2013</td>\n",
       "      <td>CG-12520</td>\n",
       "    </tr>\n",
       "    <tr>\n",
       "      <th>1</th>\n",
       "      <td>11-12-2013</td>\n",
       "      <td>CG-12520</td>\n",
       "    </tr>\n",
       "    <tr>\n",
       "      <th>2</th>\n",
       "      <td>6/17/2013</td>\n",
       "      <td>DV-13045</td>\n",
       "    </tr>\n",
       "    <tr>\n",
       "      <th>3</th>\n",
       "      <td>10/18/2012</td>\n",
       "      <td>SO-20335</td>\n",
       "    </tr>\n",
       "    <tr>\n",
       "      <th>4</th>\n",
       "      <td>10/18/2012</td>\n",
       "      <td>SO-20335</td>\n",
       "    </tr>\n",
       "    <tr>\n",
       "      <th>...</th>\n",
       "      <td>...</td>\n",
       "      <td>...</td>\n",
       "    </tr>\n",
       "    <tr>\n",
       "      <th>9989</th>\n",
       "      <td>1/24/2011</td>\n",
       "      <td>TB-21400</td>\n",
       "    </tr>\n",
       "    <tr>\n",
       "      <th>9990</th>\n",
       "      <td>03-04-2014</td>\n",
       "      <td>DB-13060</td>\n",
       "    </tr>\n",
       "    <tr>\n",
       "      <th>9991</th>\n",
       "      <td>03-04-2014</td>\n",
       "      <td>DB-13060</td>\n",
       "    </tr>\n",
       "    <tr>\n",
       "      <th>9992</th>\n",
       "      <td>03-04-2014</td>\n",
       "      <td>DB-13060</td>\n",
       "    </tr>\n",
       "    <tr>\n",
       "      <th>9993</th>\n",
       "      <td>05-10-2014</td>\n",
       "      <td>CC-12220</td>\n",
       "    </tr>\n",
       "  </tbody>\n",
       "</table>\n",
       "<p>9994 rows × 2 columns</p>\n",
       "</div>"
      ],
      "text/plain": [
       "       Ship Date Customer ID\n",
       "0     11-12-2013    CG-12520\n",
       "1     11-12-2013    CG-12520\n",
       "2      6/17/2013    DV-13045\n",
       "3     10/18/2012    SO-20335\n",
       "4     10/18/2012    SO-20335\n",
       "...          ...         ...\n",
       "9989   1/24/2011    TB-21400\n",
       "9990  03-04-2014    DB-13060\n",
       "9991  03-04-2014    DB-13060\n",
       "9992  03-04-2014    DB-13060\n",
       "9993  05-10-2014    CC-12220\n",
       "\n",
       "[9994 rows x 2 columns]"
      ]
     },
     "execution_count": 136,
     "metadata": {},
     "output_type": "execute_result"
    }
   ],
   "source": [
    "stores[['Ship Date','Customer ID']]"
   ]
  },
  {
   "cell_type": "code",
   "execution_count": 131,
   "id": "8f741739-7076-41cb-826f-14b5c61c65d5",
   "metadata": {},
   "outputs": [
    {
     "data": {
      "text/plain": [
       "0         Second Class\n",
       "1         Second Class\n",
       "2         Second Class\n",
       "3       Standard Class\n",
       "4       Standard Class\n",
       "             ...      \n",
       "9989      Second Class\n",
       "9990    Standard Class\n",
       "9991    Standard Class\n",
       "9992    Standard Class\n",
       "9993      Second Class\n",
       "Name: Ship Mode, Length: 9994, dtype: object"
      ]
     },
     "execution_count": 131,
     "metadata": {},
     "output_type": "execute_result"
    }
   ],
   "source": [
    "stores['Ship Mode']"
   ]
  },
  {
   "cell_type": "code",
   "execution_count": 132,
   "id": "37051c8d-915e-4097-90e5-545b67bd9ac4",
   "metadata": {},
   "outputs": [],
   "source": [
    "data = {'id':[1,2,4,5],'Age':[23,24,25,26],'Gender':['M','F','M','F']} ## not the only data that can be converted to pandas table"
   ]
  },
  {
   "cell_type": "code",
   "execution_count": 133,
   "id": "630803d6-55eb-4ad6-b3d3-d7c97eb44016",
   "metadata": {},
   "outputs": [],
   "source": [
    "pandas_table = pandas.DataFrame(data)"
   ]
  },
  {
   "cell_type": "code",
   "execution_count": 134,
   "id": "df1b4380-eac0-4e76-9175-310ad0013af0",
   "metadata": {},
   "outputs": [
    {
     "data": {
      "text/html": [
       "<div>\n",
       "<style scoped>\n",
       "    .dataframe tbody tr th:only-of-type {\n",
       "        vertical-align: middle;\n",
       "    }\n",
       "\n",
       "    .dataframe tbody tr th {\n",
       "        vertical-align: top;\n",
       "    }\n",
       "\n",
       "    .dataframe thead th {\n",
       "        text-align: right;\n",
       "    }\n",
       "</style>\n",
       "<table border=\"1\" class=\"dataframe\">\n",
       "  <thead>\n",
       "    <tr style=\"text-align: right;\">\n",
       "      <th></th>\n",
       "      <th>id</th>\n",
       "      <th>Age</th>\n",
       "      <th>Gender</th>\n",
       "    </tr>\n",
       "  </thead>\n",
       "  <tbody>\n",
       "    <tr>\n",
       "      <th>0</th>\n",
       "      <td>1</td>\n",
       "      <td>23</td>\n",
       "      <td>M</td>\n",
       "    </tr>\n",
       "    <tr>\n",
       "      <th>1</th>\n",
       "      <td>2</td>\n",
       "      <td>24</td>\n",
       "      <td>F</td>\n",
       "    </tr>\n",
       "    <tr>\n",
       "      <th>2</th>\n",
       "      <td>4</td>\n",
       "      <td>25</td>\n",
       "      <td>M</td>\n",
       "    </tr>\n",
       "    <tr>\n",
       "      <th>3</th>\n",
       "      <td>5</td>\n",
       "      <td>26</td>\n",
       "      <td>F</td>\n",
       "    </tr>\n",
       "  </tbody>\n",
       "</table>\n",
       "</div>"
      ],
      "text/plain": [
       "   id  Age Gender\n",
       "0   1   23      M\n",
       "1   2   24      F\n",
       "2   4   25      M\n",
       "3   5   26      F"
      ]
     },
     "execution_count": 134,
     "metadata": {},
     "output_type": "execute_result"
    }
   ],
   "source": [
    "pandas_table"
   ]
  },
  {
   "cell_type": "code",
   "execution_count": 144,
   "id": "9f76751a-6c4e-412d-9772-4ad1ad6c21ba",
   "metadata": {},
   "outputs": [],
   "source": [
    "path = r\"/Users/gunnvantsaini/OneDrive/consulting/dono/idma_pt_local/Python Essentials/data/test.csv\"\n",
    "pandas_table.to_csv(path,index=False)"
   ]
  },
  {
   "cell_type": "code",
   "execution_count": 149,
   "id": "7d97245a-0857-4722-be5d-f7af1e5fa570",
   "metadata": {},
   "outputs": [],
   "source": [
    "import csv ## Another way to do file I/O"
   ]
  },
  {
   "cell_type": "code",
   "execution_count": 153,
   "id": "14c03596-8855-420e-a453-c04bd3c7df66",
   "metadata": {},
   "outputs": [],
   "source": [
    "path = r\"/Users/gunnvantsaini/OneDrive/consulting/dono/idma_pt_local/Python Essentials/data/test.csv\"\n",
    "con = open(path,\"r\") ### Connection between the file you want to read/write"
   ]
  },
  {
   "cell_type": "code",
   "execution_count": 154,
   "id": "fc4161e2-6166-4cad-a736-c77233068181",
   "metadata": {},
   "outputs": [],
   "source": [
    "reader = csv.DictReader(con,delimiter=\",\")"
   ]
  },
  {
   "cell_type": "code",
   "execution_count": 155,
   "id": "120cc0d9-dd9c-4e2e-8ab0-db964653e815",
   "metadata": {},
   "outputs": [
    {
     "name": "stdout",
     "output_type": "stream",
     "text": [
      "{'id': '1', 'Age': '23', 'Gender': 'M'}\n",
      "{'id': '2', 'Age': '24', 'Gender': 'F'}\n",
      "{'id': '4', 'Age': '25', 'Gender': 'M'}\n",
      "{'id': '5', 'Age': '26', 'Gender': 'F'}\n"
     ]
    }
   ],
   "source": [
    "for row in reader:\n",
    "    print(row)"
   ]
  },
  {
   "cell_type": "code",
   "execution_count": 156,
   "id": "86f1c9ac-4a25-48a1-83af-d3ad7769e708",
   "metadata": {},
   "outputs": [],
   "source": [
    "con.close()"
   ]
  },
  {
   "cell_type": "code",
   "execution_count": 158,
   "id": "b729c02d-eae6-4fba-850e-bffe9761ab41",
   "metadata": {},
   "outputs": [],
   "source": [
    "path_folder = r\"/Users/gunnvantsaini/OneDrive/consulting/dono/idma_pt_local/Python Essentials/data\""
   ]
  },
  {
   "cell_type": "code",
   "execution_count": 159,
   "id": "c307184b-88d0-4689-b933-b9b86f36329b",
   "metadata": {},
   "outputs": [
    {
     "data": {
      "text/plain": [
       "'/Users/gunnvantsaini/OneDrive/consulting/dono/idma_pt_local/Python Essentials/data'"
      ]
     },
     "execution_count": 159,
     "metadata": {},
     "output_type": "execute_result"
    }
   ],
   "source": [
    "path_folder"
   ]
  },
  {
   "cell_type": "code",
   "execution_count": 167,
   "id": "e50be13f-38ee-4e10-895e-ddc588d3d9f5",
   "metadata": {},
   "outputs": [],
   "source": [
    "file_name = \"file.csv\""
   ]
  },
  {
   "cell_type": "code",
   "execution_count": 161,
   "id": "be8058fa-ca03-42aa-9071-9b1e6d79b333",
   "metadata": {},
   "outputs": [
    {
     "data": {
      "text/plain": [
       "'/Users/gunnvantsaini/OneDrive/consulting/dono/idma_pt_local/Python Essentials/data/file.csv'"
      ]
     },
     "execution_count": 161,
     "metadata": {},
     "output_type": "execute_result"
    }
   ],
   "source": [
    "path_folder+file_name"
   ]
  },
  {
   "cell_type": "code",
   "execution_count": 162,
   "id": "7ff017d9-9f57-48b1-aad2-c74fd51f5d6c",
   "metadata": {},
   "outputs": [],
   "source": [
    "path_folder = r\"/Users/gunnvantsaini/OneDrive/consulting/dono/idma_pt_local/Python Essentials/data/{}\""
   ]
  },
  {
   "cell_type": "code",
   "execution_count": 165,
   "id": "5475ddf9-ee2a-4e6e-a967-c13b885fd01d",
   "metadata": {},
   "outputs": [
    {
     "data": {
      "text/plain": [
       "'/Users/gunnvantsaini/OneDrive/consulting/dono/idma_pt_local/Python Essentials/data/file.csv'"
      ]
     },
     "execution_count": 165,
     "metadata": {},
     "output_type": "execute_result"
    }
   ],
   "source": [
    "path_folder.format(file_name)"
   ]
  },
  {
   "cell_type": "code",
   "execution_count": 166,
   "id": "2835cc11-3386-4185-a056-a6087310bbce",
   "metadata": {},
   "outputs": [],
   "source": [
    "import os"
   ]
  },
  {
   "cell_type": "code",
   "execution_count": 168,
   "id": "6a9489db-9aae-4187-9e00-35fa937e4225",
   "metadata": {},
   "outputs": [],
   "source": [
    "path_folder = r\"/Users/gunnvantsaini/OneDrive/consulting/dono/idma_pt_local/Python Essentials/data\""
   ]
  },
  {
   "cell_type": "code",
   "execution_count": 169,
   "id": "c99f9546-9948-46e4-9c6e-495b2b755e8b",
   "metadata": {},
   "outputs": [
    {
     "data": {
      "text/plain": [
       "'file.csv'"
      ]
     },
     "execution_count": 169,
     "metadata": {},
     "output_type": "execute_result"
    }
   ],
   "source": [
    "file_name"
   ]
  },
  {
   "cell_type": "code",
   "execution_count": 170,
   "id": "5074b8ea-e2dd-45bd-9298-1f36395fe617",
   "metadata": {},
   "outputs": [
    {
     "data": {
      "text/plain": [
       "'/Users/gunnvantsaini/OneDrive/consulting/dono/idma_pt_local/Python Essentials/data/file.csv'"
      ]
     },
     "execution_count": 170,
     "metadata": {},
     "output_type": "execute_result"
    }
   ],
   "source": [
    "os.path.join(path_folder,file_name)"
   ]
  },
  {
   "cell_type": "code",
   "execution_count": null,
   "id": "488209d2-a8e6-4c15-80e3-f6093c183f7b",
   "metadata": {},
   "outputs": [],
   "source": []
  }
 ],
 "metadata": {
  "kernelspec": {
   "display_name": "Python 3",
   "language": "python",
   "name": "python3"
  },
  "language_info": {
   "codemirror_mode": {
    "name": "ipython",
    "version": 3
   },
   "file_extension": ".py",
   "mimetype": "text/x-python",
   "name": "python",
   "nbconvert_exporter": "python",
   "pygments_lexer": "ipython3",
   "version": "3.9.5"
  }
 },
 "nbformat": 4,
 "nbformat_minor": 5
}
