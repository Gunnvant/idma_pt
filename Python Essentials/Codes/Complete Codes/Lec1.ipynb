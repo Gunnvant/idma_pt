{
 "cells": [
  {
   "cell_type": "code",
   "execution_count": 25,
   "id": "7277cdbb-e3ed-4b9b-9d02-8019acf73f72",
   "metadata": {},
   "outputs": [],
   "source": [
    "## Numbers (comment)\n",
    "a = 3\n",
    "b = 3.0"
   ]
  },
  {
   "cell_type": "code",
   "execution_count": 26,
   "id": "5a572c9a-2074-4227-ad38-15f75b5d0433",
   "metadata": {},
   "outputs": [
    {
     "name": "stdout",
     "output_type": "stream",
     "text": [
      "3\n"
     ]
    }
   ],
   "source": [
    "print(a)"
   ]
  },
  {
   "cell_type": "code",
   "execution_count": 27,
   "id": "5d4b6a75-d3a2-4c31-82b0-f5b44b1269f1",
   "metadata": {},
   "outputs": [
    {
     "name": "stdout",
     "output_type": "stream",
     "text": [
      "3.0\n"
     ]
    }
   ],
   "source": [
    "print(b)"
   ]
  },
  {
   "cell_type": "code",
   "execution_count": 28,
   "id": "b9c6e8dd-d749-484c-915c-8bf1f0f4846e",
   "metadata": {},
   "outputs": [
    {
     "data": {
      "text/plain": [
       "int"
      ]
     },
     "execution_count": 28,
     "metadata": {},
     "output_type": "execute_result"
    }
   ],
   "source": [
    "type(a)"
   ]
  },
  {
   "cell_type": "code",
   "execution_count": 29,
   "id": "f18901d6-84f0-44ac-8538-e14f778aee5a",
   "metadata": {},
   "outputs": [
    {
     "data": {
      "text/plain": [
       "float"
      ]
     },
     "execution_count": 29,
     "metadata": {},
     "output_type": "execute_result"
    }
   ],
   "source": [
    "type(b)"
   ]
  },
  {
   "cell_type": "code",
   "execution_count": 30,
   "id": "0ab13bfe-65ac-40ec-b8c5-0a4e2e3c62c1",
   "metadata": {},
   "outputs": [
    {
     "data": {
      "text/plain": [
       "float"
      ]
     },
     "execution_count": 30,
     "metadata": {},
     "output_type": "execute_result"
    }
   ],
   "source": [
    "type(a+b)"
   ]
  },
  {
   "cell_type": "code",
   "execution_count": 46,
   "id": "854c3454-7c34-4ed0-8d9e-2e533389c7b3",
   "metadata": {},
   "outputs": [
    {
     "data": {
      "text/plain": [
       "0.0"
      ]
     },
     "execution_count": 46,
     "metadata": {},
     "output_type": "execute_result"
    }
   ],
   "source": [
    "a-b"
   ]
  },
  {
   "cell_type": "code",
   "execution_count": 31,
   "id": "ccc6258d-9498-45da-bc50-639fb80ff82d",
   "metadata": {},
   "outputs": [],
   "source": [
    "c = 100"
   ]
  },
  {
   "cell_type": "code",
   "execution_count": 32,
   "id": "45978dfe-b44e-4a1d-ad8b-fa5505ef09c2",
   "metadata": {},
   "outputs": [],
   "source": [
    "### Strings\n",
    "s1 = \"This is string\"\n",
    "s2 = 'This is another string'\n",
    "s3 = '''This is a long\n",
    "string\n",
    "'''"
   ]
  },
  {
   "cell_type": "code",
   "execution_count": 33,
   "id": "ede0aaed-f792-4470-ba20-a6ad0a93a4a1",
   "metadata": {},
   "outputs": [
    {
     "name": "stdout",
     "output_type": "stream",
     "text": [
      "This is string\n"
     ]
    }
   ],
   "source": [
    "print(s1)"
   ]
  },
  {
   "cell_type": "code",
   "execution_count": 34,
   "id": "4c322f95-1e80-4123-bdfb-51303980c257",
   "metadata": {},
   "outputs": [
    {
     "name": "stdout",
     "output_type": "stream",
     "text": [
      "This is another string\n"
     ]
    }
   ],
   "source": [
    "print(s2)"
   ]
  },
  {
   "cell_type": "code",
   "execution_count": 35,
   "id": "c09c62e7-1f21-448a-8a75-5329abb1c9ca",
   "metadata": {},
   "outputs": [
    {
     "name": "stdout",
     "output_type": "stream",
     "text": [
      "This is a long\n",
      "string\n",
      "\n"
     ]
    }
   ],
   "source": [
    "print(s3)"
   ]
  },
  {
   "cell_type": "code",
   "execution_count": 36,
   "id": "4c6afb00-472b-4b4b-a942-6b2ee0a39ad3",
   "metadata": {},
   "outputs": [
    {
     "data": {
      "text/plain": [
       "'This is string'"
      ]
     },
     "execution_count": 36,
     "metadata": {},
     "output_type": "execute_result"
    }
   ],
   "source": [
    "s1 ## string is an iterable (1. You can index them) (2. You can run a loop over them)"
   ]
  },
  {
   "cell_type": "code",
   "execution_count": 37,
   "id": "59f55e38-592b-4c7b-bb09-1899f94eb492",
   "metadata": {},
   "outputs": [
    {
     "data": {
      "text/plain": [
       "'T'"
      ]
     },
     "execution_count": 37,
     "metadata": {},
     "output_type": "execute_result"
    }
   ],
   "source": [
    "s1[0]"
   ]
  },
  {
   "cell_type": "code",
   "execution_count": 38,
   "id": "0760dd23-2d8b-497a-a318-47164d29a86c",
   "metadata": {},
   "outputs": [
    {
     "data": {
      "text/plain": [
       "'h'"
      ]
     },
     "execution_count": 38,
     "metadata": {},
     "output_type": "execute_result"
    }
   ],
   "source": [
    "s1[1]"
   ]
  },
  {
   "cell_type": "code",
   "execution_count": 39,
   "id": "70724a70-7cac-4898-a15c-b832a978681c",
   "metadata": {},
   "outputs": [
    {
     "data": {
      "text/plain": [
       "'i'"
      ]
     },
     "execution_count": 39,
     "metadata": {},
     "output_type": "execute_result"
    }
   ],
   "source": [
    "s1[2]"
   ]
  },
  {
   "cell_type": "code",
   "execution_count": 45,
   "id": "3920a175-6595-454d-8ade-a75eb47bbdac",
   "metadata": {},
   "outputs": [
    {
     "name": "stdout",
     "output_type": "stream",
     "text": [
      "T\n",
      "h\n",
      "i\n",
      "s\n",
      " \n",
      "i\n",
      "s\n",
      " \n",
      "s\n",
      "t\n",
      "r\n",
      "i\n",
      "n\n",
      "g\n"
     ]
    }
   ],
   "source": [
    "for hh  in s1:\n",
    "    print(hh)"
   ]
  },
  {
   "cell_type": "code",
   "execution_count": 44,
   "id": "010fe379-154d-436a-8f3c-0a4189bdb1fc",
   "metadata": {},
   "outputs": [
    {
     "name": "stdout",
     "output_type": "stream",
     "text": [
      "This is string\n"
     ]
    }
   ],
   "source": [
    "print(s1)"
   ]
  },
  {
   "cell_type": "code",
   "execution_count": 48,
   "id": "11a3510f-d9fe-4e7c-a42d-2063c1e52c66",
   "metadata": {},
   "outputs": [
    {
     "name": "stdout",
     "output_type": "stream",
     "text": [
      "['__add__', '__class__', '__contains__', '__delattr__', '__dir__', '__doc__', '__eq__', '__format__', '__ge__', '__getattribute__', '__getitem__', '__getnewargs__', '__gt__', '__hash__', '__init__', '__init_subclass__', '__iter__', '__le__', '__len__', '__lt__', '__mod__', '__mul__', '__ne__', '__new__', '__reduce__', '__reduce_ex__', '__repr__', '__rmod__', '__rmul__', '__setattr__', '__sizeof__', '__str__', '__subclasshook__', 'capitalize', 'casefold', 'center', 'count', 'encode', 'endswith', 'expandtabs', 'find', 'format', 'format_map', 'index', 'isalnum', 'isalpha', 'isascii', 'isdecimal', 'isdigit', 'isidentifier', 'islower', 'isnumeric', 'isprintable', 'isspace', 'istitle', 'isupper', 'join', 'ljust', 'lower', 'lstrip', 'maketrans', 'partition', 'removeprefix', 'removesuffix', 'replace', 'rfind', 'rindex', 'rjust', 'rpartition', 'rsplit', 'rstrip', 'split', 'splitlines', 'startswith', 'strip', 'swapcase', 'title', 'translate', 'upper', 'zfill']\n"
     ]
    }
   ],
   "source": [
    "### What are the different things you can do with strings?\n",
    "print(dir(s2))"
   ]
  },
  {
   "cell_type": "code",
   "execution_count": 54,
   "id": "e81d3bd2-01f5-4185-bb1b-dcc65e6ecca9",
   "metadata": {},
   "outputs": [
    {
     "data": {
      "text/plain": [
       "\u001b[0;31mSignature:\u001b[0m \u001b[0ms1\u001b[0m\u001b[0;34m.\u001b[0m\u001b[0misdigit\u001b[0m\u001b[0;34m(\u001b[0m\u001b[0;34m)\u001b[0m\u001b[0;34m\u001b[0m\u001b[0;34m\u001b[0m\u001b[0m\n",
       "\u001b[0;31mDocstring:\u001b[0m\n",
       "Return True if the string is a digit string, False otherwise.\n",
       "\n",
       "A string is a digit string if all characters in the string are digits and there\n",
       "is at least one character in the string.\n",
       "\u001b[0;31mType:\u001b[0m      builtin_function_or_method\n"
      ]
     },
     "metadata": {},
     "output_type": "display_data"
    }
   ],
   "source": [
    "?s1.isdigit"
   ]
  },
  {
   "cell_type": "code",
   "execution_count": 50,
   "id": "22990852-c7e3-41b6-9ea9-8ce1ed22e13e",
   "metadata": {},
   "outputs": [
    {
     "data": {
      "text/plain": [
       "False"
      ]
     },
     "execution_count": 50,
     "metadata": {},
     "output_type": "execute_result"
    }
   ],
   "source": [
    "s1.isdigit()"
   ]
  },
  {
   "cell_type": "code",
   "execution_count": 51,
   "id": "df9f81be-9f36-446a-98d9-0c4c88bc07dd",
   "metadata": {},
   "outputs": [
    {
     "data": {
      "text/plain": [
       "'This is string'"
      ]
     },
     "execution_count": 51,
     "metadata": {},
     "output_type": "execute_result"
    }
   ],
   "source": [
    "s1"
   ]
  },
  {
   "cell_type": "code",
   "execution_count": 52,
   "id": "10daca99-b2b8-4020-8f52-38c39db6ffb6",
   "metadata": {},
   "outputs": [],
   "source": [
    "s4 = \"445\""
   ]
  },
  {
   "cell_type": "code",
   "execution_count": 53,
   "id": "175d55bd-70af-47e2-bae7-33e531007938",
   "metadata": {},
   "outputs": [
    {
     "data": {
      "text/plain": [
       "True"
      ]
     },
     "execution_count": 53,
     "metadata": {},
     "output_type": "execute_result"
    }
   ],
   "source": [
    "s4.isdigit()"
   ]
  },
  {
   "cell_type": "code",
   "execution_count": 55,
   "id": "b670ef64-863f-4652-bc89-9cbc7f87e70b",
   "metadata": {},
   "outputs": [
    {
     "data": {
      "text/plain": [
       "\u001b[0;31mSignature:\u001b[0m \u001b[0ms1\u001b[0m\u001b[0;34m.\u001b[0m\u001b[0msplit\u001b[0m\u001b[0;34m(\u001b[0m\u001b[0msep\u001b[0m\u001b[0;34m=\u001b[0m\u001b[0;32mNone\u001b[0m\u001b[0;34m,\u001b[0m \u001b[0mmaxsplit\u001b[0m\u001b[0;34m=\u001b[0m\u001b[0;34m-\u001b[0m\u001b[0;36m1\u001b[0m\u001b[0;34m)\u001b[0m\u001b[0;34m\u001b[0m\u001b[0;34m\u001b[0m\u001b[0m\n",
       "\u001b[0;31mDocstring:\u001b[0m\n",
       "Return a list of the words in the string, using sep as the delimiter string.\n",
       "\n",
       "sep\n",
       "  The delimiter according which to split the string.\n",
       "  None (the default value) means split according to any whitespace,\n",
       "  and discard empty strings from the result.\n",
       "maxsplit\n",
       "  Maximum number of splits to do.\n",
       "  -1 (the default value) means no limit.\n",
       "\u001b[0;31mType:\u001b[0m      builtin_function_or_method\n"
      ]
     },
     "metadata": {},
     "output_type": "display_data"
    }
   ],
   "source": [
    "?s1.split"
   ]
  },
  {
   "cell_type": "code",
   "execution_count": 57,
   "id": "5232bb8c-c55c-4799-84ce-ad74c7b7d812",
   "metadata": {},
   "outputs": [
    {
     "data": {
      "text/plain": [
       "['This', 'is', 'string']"
      ]
     },
     "execution_count": 57,
     "metadata": {},
     "output_type": "execute_result"
    }
   ],
   "source": [
    "s1.split(\" \")"
   ]
  },
  {
   "cell_type": "code",
   "execution_count": 58,
   "id": "69fccb46-aec2-416b-9fc8-89191996136e",
   "metadata": {},
   "outputs": [
    {
     "name": "stdout",
     "output_type": "stream",
     "text": [
      "This is string\n"
     ]
    }
   ],
   "source": [
    "print(s1)"
   ]
  },
  {
   "cell_type": "code",
   "execution_count": 59,
   "id": "385f9f80-0306-4895-8e54-6335f6347f35",
   "metadata": {},
   "outputs": [
    {
     "data": {
      "text/plain": [
       "'this is string'"
      ]
     },
     "execution_count": 59,
     "metadata": {},
     "output_type": "execute_result"
    }
   ],
   "source": [
    "s1.lower()"
   ]
  },
  {
   "cell_type": "code",
   "execution_count": 60,
   "id": "e1614e2e-af1e-46e3-ad63-0edd1f0171aa",
   "metadata": {},
   "outputs": [
    {
     "data": {
      "text/plain": [
       "3"
      ]
     },
     "execution_count": 60,
     "metadata": {},
     "output_type": "execute_result"
    }
   ],
   "source": [
    "a"
   ]
  },
  {
   "cell_type": "code",
   "execution_count": 61,
   "id": "6a3008f3-3af1-4700-86aa-cff72d921354",
   "metadata": {},
   "outputs": [],
   "source": [
    "a = 4"
   ]
  },
  {
   "cell_type": "code",
   "execution_count": 62,
   "id": "d7d60b04-2dbf-4a96-81e0-ba10995971af",
   "metadata": {},
   "outputs": [
    {
     "data": {
      "text/plain": [
       "4"
      ]
     },
     "execution_count": 62,
     "metadata": {},
     "output_type": "execute_result"
    }
   ],
   "source": [
    "a"
   ]
  },
  {
   "cell_type": "code",
   "execution_count": 63,
   "id": "d4d5fd04-ec8f-4438-b624-8fa8f611adcc",
   "metadata": {},
   "outputs": [
    {
     "data": {
      "text/plain": [
       "'This is string'"
      ]
     },
     "execution_count": 63,
     "metadata": {},
     "output_type": "execute_result"
    }
   ],
   "source": [
    "s1"
   ]
  },
  {
   "cell_type": "code",
   "execution_count": 64,
   "id": "223fa64f-a681-4deb-b407-cfe4bc0040d1",
   "metadata": {},
   "outputs": [],
   "source": [
    "s1 = \"that was a string\""
   ]
  },
  {
   "cell_type": "code",
   "execution_count": 72,
   "id": "451c7134-b6a2-46d6-9871-fe1febd7a4f7",
   "metadata": {},
   "outputs": [
    {
     "data": {
      "text/plain": [
       "'a'"
      ]
     },
     "execution_count": 72,
     "metadata": {},
     "output_type": "execute_result"
    }
   ],
   "source": [
    "s1[2]"
   ]
  },
  {
   "cell_type": "code",
   "execution_count": 68,
   "id": "5ff2f2f9-6f94-411c-8ad2-80cefae2a82a",
   "metadata": {},
   "outputs": [
    {
     "ename": "TypeError",
     "evalue": "'str' object does not support item assignment",
     "output_type": "error",
     "traceback": [
      "\u001b[0;31m---------------------------------------------------------------------------\u001b[0m",
      "\u001b[0;31mTypeError\u001b[0m                                 Traceback (most recent call last)",
      "\u001b[0;32m<ipython-input-68-f3fa13511340>\u001b[0m in \u001b[0;36m<module>\u001b[0;34m\u001b[0m\n\u001b[0;32m----> 1\u001b[0;31m \u001b[0ms1\u001b[0m\u001b[0;34m[\u001b[0m\u001b[0;36m2\u001b[0m\u001b[0;34m]\u001b[0m \u001b[0;34m=\u001b[0m \u001b[0;34m\"i\"\u001b[0m\u001b[0;34m\u001b[0m\u001b[0;34m\u001b[0m\u001b[0m\n\u001b[0m",
      "\u001b[0;31mTypeError\u001b[0m: 'str' object does not support item assignment"
     ]
    }
   ],
   "source": [
    "s1[2] = \"i\""
   ]
  },
  {
   "cell_type": "code",
   "execution_count": 78,
   "id": "93f4b7ed-b05a-4506-92ec-15d2c72b48ae",
   "metadata": {},
   "outputs": [],
   "source": [
    "s1 = '\"This is a famous quote\"'\n",
    "s2 = 'This is a famous quote'\n",
    "s3 = \"This is a famous quote\""
   ]
  },
  {
   "cell_type": "code",
   "execution_count": 76,
   "id": "8429312b-7688-4888-8f13-717119df5983",
   "metadata": {},
   "outputs": [
    {
     "data": {
      "text/plain": [
       "True"
      ]
     },
     "execution_count": 76,
     "metadata": {},
     "output_type": "execute_result"
    }
   ],
   "source": [
    "s2 == s3"
   ]
  },
  {
   "cell_type": "code",
   "execution_count": 79,
   "id": "baca2017-5d89-499e-8509-a85740f7ff89",
   "metadata": {},
   "outputs": [
    {
     "data": {
      "text/plain": [
       "False"
      ]
     },
     "execution_count": 79,
     "metadata": {},
     "output_type": "execute_result"
    }
   ],
   "source": [
    "s1 == s2"
   ]
  },
  {
   "cell_type": "code",
   "execution_count": 80,
   "id": "6be2d02e-6d35-4fc7-a244-8c85f732aedf",
   "metadata": {},
   "outputs": [
    {
     "data": {
      "text/plain": [
       "\u001b[0;31mSignature:\u001b[0m \u001b[0ms1\u001b[0m\u001b[0;34m.\u001b[0m\u001b[0mreplace\u001b[0m\u001b[0;34m(\u001b[0m\u001b[0mold\u001b[0m\u001b[0;34m,\u001b[0m \u001b[0mnew\u001b[0m\u001b[0;34m,\u001b[0m \u001b[0mcount\u001b[0m\u001b[0;34m=\u001b[0m\u001b[0;34m-\u001b[0m\u001b[0;36m1\u001b[0m\u001b[0;34m,\u001b[0m \u001b[0;34m/\u001b[0m\u001b[0;34m)\u001b[0m\u001b[0;34m\u001b[0m\u001b[0;34m\u001b[0m\u001b[0m\n",
       "\u001b[0;31mDocstring:\u001b[0m\n",
       "Return a copy with all occurrences of substring old replaced by new.\n",
       "\n",
       "  count\n",
       "    Maximum number of occurrences to replace.\n",
       "    -1 (the default value) means replace all occurrences.\n",
       "\n",
       "If the optional argument count is given, only the first count occurrences are\n",
       "replaced.\n",
       "\u001b[0;31mType:\u001b[0m      builtin_function_or_method\n"
      ]
     },
     "metadata": {},
     "output_type": "display_data"
    }
   ],
   "source": [
    "?s1.replace"
   ]
  },
  {
   "cell_type": "code",
   "execution_count": 83,
   "id": "e33be5d6-6fdb-40aa-89c0-7076bb5477ba",
   "metadata": {},
   "outputs": [
    {
     "data": {
      "text/plain": [
       "'This is a famous quote'"
      ]
     },
     "execution_count": 83,
     "metadata": {},
     "output_type": "execute_result"
    }
   ],
   "source": [
    "s1.replace('\"','')"
   ]
  },
  {
   "cell_type": "markdown",
   "id": "9e88b108-b19e-4e0c-abb5-004d5113988f",
   "metadata": {},
   "source": [
    "### Class Demonstration [Common Programming Interview problems](https://www.geeksforgeeks.org/python-uppercase-half-string/)\n",
    "- input : test_str = dino\n",
    "- Output : diNO\n",
    "- Explanation : Latter half of string is uppercased.\n",
    "\n",
    "- Input : test_str = apples\n",
    "- Output : appLES\n",
    "- Explanation : Latter half of string is uppercased."
   ]
  },
  {
   "cell_type": "code",
   "execution_count": 3,
   "id": "70392528-dc3e-41e6-8cc4-a460508a7a86",
   "metadata": {},
   "outputs": [],
   "source": [
    "## Assumption even strings\n",
    "test_str = 'dino'"
   ]
  },
  {
   "cell_type": "code",
   "execution_count": 5,
   "id": "fc6b20a2-7459-471d-9ba0-61f56cbede4f",
   "metadata": {},
   "outputs": [
    {
     "data": {
      "text/plain": [
       "2.0"
      ]
     },
     "execution_count": 5,
     "metadata": {},
     "output_type": "execute_result"
    }
   ],
   "source": [
    "len(test_str)/2"
   ]
  },
  {
   "cell_type": "code",
   "execution_count": 6,
   "id": "3ce3f68a-508e-4014-9687-088fea7f18e9",
   "metadata": {},
   "outputs": [
    {
     "data": {
      "text/plain": [
       "'d'"
      ]
     },
     "execution_count": 6,
     "metadata": {},
     "output_type": "execute_result"
    }
   ],
   "source": [
    "test_str[0]"
   ]
  },
  {
   "cell_type": "code",
   "execution_count": 7,
   "id": "d30cf3d4-50e3-4cd4-a5ea-49bb0b49763c",
   "metadata": {},
   "outputs": [
    {
     "data": {
      "text/plain": [
       "'i'"
      ]
     },
     "execution_count": 7,
     "metadata": {},
     "output_type": "execute_result"
    }
   ],
   "source": [
    "test_str[1]"
   ]
  },
  {
   "cell_type": "code",
   "execution_count": 8,
   "id": "3ca36680-f374-43f9-aefe-cf8e684fbf5b",
   "metadata": {},
   "outputs": [
    {
     "data": {
      "text/plain": [
       "'n'"
      ]
     },
     "execution_count": 8,
     "metadata": {},
     "output_type": "execute_result"
    }
   ],
   "source": [
    "test_str[2]"
   ]
  },
  {
   "cell_type": "code",
   "execution_count": 15,
   "id": "ee354aa4-9bf9-4e93-9989-6aeaa722dd22",
   "metadata": {},
   "outputs": [],
   "source": [
    "test_str = 'dino'\n",
    "new = \"\"\n",
    "idx = 0\n",
    "for i in test_str:\n",
    "    if idx<len(test_str)/2:\n",
    "        new = new+i\n",
    "    else:\n",
    "        new = new+i.upper()\n",
    "    idx = idx+1"
   ]
  },
  {
   "cell_type": "code",
   "execution_count": 16,
   "id": "f572e312-f51a-489a-a961-03835e55be8b",
   "metadata": {},
   "outputs": [
    {
     "name": "stdout",
     "output_type": "stream",
     "text": [
      "diNO\n"
     ]
    }
   ],
   "source": [
    "print(new)"
   ]
  },
  {
   "cell_type": "code",
   "execution_count": 19,
   "id": "303d9bae-0d5b-4cfe-a15c-4a820c948458",
   "metadata": {},
   "outputs": [],
   "source": [
    "test_str = 'dino'\n",
    "mid_idx = int(len(test_str)/2)"
   ]
  },
  {
   "cell_type": "code",
   "execution_count": 20,
   "id": "47af92b5-e864-4a32-b273-c48406401b60",
   "metadata": {},
   "outputs": [
    {
     "data": {
      "text/plain": [
       "2"
      ]
     },
     "execution_count": 20,
     "metadata": {},
     "output_type": "execute_result"
    }
   ],
   "source": [
    "mid_idx"
   ]
  },
  {
   "cell_type": "code",
   "execution_count": 47,
   "id": "e76f8b91-8bfd-4a36-8eef-3318ea1815e3",
   "metadata": {},
   "outputs": [
    {
     "name": "stdout",
     "output_type": "stream",
     "text": [
      "kiTE\n"
     ]
    }
   ],
   "source": [
    "test_str = 'kite'\n",
    "new = ''\n",
    "mid_idx = int(len(test_str)/2)\n",
    "counter = 0\n",
    "for i in test_str:\n",
    "    if counter < mid_idx:\n",
    "        new = new + i    \n",
    "    else:\n",
    "        new = new + i.upper()\n",
    "    counter = counter+1\n",
    "print(new)"
   ]
  },
  {
   "cell_type": "markdown",
   "id": "a5a7a9fb-2fbd-4fe0-8caa-67f8e60e3478",
   "metadata": {},
   "source": [
    "```python\n",
    "def name_func(inputs):\n",
    "    logic\n",
    "    return output\n",
    "```    "
   ]
  },
  {
   "cell_type": "code",
   "execution_count": 48,
   "id": "0ac9d695-902e-463b-82a9-aef7aa42b92b",
   "metadata": {},
   "outputs": [],
   "source": [
    "def transform(test_str):\n",
    "    new = ''\n",
    "    mid_idx = int(len(test_str)/2)\n",
    "    counter = 0\n",
    "    for i in test_str:\n",
    "        if counter < mid_idx:\n",
    "            new = new + i    \n",
    "        else:\n",
    "            new = new + i.upper()\n",
    "        counter = counter+1\n",
    "    return new   "
   ]
  },
  {
   "cell_type": "code",
   "execution_count": 49,
   "id": "9038b651-e5f9-4287-9a3d-3f76d44a334e",
   "metadata": {},
   "outputs": [
    {
     "data": {
      "text/plain": [
       "'kiTE'"
      ]
     },
     "execution_count": 49,
     "metadata": {},
     "output_type": "execute_result"
    }
   ],
   "source": [
    "transform('kite')"
   ]
  },
  {
   "cell_type": "markdown",
   "id": "bf0ed81b-7f3a-4d12-be0d-6d23892c1a9a",
   "metadata": {},
   "source": [
    "### Class Excercise [source](https://www.geeksforgeeks.org/python-program-to-check-if-a-string-has-at-least-one-letter-and-one-number/) (Try to solve on your own)\n",
    "\n",
    "- Input: welcome2ourcountry34\n",
    "- Output: True\n",
    "\n",
    "- Input: stringwithoutnum\n",
    "- Output: False\n",
    "\n",
    "- Hints: Look at the output of dir() for any string object and find out the methods which can help in finding which element is a string and which is a number\n",
    "\n"
   ]
  },
  {
   "cell_type": "code",
   "execution_count": 60,
   "id": "7a6ae072-c66e-4b35-9d88-5e6185daadfd",
   "metadata": {},
   "outputs": [
    {
     "name": "stdout",
     "output_type": "stream",
     "text": [
      "True\n"
     ]
    }
   ],
   "source": [
    "test_str = \"welcome2ourcountry34\"\n",
    "memory_digits = 0\n",
    "memory_alpha = 0\n",
    "for i in test_str:\n",
    "    if i.isdigit():\n",
    "        memory_digits = memory_digits + 1\n",
    "    if i.isalpha():\n",
    "        memory_alpha = memory_alpha + 1\n",
    "if memory_digits>0 and memory_alpha>0:\n",
    "    print(True)\n",
    "else:\n",
    "    print(False)        "
   ]
  },
  {
   "cell_type": "code",
   "execution_count": 61,
   "id": "f3813eeb-499a-45b0-95ee-4848b37467ce",
   "metadata": {},
   "outputs": [],
   "source": [
    "## is_valid(input_str)\n",
    "def is_valid_v1(test_str):\n",
    "    memory_digits = 0\n",
    "    memory_alpha = 0\n",
    "    for i in test_str:\n",
    "        if i.isdigit():\n",
    "            memory_digits = memory_digits + 1\n",
    "        if i.isalpha():\n",
    "            memory_alpha = memory_alpha + 1\n",
    "    if memory_digits>0 and memory_alpha>0:\n",
    "        return True\n",
    "    else:\n",
    "        return False"
   ]
  },
  {
   "cell_type": "code",
   "execution_count": 62,
   "id": "49e8e781-cabb-4304-b7e3-19c401e6f975",
   "metadata": {},
   "outputs": [],
   "source": [
    "## is_valid(input_str)\n",
    "def is_valid_v2(test_str):\n",
    "    memory_digits = 0\n",
    "    memory_alpha = 0\n",
    "    for i in test_str:\n",
    "        if i.isdigit():\n",
    "            memory_digits = memory_digits + 1\n",
    "        if i.isalpha():\n",
    "            memory_alpha = memory_alpha + 1\n",
    "    if memory_digits>0 and memory_alpha>0:\n",
    "        res = True\n",
    "    else:\n",
    "        res = False\n",
    "    return res"
   ]
  },
  {
   "cell_type": "code",
   "execution_count": 72,
   "id": "a5f45286-b0d8-4f5a-b63e-f48ddbfb0766",
   "metadata": {},
   "outputs": [],
   "source": [
    "def is_valid_v3(test_str):\n",
    "    memory_digits = 0\n",
    "    memory_alpha = 0\n",
    "    for i in test_str:\n",
    "        if i.isdigit():\n",
    "            memory_digits = memory_digits + 1\n",
    "        if i.isalpha():\n",
    "            memory_alpha = memory_alpha + 1\n",
    "    if memory_digits>0 and memory_alpha>0:\n",
    "        print(True)\n",
    "    else:\n",
    "        print(False)"
   ]
  },
  {
   "cell_type": "code",
   "execution_count": 66,
   "id": "735cbb0c-4674-4eec-be38-cbddae269ff9",
   "metadata": {},
   "outputs": [
    {
     "name": "stdout",
     "output_type": "stream",
     "text": [
      "True\n"
     ]
    }
   ],
   "source": [
    "is_valid_v3(\"welcome2ourcountry34\")"
   ]
  },
  {
   "cell_type": "code",
   "execution_count": 73,
   "id": "4f6cc7e6-79b8-431e-bcb2-532f499c8245",
   "metadata": {},
   "outputs": [],
   "source": [
    "### Lists: General Bucket\n",
    "num_list = [1,2,3,4,5,6]"
   ]
  },
  {
   "cell_type": "code",
   "execution_count": 74,
   "id": "e46a0f93-035d-4ed4-a9bd-2c0dba2fec17",
   "metadata": {},
   "outputs": [],
   "source": [
    "str_list = ['abc','def','ghi']"
   ]
  },
  {
   "cell_type": "code",
   "execution_count": 75,
   "id": "e31237dd-fba0-48e5-ac59-a45b86d3f100",
   "metadata": {},
   "outputs": [
    {
     "data": {
      "text/plain": [
       "1"
      ]
     },
     "execution_count": 75,
     "metadata": {},
     "output_type": "execute_result"
    }
   ],
   "source": [
    "num_list[0]"
   ]
  },
  {
   "cell_type": "code",
   "execution_count": 76,
   "id": "a3c12b0e-0428-4788-98ca-827d05096880",
   "metadata": {},
   "outputs": [
    {
     "data": {
      "text/plain": [
       "3"
      ]
     },
     "execution_count": 76,
     "metadata": {},
     "output_type": "execute_result"
    }
   ],
   "source": [
    "num_list[2]"
   ]
  },
  {
   "cell_type": "code",
   "execution_count": 77,
   "id": "75ee6dad-6709-45a8-83b4-9ed08cb64196",
   "metadata": {},
   "outputs": [
    {
     "name": "stdout",
     "output_type": "stream",
     "text": [
      "abc\n",
      "def\n",
      "ghi\n"
     ]
    }
   ],
   "source": [
    "for i in str_list:\n",
    "    print(i)"
   ]
  },
  {
   "cell_type": "code",
   "execution_count": 82,
   "id": "6ec71060-f78c-4229-89de-bf808668909e",
   "metadata": {},
   "outputs": [],
   "source": [
    "abc = 1"
   ]
  },
  {
   "cell_type": "code",
   "execution_count": 84,
   "id": "0f91114e-0aad-452f-96a3-dccd946d9c3f",
   "metadata": {},
   "outputs": [],
   "source": [
    "mixed_list = [1,2,3,\"abc\",\"def\", [5,6,7],'fff']"
   ]
  },
  {
   "cell_type": "code",
   "execution_count": 86,
   "id": "a741f21f-2594-4703-b5a6-ca9661451323",
   "metadata": {},
   "outputs": [
    {
     "data": {
      "text/plain": [
       "[5, 6, 7]"
      ]
     },
     "execution_count": 86,
     "metadata": {},
     "output_type": "execute_result"
    }
   ],
   "source": [
    "mixed_list[5]"
   ]
  },
  {
   "cell_type": "code",
   "execution_count": 87,
   "id": "ce71d755-df26-4e84-96a7-90fac6f79dff",
   "metadata": {},
   "outputs": [
    {
     "data": {
      "text/plain": [
       "6"
      ]
     },
     "execution_count": 87,
     "metadata": {},
     "output_type": "execute_result"
    }
   ],
   "source": [
    "mixed_list[5][1]"
   ]
  },
  {
   "cell_type": "code",
   "execution_count": 88,
   "id": "6f300458-b135-415d-8560-e9d1f7882ed3",
   "metadata": {},
   "outputs": [],
   "source": [
    "amazon_review = '''\n",
    "What can I say!\n",
    "SIMPLY SPECTACULAR.\n",
    "PUBG - smooth +90 FPS\n",
    "Smashing all the bench marks by some margin (140%~~)\n",
    "4 SPEAKERS are like home theatre.\n",
    "Battery backup is excellent\n",
    "Could have been better than 20 wts charger\n",
    "\n",
    "I will keep u guys posted...stay tuned\n",
    "\n",
    "'''"
   ]
  },
  {
   "cell_type": "code",
   "execution_count": 91,
   "id": "4cbb90ff-14c0-4645-accf-42723cf97dc0",
   "metadata": {},
   "outputs": [
    {
     "name": "stdout",
     "output_type": "stream",
     "text": [
      "8\n"
     ]
    }
   ],
   "source": [
    "sent_count = 0\n",
    "for i in amazon_review.split(\"\\n\"):\n",
    "    if i!=\"\": ## not equal to\n",
    "        sent_count = sent_count+1\n",
    "print(sent_count)   "
   ]
  },
  {
   "cell_type": "code",
   "execution_count": 92,
   "id": "e0bcabb1-4dee-45fa-bb3e-137237314634",
   "metadata": {},
   "outputs": [
    {
     "data": {
      "text/plain": [
       "['',\n",
       " 'What can I say!',\n",
       " 'SIMPLY SPECTACULAR.',\n",
       " 'PUBG - smooth +90 FPS',\n",
       " 'Smashing all the bench marks by some margin (140%~~)',\n",
       " '4 SPEAKERS are like home theatre.',\n",
       " 'Battery backup is excellent',\n",
       " 'Could have been better than 20 wts charger',\n",
       " '',\n",
       " 'I will keep u guys posted...stay tuned',\n",
       " '',\n",
       " '']"
      ]
     },
     "execution_count": 92,
     "metadata": {},
     "output_type": "execute_result"
    }
   ],
   "source": [
    "### Only give me a list of sentences\n",
    "amazon_review.split(\"\\n\")"
   ]
  },
  {
   "cell_type": "code",
   "execution_count": 94,
   "id": "1366f968-a426-4d9d-8e76-dcde224e4306",
   "metadata": {},
   "outputs": [
    {
     "name": "stdout",
     "output_type": "stream",
     "text": [
      "['__add__', '__class__', '__class_getitem__', '__contains__', '__delattr__', '__delitem__', '__dir__', '__doc__', '__eq__', '__format__', '__ge__', '__getattribute__', '__getitem__', '__gt__', '__hash__', '__iadd__', '__imul__', '__init__', '__init_subclass__', '__iter__', '__le__', '__len__', '__lt__', '__mul__', '__ne__', '__new__', '__reduce__', '__reduce_ex__', '__repr__', '__reversed__', '__rmul__', '__setattr__', '__setitem__', '__sizeof__', '__str__', '__subclasshook__', 'append', 'clear', 'copy', 'count', 'extend', 'index', 'insert', 'pop', 'remove', 'reverse', 'sort']\n"
     ]
    }
   ],
   "source": [
    "print(dir(mixed_list))"
   ]
  },
  {
   "cell_type": "code",
   "execution_count": 95,
   "id": "bcb42c8d-f275-4610-a654-6a7155608f66",
   "metadata": {},
   "outputs": [
    {
     "name": "stdout",
     "output_type": "stream",
     "text": [
      "['What can I say!', 'SIMPLY SPECTACULAR.', 'PUBG - smooth +90 FPS', 'Smashing all the bench marks by some margin (140%~~)', '4 SPEAKERS are like home theatre.', 'Battery backup is excellent', 'Could have been better than 20 wts charger', 'I will keep u guys posted...stay tuned']\n"
     ]
    }
   ],
   "source": [
    "sent = []\n",
    "for i in amazon_review.split(\"\\n\"):\n",
    "    if i!=\"\":\n",
    "        sent.append(i)\n",
    "print(sent)"
   ]
  },
  {
   "cell_type": "code",
   "execution_count": 96,
   "id": "10b0f1af-2aac-447e-b9c5-c732aeeb3155",
   "metadata": {},
   "outputs": [
    {
     "data": {
      "text/plain": [
       "\u001b[0;31mSignature:\u001b[0m \u001b[0mmixed_list\u001b[0m\u001b[0;34m.\u001b[0m\u001b[0mremove\u001b[0m\u001b[0;34m(\u001b[0m\u001b[0mvalue\u001b[0m\u001b[0;34m,\u001b[0m \u001b[0;34m/\u001b[0m\u001b[0;34m)\u001b[0m\u001b[0;34m\u001b[0m\u001b[0;34m\u001b[0m\u001b[0m\n",
       "\u001b[0;31mDocstring:\u001b[0m\n",
       "Remove first occurrence of value.\n",
       "\n",
       "Raises ValueError if the value is not present.\n",
       "\u001b[0;31mType:\u001b[0m      builtin_function_or_method\n"
      ]
     },
     "metadata": {},
     "output_type": "display_data"
    }
   ],
   "source": [
    "?mixed_list.remove"
   ]
  },
  {
   "cell_type": "code",
   "execution_count": 97,
   "id": "da52aebc-89f7-49b6-ae7d-94be2e8b01e1",
   "metadata": {},
   "outputs": [
    {
     "name": "stdout",
     "output_type": "stream",
     "text": [
      "['What can I say!', 'SIMPLY SPECTACULAR.', 'PUBG - smooth +90 FPS', 'Smashing all the bench marks by some margin (140%~~)', '4 SPEAKERS are like home theatre.', 'Battery backup is excellent', 'Could have been better than 20 wts charger', 'I will keep u guys posted...stay tuned']\n"
     ]
    }
   ],
   "source": [
    "sent = amazon_review.split(\"\\n\")\n",
    "for i in amazon_review.split(\"\\n\"):\n",
    "    if i == \"\":\n",
    "        sent.remove(\"\")\n",
    "print(sent)\n",
    "    "
   ]
  },
  {
   "cell_type": "code",
   "execution_count": null,
   "id": "e25b4aac-4f00-490e-b33a-e57273683814",
   "metadata": {},
   "outputs": [],
   "source": []
  }
 ],
 "metadata": {
  "kernelspec": {
   "display_name": "Python 3",
   "language": "python",
   "name": "python3"
  },
  "language_info": {
   "codemirror_mode": {
    "name": "ipython",
    "version": 3
   },
   "file_extension": ".py",
   "mimetype": "text/x-python",
   "name": "python",
   "nbconvert_exporter": "python",
   "pygments_lexer": "ipython3",
   "version": "3.9.5"
  }
 },
 "nbformat": 4,
 "nbformat_minor": 5
}
