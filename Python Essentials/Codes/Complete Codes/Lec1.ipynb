{
 "cells": [
  {
   "cell_type": "code",
   "execution_count": 25,
   "id": "7277cdbb-e3ed-4b9b-9d02-8019acf73f72",
   "metadata": {},
   "outputs": [],
   "source": [
    "## Numbers (comment)\n",
    "a = 3\n",
    "b = 3.0"
   ]
  },
  {
   "cell_type": "code",
   "execution_count": 26,
   "id": "5a572c9a-2074-4227-ad38-15f75b5d0433",
   "metadata": {},
   "outputs": [
    {
     "name": "stdout",
     "output_type": "stream",
     "text": [
      "3\n"
     ]
    }
   ],
   "source": [
    "print(a)"
   ]
  },
  {
   "cell_type": "code",
   "execution_count": 27,
   "id": "5d4b6a75-d3a2-4c31-82b0-f5b44b1269f1",
   "metadata": {},
   "outputs": [
    {
     "name": "stdout",
     "output_type": "stream",
     "text": [
      "3.0\n"
     ]
    }
   ],
   "source": [
    "print(b)"
   ]
  },
  {
   "cell_type": "code",
   "execution_count": 28,
   "id": "b9c6e8dd-d749-484c-915c-8bf1f0f4846e",
   "metadata": {},
   "outputs": [
    {
     "data": {
      "text/plain": [
       "int"
      ]
     },
     "execution_count": 28,
     "metadata": {},
     "output_type": "execute_result"
    }
   ],
   "source": [
    "type(a)"
   ]
  },
  {
   "cell_type": "code",
   "execution_count": 29,
   "id": "f18901d6-84f0-44ac-8538-e14f778aee5a",
   "metadata": {},
   "outputs": [
    {
     "data": {
      "text/plain": [
       "float"
      ]
     },
     "execution_count": 29,
     "metadata": {},
     "output_type": "execute_result"
    }
   ],
   "source": [
    "type(b)"
   ]
  },
  {
   "cell_type": "code",
   "execution_count": 30,
   "id": "0ab13bfe-65ac-40ec-b8c5-0a4e2e3c62c1",
   "metadata": {},
   "outputs": [
    {
     "data": {
      "text/plain": [
       "float"
      ]
     },
     "execution_count": 30,
     "metadata": {},
     "output_type": "execute_result"
    }
   ],
   "source": [
    "type(a+b)"
   ]
  },
  {
   "cell_type": "code",
   "execution_count": 46,
   "id": "854c3454-7c34-4ed0-8d9e-2e533389c7b3",
   "metadata": {},
   "outputs": [
    {
     "data": {
      "text/plain": [
       "0.0"
      ]
     },
     "execution_count": 46,
     "metadata": {},
     "output_type": "execute_result"
    }
   ],
   "source": [
    "a-b"
   ]
  },
  {
   "cell_type": "code",
   "execution_count": 31,
   "id": "ccc6258d-9498-45da-bc50-639fb80ff82d",
   "metadata": {},
   "outputs": [],
   "source": [
    "c = 100"
   ]
  },
  {
   "cell_type": "code",
   "execution_count": 32,
   "id": "45978dfe-b44e-4a1d-ad8b-fa5505ef09c2",
   "metadata": {},
   "outputs": [],
   "source": [
    "### Strings\n",
    "s1 = \"This is string\"\n",
    "s2 = 'This is another string'\n",
    "s3 = '''This is a long\n",
    "string\n",
    "'''"
   ]
  },
  {
   "cell_type": "code",
   "execution_count": 33,
   "id": "ede0aaed-f792-4470-ba20-a6ad0a93a4a1",
   "metadata": {},
   "outputs": [
    {
     "name": "stdout",
     "output_type": "stream",
     "text": [
      "This is string\n"
     ]
    }
   ],
   "source": [
    "print(s1)"
   ]
  },
  {
   "cell_type": "code",
   "execution_count": 34,
   "id": "4c322f95-1e80-4123-bdfb-51303980c257",
   "metadata": {},
   "outputs": [
    {
     "name": "stdout",
     "output_type": "stream",
     "text": [
      "This is another string\n"
     ]
    }
   ],
   "source": [
    "print(s2)"
   ]
  },
  {
   "cell_type": "code",
   "execution_count": 35,
   "id": "c09c62e7-1f21-448a-8a75-5329abb1c9ca",
   "metadata": {},
   "outputs": [
    {
     "name": "stdout",
     "output_type": "stream",
     "text": [
      "This is a long\n",
      "string\n",
      "\n"
     ]
    }
   ],
   "source": [
    "print(s3)"
   ]
  },
  {
   "cell_type": "code",
   "execution_count": 36,
   "id": "4c6afb00-472b-4b4b-a942-6b2ee0a39ad3",
   "metadata": {},
   "outputs": [
    {
     "data": {
      "text/plain": [
       "'This is string'"
      ]
     },
     "execution_count": 36,
     "metadata": {},
     "output_type": "execute_result"
    }
   ],
   "source": [
    "s1 ## string is an iterable (1. You can index them) (2. You can run a loop over them)"
   ]
  },
  {
   "cell_type": "code",
   "execution_count": 37,
   "id": "59f55e38-592b-4c7b-bb09-1899f94eb492",
   "metadata": {},
   "outputs": [
    {
     "data": {
      "text/plain": [
       "'T'"
      ]
     },
     "execution_count": 37,
     "metadata": {},
     "output_type": "execute_result"
    }
   ],
   "source": [
    "s1[0]"
   ]
  },
  {
   "cell_type": "code",
   "execution_count": 38,
   "id": "0760dd23-2d8b-497a-a318-47164d29a86c",
   "metadata": {},
   "outputs": [
    {
     "data": {
      "text/plain": [
       "'h'"
      ]
     },
     "execution_count": 38,
     "metadata": {},
     "output_type": "execute_result"
    }
   ],
   "source": [
    "s1[1]"
   ]
  },
  {
   "cell_type": "code",
   "execution_count": 39,
   "id": "70724a70-7cac-4898-a15c-b832a978681c",
   "metadata": {},
   "outputs": [
    {
     "data": {
      "text/plain": [
       "'i'"
      ]
     },
     "execution_count": 39,
     "metadata": {},
     "output_type": "execute_result"
    }
   ],
   "source": [
    "s1[2]"
   ]
  },
  {
   "cell_type": "code",
   "execution_count": 45,
   "id": "3920a175-6595-454d-8ade-a75eb47bbdac",
   "metadata": {},
   "outputs": [
    {
     "name": "stdout",
     "output_type": "stream",
     "text": [
      "T\n",
      "h\n",
      "i\n",
      "s\n",
      " \n",
      "i\n",
      "s\n",
      " \n",
      "s\n",
      "t\n",
      "r\n",
      "i\n",
      "n\n",
      "g\n"
     ]
    }
   ],
   "source": [
    "for hh  in s1:\n",
    "    print(hh)"
   ]
  },
  {
   "cell_type": "code",
   "execution_count": 44,
   "id": "010fe379-154d-436a-8f3c-0a4189bdb1fc",
   "metadata": {},
   "outputs": [
    {
     "name": "stdout",
     "output_type": "stream",
     "text": [
      "This is string\n"
     ]
    }
   ],
   "source": [
    "print(s1)"
   ]
  },
  {
   "cell_type": "code",
   "execution_count": 48,
   "id": "11a3510f-d9fe-4e7c-a42d-2063c1e52c66",
   "metadata": {},
   "outputs": [
    {
     "name": "stdout",
     "output_type": "stream",
     "text": [
      "['__add__', '__class__', '__contains__', '__delattr__', '__dir__', '__doc__', '__eq__', '__format__', '__ge__', '__getattribute__', '__getitem__', '__getnewargs__', '__gt__', '__hash__', '__init__', '__init_subclass__', '__iter__', '__le__', '__len__', '__lt__', '__mod__', '__mul__', '__ne__', '__new__', '__reduce__', '__reduce_ex__', '__repr__', '__rmod__', '__rmul__', '__setattr__', '__sizeof__', '__str__', '__subclasshook__', 'capitalize', 'casefold', 'center', 'count', 'encode', 'endswith', 'expandtabs', 'find', 'format', 'format_map', 'index', 'isalnum', 'isalpha', 'isascii', 'isdecimal', 'isdigit', 'isidentifier', 'islower', 'isnumeric', 'isprintable', 'isspace', 'istitle', 'isupper', 'join', 'ljust', 'lower', 'lstrip', 'maketrans', 'partition', 'removeprefix', 'removesuffix', 'replace', 'rfind', 'rindex', 'rjust', 'rpartition', 'rsplit', 'rstrip', 'split', 'splitlines', 'startswith', 'strip', 'swapcase', 'title', 'translate', 'upper', 'zfill']\n"
     ]
    }
   ],
   "source": [
    "### What are the different things you can do with strings?\n",
    "print(dir(s2))"
   ]
  },
  {
   "cell_type": "code",
   "execution_count": 54,
   "id": "e81d3bd2-01f5-4185-bb1b-dcc65e6ecca9",
   "metadata": {},
   "outputs": [
    {
     "data": {
      "text/plain": [
       "\u001b[0;31mSignature:\u001b[0m \u001b[0ms1\u001b[0m\u001b[0;34m.\u001b[0m\u001b[0misdigit\u001b[0m\u001b[0;34m(\u001b[0m\u001b[0;34m)\u001b[0m\u001b[0;34m\u001b[0m\u001b[0;34m\u001b[0m\u001b[0m\n",
       "\u001b[0;31mDocstring:\u001b[0m\n",
       "Return True if the string is a digit string, False otherwise.\n",
       "\n",
       "A string is a digit string if all characters in the string are digits and there\n",
       "is at least one character in the string.\n",
       "\u001b[0;31mType:\u001b[0m      builtin_function_or_method\n"
      ]
     },
     "metadata": {},
     "output_type": "display_data"
    }
   ],
   "source": [
    "?s1.isdigit"
   ]
  },
  {
   "cell_type": "code",
   "execution_count": 50,
   "id": "22990852-c7e3-41b6-9ea9-8ce1ed22e13e",
   "metadata": {},
   "outputs": [
    {
     "data": {
      "text/plain": [
       "False"
      ]
     },
     "execution_count": 50,
     "metadata": {},
     "output_type": "execute_result"
    }
   ],
   "source": [
    "s1.isdigit()"
   ]
  },
  {
   "cell_type": "code",
   "execution_count": 51,
   "id": "df9f81be-9f36-446a-98d9-0c4c88bc07dd",
   "metadata": {},
   "outputs": [
    {
     "data": {
      "text/plain": [
       "'This is string'"
      ]
     },
     "execution_count": 51,
     "metadata": {},
     "output_type": "execute_result"
    }
   ],
   "source": [
    "s1"
   ]
  },
  {
   "cell_type": "code",
   "execution_count": 52,
   "id": "10daca99-b2b8-4020-8f52-38c39db6ffb6",
   "metadata": {},
   "outputs": [],
   "source": [
    "s4 = \"445\""
   ]
  },
  {
   "cell_type": "code",
   "execution_count": 53,
   "id": "175d55bd-70af-47e2-bae7-33e531007938",
   "metadata": {},
   "outputs": [
    {
     "data": {
      "text/plain": [
       "True"
      ]
     },
     "execution_count": 53,
     "metadata": {},
     "output_type": "execute_result"
    }
   ],
   "source": [
    "s4.isdigit()"
   ]
  },
  {
   "cell_type": "code",
   "execution_count": 55,
   "id": "b670ef64-863f-4652-bc89-9cbc7f87e70b",
   "metadata": {},
   "outputs": [
    {
     "data": {
      "text/plain": [
       "\u001b[0;31mSignature:\u001b[0m \u001b[0ms1\u001b[0m\u001b[0;34m.\u001b[0m\u001b[0msplit\u001b[0m\u001b[0;34m(\u001b[0m\u001b[0msep\u001b[0m\u001b[0;34m=\u001b[0m\u001b[0;32mNone\u001b[0m\u001b[0;34m,\u001b[0m \u001b[0mmaxsplit\u001b[0m\u001b[0;34m=\u001b[0m\u001b[0;34m-\u001b[0m\u001b[0;36m1\u001b[0m\u001b[0;34m)\u001b[0m\u001b[0;34m\u001b[0m\u001b[0;34m\u001b[0m\u001b[0m\n",
       "\u001b[0;31mDocstring:\u001b[0m\n",
       "Return a list of the words in the string, using sep as the delimiter string.\n",
       "\n",
       "sep\n",
       "  The delimiter according which to split the string.\n",
       "  None (the default value) means split according to any whitespace,\n",
       "  and discard empty strings from the result.\n",
       "maxsplit\n",
       "  Maximum number of splits to do.\n",
       "  -1 (the default value) means no limit.\n",
       "\u001b[0;31mType:\u001b[0m      builtin_function_or_method\n"
      ]
     },
     "metadata": {},
     "output_type": "display_data"
    }
   ],
   "source": [
    "?s1.split"
   ]
  },
  {
   "cell_type": "code",
   "execution_count": 57,
   "id": "5232bb8c-c55c-4799-84ce-ad74c7b7d812",
   "metadata": {},
   "outputs": [
    {
     "data": {
      "text/plain": [
       "['This', 'is', 'string']"
      ]
     },
     "execution_count": 57,
     "metadata": {},
     "output_type": "execute_result"
    }
   ],
   "source": [
    "s1.split(\" \")"
   ]
  },
  {
   "cell_type": "code",
   "execution_count": 58,
   "id": "69fccb46-aec2-416b-9fc8-89191996136e",
   "metadata": {},
   "outputs": [
    {
     "name": "stdout",
     "output_type": "stream",
     "text": [
      "This is string\n"
     ]
    }
   ],
   "source": [
    "print(s1)"
   ]
  },
  {
   "cell_type": "code",
   "execution_count": 59,
   "id": "385f9f80-0306-4895-8e54-6335f6347f35",
   "metadata": {},
   "outputs": [
    {
     "data": {
      "text/plain": [
       "'this is string'"
      ]
     },
     "execution_count": 59,
     "metadata": {},
     "output_type": "execute_result"
    }
   ],
   "source": [
    "s1.lower()"
   ]
  },
  {
   "cell_type": "code",
   "execution_count": 60,
   "id": "e1614e2e-af1e-46e3-ad63-0edd1f0171aa",
   "metadata": {},
   "outputs": [
    {
     "data": {
      "text/plain": [
       "3"
      ]
     },
     "execution_count": 60,
     "metadata": {},
     "output_type": "execute_result"
    }
   ],
   "source": [
    "a"
   ]
  },
  {
   "cell_type": "code",
   "execution_count": 61,
   "id": "6a3008f3-3af1-4700-86aa-cff72d921354",
   "metadata": {},
   "outputs": [],
   "source": [
    "a = 4"
   ]
  },
  {
   "cell_type": "code",
   "execution_count": 62,
   "id": "d7d60b04-2dbf-4a96-81e0-ba10995971af",
   "metadata": {},
   "outputs": [
    {
     "data": {
      "text/plain": [
       "4"
      ]
     },
     "execution_count": 62,
     "metadata": {},
     "output_type": "execute_result"
    }
   ],
   "source": [
    "a"
   ]
  },
  {
   "cell_type": "code",
   "execution_count": 63,
   "id": "d4d5fd04-ec8f-4438-b624-8fa8f611adcc",
   "metadata": {},
   "outputs": [
    {
     "data": {
      "text/plain": [
       "'This is string'"
      ]
     },
     "execution_count": 63,
     "metadata": {},
     "output_type": "execute_result"
    }
   ],
   "source": [
    "s1"
   ]
  },
  {
   "cell_type": "code",
   "execution_count": 64,
   "id": "223fa64f-a681-4deb-b407-cfe4bc0040d1",
   "metadata": {},
   "outputs": [],
   "source": [
    "s1 = \"that was a string\""
   ]
  },
  {
   "cell_type": "code",
   "execution_count": 72,
   "id": "451c7134-b6a2-46d6-9871-fe1febd7a4f7",
   "metadata": {},
   "outputs": [
    {
     "data": {
      "text/plain": [
       "'a'"
      ]
     },
     "execution_count": 72,
     "metadata": {},
     "output_type": "execute_result"
    }
   ],
   "source": [
    "s1[2]"
   ]
  },
  {
   "cell_type": "code",
   "execution_count": 68,
   "id": "5ff2f2f9-6f94-411c-8ad2-80cefae2a82a",
   "metadata": {},
   "outputs": [
    {
     "ename": "TypeError",
     "evalue": "'str' object does not support item assignment",
     "output_type": "error",
     "traceback": [
      "\u001b[0;31m---------------------------------------------------------------------------\u001b[0m",
      "\u001b[0;31mTypeError\u001b[0m                                 Traceback (most recent call last)",
      "\u001b[0;32m<ipython-input-68-f3fa13511340>\u001b[0m in \u001b[0;36m<module>\u001b[0;34m\u001b[0m\n\u001b[0;32m----> 1\u001b[0;31m \u001b[0ms1\u001b[0m\u001b[0;34m[\u001b[0m\u001b[0;36m2\u001b[0m\u001b[0;34m]\u001b[0m \u001b[0;34m=\u001b[0m \u001b[0;34m\"i\"\u001b[0m\u001b[0;34m\u001b[0m\u001b[0;34m\u001b[0m\u001b[0m\n\u001b[0m",
      "\u001b[0;31mTypeError\u001b[0m: 'str' object does not support item assignment"
     ]
    }
   ],
   "source": [
    "s1[2] = \"i\""
   ]
  },
  {
   "cell_type": "code",
   "execution_count": 78,
   "id": "93f4b7ed-b05a-4506-92ec-15d2c72b48ae",
   "metadata": {},
   "outputs": [],
   "source": [
    "s1 = '\"This is a famous quote\"'\n",
    "s2 = 'This is a famous quote'\n",
    "s3 = \"This is a famous quote\""
   ]
  },
  {
   "cell_type": "code",
   "execution_count": 76,
   "id": "8429312b-7688-4888-8f13-717119df5983",
   "metadata": {},
   "outputs": [
    {
     "data": {
      "text/plain": [
       "True"
      ]
     },
     "execution_count": 76,
     "metadata": {},
     "output_type": "execute_result"
    }
   ],
   "source": [
    "s2 == s3"
   ]
  },
  {
   "cell_type": "code",
   "execution_count": 79,
   "id": "baca2017-5d89-499e-8509-a85740f7ff89",
   "metadata": {},
   "outputs": [
    {
     "data": {
      "text/plain": [
       "False"
      ]
     },
     "execution_count": 79,
     "metadata": {},
     "output_type": "execute_result"
    }
   ],
   "source": [
    "s1 == s2"
   ]
  },
  {
   "cell_type": "code",
   "execution_count": 80,
   "id": "6be2d02e-6d35-4fc7-a244-8c85f732aedf",
   "metadata": {},
   "outputs": [
    {
     "data": {
      "text/plain": [
       "\u001b[0;31mSignature:\u001b[0m \u001b[0ms1\u001b[0m\u001b[0;34m.\u001b[0m\u001b[0mreplace\u001b[0m\u001b[0;34m(\u001b[0m\u001b[0mold\u001b[0m\u001b[0;34m,\u001b[0m \u001b[0mnew\u001b[0m\u001b[0;34m,\u001b[0m \u001b[0mcount\u001b[0m\u001b[0;34m=\u001b[0m\u001b[0;34m-\u001b[0m\u001b[0;36m1\u001b[0m\u001b[0;34m,\u001b[0m \u001b[0;34m/\u001b[0m\u001b[0;34m)\u001b[0m\u001b[0;34m\u001b[0m\u001b[0;34m\u001b[0m\u001b[0m\n",
       "\u001b[0;31mDocstring:\u001b[0m\n",
       "Return a copy with all occurrences of substring old replaced by new.\n",
       "\n",
       "  count\n",
       "    Maximum number of occurrences to replace.\n",
       "    -1 (the default value) means replace all occurrences.\n",
       "\n",
       "If the optional argument count is given, only the first count occurrences are\n",
       "replaced.\n",
       "\u001b[0;31mType:\u001b[0m      builtin_function_or_method\n"
      ]
     },
     "metadata": {},
     "output_type": "display_data"
    }
   ],
   "source": [
    "?s1.replace"
   ]
  },
  {
   "cell_type": "code",
   "execution_count": 83,
   "id": "e33be5d6-6fdb-40aa-89c0-7076bb5477ba",
   "metadata": {},
   "outputs": [
    {
     "data": {
      "text/plain": [
       "'This is a famous quote'"
      ]
     },
     "execution_count": 83,
     "metadata": {},
     "output_type": "execute_result"
    }
   ],
   "source": [
    "s1.replace('\"','')"
   ]
  },
  {
   "cell_type": "markdown",
   "id": "9e88b108-b19e-4e0c-abb5-004d5113988f",
   "metadata": {},
   "source": [
    "### Class Demonstration [Common Programming Interview problems](https://www.geeksforgeeks.org/python-uppercase-half-string/)\n",
    "- input : test_str = dino\n",
    "- Output : diNO\n",
    "- Explanation : Latter half of string is uppercased.\n",
    "\n",
    "- Input : test_str = apples\n",
    "- Output : appLES\n",
    "- Explanation : Latter half of string is uppercased."
   ]
  },
  {
   "cell_type": "code",
   "execution_count": 3,
   "id": "70392528-dc3e-41e6-8cc4-a460508a7a86",
   "metadata": {},
   "outputs": [],
   "source": [
    "## Assumption even strings\n",
    "test_str = 'dino'"
   ]
  },
  {
   "cell_type": "code",
   "execution_count": 5,
   "id": "fc6b20a2-7459-471d-9ba0-61f56cbede4f",
   "metadata": {},
   "outputs": [
    {
     "data": {
      "text/plain": [
       "2.0"
      ]
     },
     "execution_count": 5,
     "metadata": {},
     "output_type": "execute_result"
    }
   ],
   "source": [
    "len(test_str)/2"
   ]
  },
  {
   "cell_type": "code",
   "execution_count": 6,
   "id": "3ce3f68a-508e-4014-9687-088fea7f18e9",
   "metadata": {},
   "outputs": [
    {
     "data": {
      "text/plain": [
       "'d'"
      ]
     },
     "execution_count": 6,
     "metadata": {},
     "output_type": "execute_result"
    }
   ],
   "source": [
    "test_str[0]"
   ]
  },
  {
   "cell_type": "code",
   "execution_count": 7,
   "id": "d30cf3d4-50e3-4cd4-a5ea-49bb0b49763c",
   "metadata": {},
   "outputs": [
    {
     "data": {
      "text/plain": [
       "'i'"
      ]
     },
     "execution_count": 7,
     "metadata": {},
     "output_type": "execute_result"
    }
   ],
   "source": [
    "test_str[1]"
   ]
  },
  {
   "cell_type": "code",
   "execution_count": 8,
   "id": "3ca36680-f374-43f9-aefe-cf8e684fbf5b",
   "metadata": {},
   "outputs": [
    {
     "data": {
      "text/plain": [
       "'n'"
      ]
     },
     "execution_count": 8,
     "metadata": {},
     "output_type": "execute_result"
    }
   ],
   "source": [
    "test_str[2]"
   ]
  },
  {
   "cell_type": "code",
   "execution_count": 15,
   "id": "ee354aa4-9bf9-4e93-9989-6aeaa722dd22",
   "metadata": {},
   "outputs": [],
   "source": [
    "test_str = 'dino'\n",
    "new = \"\"\n",
    "idx = 0\n",
    "for i in test_str:\n",
    "    if idx<len(test_str)/2:\n",
    "        new = new+i\n",
    "    else:\n",
    "        new = new+i.upper()\n",
    "    idx = idx+1"
   ]
  },
  {
   "cell_type": "code",
   "execution_count": 16,
   "id": "f572e312-f51a-489a-a961-03835e55be8b",
   "metadata": {},
   "outputs": [
    {
     "name": "stdout",
     "output_type": "stream",
     "text": [
      "diNO\n"
     ]
    }
   ],
   "source": [
    "print(new)"
   ]
  },
  {
   "cell_type": "code",
   "execution_count": 19,
   "id": "303d9bae-0d5b-4cfe-a15c-4a820c948458",
   "metadata": {},
   "outputs": [],
   "source": [
    "test_str = 'dino'\n",
    "mid_idx = int(len(test_str)/2)"
   ]
  },
  {
   "cell_type": "code",
   "execution_count": 20,
   "id": "47af92b5-e864-4a32-b273-c48406401b60",
   "metadata": {},
   "outputs": [
    {
     "data": {
      "text/plain": [
       "2"
      ]
     },
     "execution_count": 20,
     "metadata": {},
     "output_type": "execute_result"
    }
   ],
   "source": [
    "mid_idx"
   ]
  },
  {
   "cell_type": "code",
   "execution_count": 47,
   "id": "e76f8b91-8bfd-4a36-8eef-3318ea1815e3",
   "metadata": {},
   "outputs": [
    {
     "name": "stdout",
     "output_type": "stream",
     "text": [
      "kiTE\n"
     ]
    }
   ],
   "source": [
    "test_str = 'kite'\n",
    "new = ''\n",
    "mid_idx = int(len(test_str)/2)\n",
    "counter = 0\n",
    "for i in test_str:\n",
    "    if counter < mid_idx:\n",
    "        new = new + i    \n",
    "    else:\n",
    "        new = new + i.upper()\n",
    "    counter = counter+1\n",
    "print(new)"
   ]
  },
  {
   "cell_type": "markdown",
   "id": "a5a7a9fb-2fbd-4fe0-8caa-67f8e60e3478",
   "metadata": {},
   "source": [
    "```python\n",
    "def name_func(inputs):\n",
    "    logic\n",
    "    return output\n",
    "```    "
   ]
  },
  {
   "cell_type": "code",
   "execution_count": 48,
   "id": "0ac9d695-902e-463b-82a9-aef7aa42b92b",
   "metadata": {},
   "outputs": [],
   "source": [
    "def transform(test_str):\n",
    "    new = ''\n",
    "    mid_idx = int(len(test_str)/2)\n",
    "    counter = 0\n",
    "    for i in test_str:\n",
    "        if counter < mid_idx:\n",
    "            new = new + i    \n",
    "        else:\n",
    "            new = new + i.upper()\n",
    "        counter = counter+1\n",
    "    return new   "
   ]
  },
  {
   "cell_type": "code",
   "execution_count": 49,
   "id": "9038b651-e5f9-4287-9a3d-3f76d44a334e",
   "metadata": {},
   "outputs": [
    {
     "data": {
      "text/plain": [
       "'kiTE'"
      ]
     },
     "execution_count": 49,
     "metadata": {},
     "output_type": "execute_result"
    }
   ],
   "source": [
    "transform('kite')"
   ]
  },
  {
   "cell_type": "markdown",
   "id": "bf0ed81b-7f3a-4d12-be0d-6d23892c1a9a",
   "metadata": {},
   "source": [
    "### Class Excercise [source](https://www.geeksforgeeks.org/python-program-to-check-if-a-string-has-at-least-one-letter-and-one-number/) (Try to solve on your own)\n",
    "\n",
    "- Input: welcome2ourcountry34\n",
    "- Output: True\n",
    "\n",
    "- Input: stringwithoutnum\n",
    "- Output: False\n",
    "\n",
    "- Hints: Look at the output of dir() for any string object and find out the methods which can help in finding which element is a string and which is a number\n",
    "\n"
   ]
  },
  {
   "cell_type": "code",
   "execution_count": 60,
   "id": "7a6ae072-c66e-4b35-9d88-5e6185daadfd",
   "metadata": {},
   "outputs": [
    {
     "name": "stdout",
     "output_type": "stream",
     "text": [
      "True\n"
     ]
    }
   ],
   "source": [
    "test_str = \"welcome2ourcountry34\"\n",
    "memory_digits = 0\n",
    "memory_alpha = 0\n",
    "for i in test_str:\n",
    "    if i.isdigit():\n",
    "        memory_digits = memory_digits + 1\n",
    "    if i.isalpha():\n",
    "        memory_alpha = memory_alpha + 1\n",
    "if memory_digits>0 and memory_alpha>0:\n",
    "    print(True)\n",
    "else:\n",
    "    print(False)        "
   ]
  },
  {
   "cell_type": "code",
   "execution_count": 10,
   "id": "f3813eeb-499a-45b0-95ee-4848b37467ce",
   "metadata": {},
   "outputs": [],
   "source": [
    "## is_valid(input_str)\n",
    "def is_valid_v1(test_str):\n",
    "    memory_digits = 0\n",
    "    memory_alpha = 0\n",
    "    for i in test_str:\n",
    "        if i.isdigit():\n",
    "            memory_digits = memory_digits + 1\n",
    "        if i.isalpha():\n",
    "            memory_alpha = memory_alpha + 1\n",
    "    if memory_digits>0 and memory_alpha>0:\n",
    "        return True\n",
    "    else:\n",
    "        return False"
   ]
  },
  {
   "cell_type": "code",
   "execution_count": 11,
   "id": "49e8e781-cabb-4304-b7e3-19c401e6f975",
   "metadata": {},
   "outputs": [],
   "source": [
    "## is_valid(input_str)\n",
    "def is_valid_v2(test_str):\n",
    "    memory_digits = 0\n",
    "    memory_alpha = 0\n",
    "    for i in test_str:\n",
    "        if i.isdigit():\n",
    "            memory_digits = memory_digits + 1\n",
    "        if i.isalpha():\n",
    "            memory_alpha = memory_alpha + 1\n",
    "    if memory_digits>0 and memory_alpha>0:\n",
    "        res = True\n",
    "    else:\n",
    "        res = False\n",
    "    return res"
   ]
  },
  {
   "cell_type": "code",
   "execution_count": 12,
   "id": "a5f45286-b0d8-4f5a-b63e-f48ddbfb0766",
   "metadata": {},
   "outputs": [],
   "source": [
    "def is_valid_v3(test_str):\n",
    "    memory_digits = 0\n",
    "    memory_alpha = 0\n",
    "    for i in test_str:\n",
    "        if i.isdigit():\n",
    "            memory_digits = memory_digits + 1\n",
    "        if i.isalpha():\n",
    "            memory_alpha = memory_alpha + 1\n",
    "    if memory_digits>0 and memory_alpha>0:\n",
    "        print(True)\n",
    "    else:\n",
    "        print(False)"
   ]
  },
  {
   "cell_type": "code",
   "execution_count": 32,
   "id": "735cbb0c-4674-4eec-be38-cbddae269ff9",
   "metadata": {},
   "outputs": [
    {
     "name": "stdout",
     "output_type": "stream",
     "text": [
      "True\n"
     ]
    }
   ],
   "source": [
    "a = is_valid_v3(\"welcome2ourcountry34\")"
   ]
  },
  {
   "cell_type": "code",
   "execution_count": 33,
   "id": "37386e09-0734-4275-ad86-5d489a21762e",
   "metadata": {},
   "outputs": [],
   "source": [
    "a"
   ]
  },
  {
   "cell_type": "code",
   "execution_count": 73,
   "id": "4f6cc7e6-79b8-431e-bcb2-532f499c8245",
   "metadata": {},
   "outputs": [],
   "source": [
    "### Lists: General Bucket\n",
    "num_list = [1,2,3,4,5,6]"
   ]
  },
  {
   "cell_type": "code",
   "execution_count": 74,
   "id": "e46a0f93-035d-4ed4-a9bd-2c0dba2fec17",
   "metadata": {},
   "outputs": [],
   "source": [
    "str_list = ['abc','def','ghi']"
   ]
  },
  {
   "cell_type": "code",
   "execution_count": 75,
   "id": "e31237dd-fba0-48e5-ac59-a45b86d3f100",
   "metadata": {},
   "outputs": [
    {
     "data": {
      "text/plain": [
       "1"
      ]
     },
     "execution_count": 75,
     "metadata": {},
     "output_type": "execute_result"
    }
   ],
   "source": [
    "num_list[0]"
   ]
  },
  {
   "cell_type": "code",
   "execution_count": 76,
   "id": "a3c12b0e-0428-4788-98ca-827d05096880",
   "metadata": {},
   "outputs": [
    {
     "data": {
      "text/plain": [
       "3"
      ]
     },
     "execution_count": 76,
     "metadata": {},
     "output_type": "execute_result"
    }
   ],
   "source": [
    "num_list[2]"
   ]
  },
  {
   "cell_type": "code",
   "execution_count": 77,
   "id": "75ee6dad-6709-45a8-83b4-9ed08cb64196",
   "metadata": {},
   "outputs": [
    {
     "name": "stdout",
     "output_type": "stream",
     "text": [
      "abc\n",
      "def\n",
      "ghi\n"
     ]
    }
   ],
   "source": [
    "for i in str_list:\n",
    "    print(i)"
   ]
  },
  {
   "cell_type": "code",
   "execution_count": 82,
   "id": "6ec71060-f78c-4229-89de-bf808668909e",
   "metadata": {},
   "outputs": [],
   "source": [
    "abc = 1"
   ]
  },
  {
   "cell_type": "code",
   "execution_count": 84,
   "id": "0f91114e-0aad-452f-96a3-dccd946d9c3f",
   "metadata": {},
   "outputs": [],
   "source": [
    "mixed_list = [1,2,3,\"abc\",\"def\", [5,6,7],'fff']"
   ]
  },
  {
   "cell_type": "code",
   "execution_count": 86,
   "id": "a741f21f-2594-4703-b5a6-ca9661451323",
   "metadata": {},
   "outputs": [
    {
     "data": {
      "text/plain": [
       "[5, 6, 7]"
      ]
     },
     "execution_count": 86,
     "metadata": {},
     "output_type": "execute_result"
    }
   ],
   "source": [
    "mixed_list[5]"
   ]
  },
  {
   "cell_type": "code",
   "execution_count": 87,
   "id": "ce71d755-df26-4e84-96a7-90fac6f79dff",
   "metadata": {},
   "outputs": [
    {
     "data": {
      "text/plain": [
       "6"
      ]
     },
     "execution_count": 87,
     "metadata": {},
     "output_type": "execute_result"
    }
   ],
   "source": [
    "mixed_list[5][1]"
   ]
  },
  {
   "cell_type": "code",
   "execution_count": 88,
   "id": "6f300458-b135-415d-8560-e9d1f7882ed3",
   "metadata": {},
   "outputs": [],
   "source": [
    "amazon_review = '''\n",
    "What can I say!\n",
    "SIMPLY SPECTACULAR.\n",
    "PUBG - smooth +90 FPS\n",
    "Smashing all the bench marks by some margin (140%~~)\n",
    "4 SPEAKERS are like home theatre.\n",
    "Battery backup is excellent\n",
    "Could have been better than 20 wts charger\n",
    "\n",
    "I will keep u guys posted...stay tuned\n",
    "\n",
    "'''"
   ]
  },
  {
   "cell_type": "code",
   "execution_count": 91,
   "id": "4cbb90ff-14c0-4645-accf-42723cf97dc0",
   "metadata": {},
   "outputs": [
    {
     "name": "stdout",
     "output_type": "stream",
     "text": [
      "8\n"
     ]
    }
   ],
   "source": [
    "sent_count = 0\n",
    "for i in amazon_review.split(\"\\n\"):\n",
    "    if i!=\"\": ## not equal to\n",
    "        sent_count = sent_count+1\n",
    "print(sent_count)   "
   ]
  },
  {
   "cell_type": "code",
   "execution_count": 92,
   "id": "e0bcabb1-4dee-45fa-bb3e-137237314634",
   "metadata": {},
   "outputs": [
    {
     "data": {
      "text/plain": [
       "['',\n",
       " 'What can I say!',\n",
       " 'SIMPLY SPECTACULAR.',\n",
       " 'PUBG - smooth +90 FPS',\n",
       " 'Smashing all the bench marks by some margin (140%~~)',\n",
       " '4 SPEAKERS are like home theatre.',\n",
       " 'Battery backup is excellent',\n",
       " 'Could have been better than 20 wts charger',\n",
       " '',\n",
       " 'I will keep u guys posted...stay tuned',\n",
       " '',\n",
       " '']"
      ]
     },
     "execution_count": 92,
     "metadata": {},
     "output_type": "execute_result"
    }
   ],
   "source": [
    "### Only give me a list of sentences\n",
    "amazon_review.split(\"\\n\")"
   ]
  },
  {
   "cell_type": "code",
   "execution_count": 94,
   "id": "1366f968-a426-4d9d-8e76-dcde224e4306",
   "metadata": {},
   "outputs": [
    {
     "name": "stdout",
     "output_type": "stream",
     "text": [
      "['__add__', '__class__', '__class_getitem__', '__contains__', '__delattr__', '__delitem__', '__dir__', '__doc__', '__eq__', '__format__', '__ge__', '__getattribute__', '__getitem__', '__gt__', '__hash__', '__iadd__', '__imul__', '__init__', '__init_subclass__', '__iter__', '__le__', '__len__', '__lt__', '__mul__', '__ne__', '__new__', '__reduce__', '__reduce_ex__', '__repr__', '__reversed__', '__rmul__', '__setattr__', '__setitem__', '__sizeof__', '__str__', '__subclasshook__', 'append', 'clear', 'copy', 'count', 'extend', 'index', 'insert', 'pop', 'remove', 'reverse', 'sort']\n"
     ]
    }
   ],
   "source": [
    "print(dir(mixed_list))"
   ]
  },
  {
   "cell_type": "code",
   "execution_count": 95,
   "id": "bcb42c8d-f275-4610-a654-6a7155608f66",
   "metadata": {},
   "outputs": [
    {
     "name": "stdout",
     "output_type": "stream",
     "text": [
      "['What can I say!', 'SIMPLY SPECTACULAR.', 'PUBG - smooth +90 FPS', 'Smashing all the bench marks by some margin (140%~~)', '4 SPEAKERS are like home theatre.', 'Battery backup is excellent', 'Could have been better than 20 wts charger', 'I will keep u guys posted...stay tuned']\n"
     ]
    }
   ],
   "source": [
    "sent = []\n",
    "for i in amazon_review.split(\"\\n\"):\n",
    "    if i!=\"\":\n",
    "        sent.append(i)\n",
    "print(sent)"
   ]
  },
  {
   "cell_type": "code",
   "execution_count": 96,
   "id": "10b0f1af-2aac-447e-b9c5-c732aeeb3155",
   "metadata": {},
   "outputs": [
    {
     "data": {
      "text/plain": [
       "\u001b[0;31mSignature:\u001b[0m \u001b[0mmixed_list\u001b[0m\u001b[0;34m.\u001b[0m\u001b[0mremove\u001b[0m\u001b[0;34m(\u001b[0m\u001b[0mvalue\u001b[0m\u001b[0;34m,\u001b[0m \u001b[0;34m/\u001b[0m\u001b[0;34m)\u001b[0m\u001b[0;34m\u001b[0m\u001b[0;34m\u001b[0m\u001b[0m\n",
       "\u001b[0;31mDocstring:\u001b[0m\n",
       "Remove first occurrence of value.\n",
       "\n",
       "Raises ValueError if the value is not present.\n",
       "\u001b[0;31mType:\u001b[0m      builtin_function_or_method\n"
      ]
     },
     "metadata": {},
     "output_type": "display_data"
    }
   ],
   "source": [
    "?mixed_list.remove"
   ]
  },
  {
   "cell_type": "code",
   "execution_count": 97,
   "id": "da52aebc-89f7-49b6-ae7d-94be2e8b01e1",
   "metadata": {},
   "outputs": [
    {
     "name": "stdout",
     "output_type": "stream",
     "text": [
      "['What can I say!', 'SIMPLY SPECTACULAR.', 'PUBG - smooth +90 FPS', 'Smashing all the bench marks by some margin (140%~~)', '4 SPEAKERS are like home theatre.', 'Battery backup is excellent', 'Could have been better than 20 wts charger', 'I will keep u guys posted...stay tuned']\n"
     ]
    }
   ],
   "source": [
    "sent = amazon_review.split(\"\\n\")\n",
    "for i in amazon_review.split(\"\\n\"):\n",
    "    if i == \"\":\n",
    "        sent.remove(\"\")\n",
    "print(sent)\n",
    "    "
   ]
  },
  {
   "cell_type": "code",
   "execution_count": 1,
   "id": "e25b4aac-4f00-490e-b33a-e57273683814",
   "metadata": {},
   "outputs": [],
   "source": [
    "s1 = \"This is string 1\"\n",
    "s2 = \"This is string 2\""
   ]
  },
  {
   "cell_type": "code",
   "execution_count": 2,
   "id": "541adf34-d7b4-419b-9399-f5ff03bb9039",
   "metadata": {},
   "outputs": [
    {
     "data": {
      "text/plain": [
       "'This is string 1This is string 2'"
      ]
     },
     "execution_count": 2,
     "metadata": {},
     "output_type": "execute_result"
    }
   ],
   "source": [
    "s1+s2"
   ]
  },
  {
   "cell_type": "code",
   "execution_count": 3,
   "id": "aed6eec4-7fd9-4a88-8c7d-fd546d042e38",
   "metadata": {},
   "outputs": [
    {
     "data": {
      "text/plain": [
       "'This is string 1 This is string 2'"
      ]
     },
     "execution_count": 3,
     "metadata": {},
     "output_type": "execute_result"
    }
   ],
   "source": [
    "s1+\" \"+s2"
   ]
  },
  {
   "cell_type": "code",
   "execution_count": 6,
   "id": "3186b037-2541-4af9-9891-995773ea5008",
   "metadata": {},
   "outputs": [
    {
     "data": {
      "text/plain": [
       "'This is string 1 This is string 2'"
      ]
     },
     "execution_count": 6,
     "metadata": {},
     "output_type": "execute_result"
    }
   ],
   "source": [
    "f'{s1} {s2}'"
   ]
  },
  {
   "cell_type": "code",
   "execution_count": 7,
   "id": "f102a750-6de5-439b-b3d9-05f4b15758ae",
   "metadata": {},
   "outputs": [],
   "source": [
    "s3 = 1"
   ]
  },
  {
   "cell_type": "code",
   "execution_count": 8,
   "id": "e8e2bfcd-fe99-4f39-b6d7-6605899bd943",
   "metadata": {},
   "outputs": [
    {
     "data": {
      "text/plain": [
       "'1 This is string 1'"
      ]
     },
     "execution_count": 8,
     "metadata": {},
     "output_type": "execute_result"
    }
   ],
   "source": [
    "f'{s3} {s1}'"
   ]
  },
  {
   "cell_type": "code",
   "execution_count": 9,
   "id": "f25b7172-9d91-4c9b-a162-1711e2674810",
   "metadata": {},
   "outputs": [
    {
     "data": {
      "text/plain": [
       "'1 This is string 1'"
      ]
     },
     "execution_count": 9,
     "metadata": {},
     "output_type": "execute_result"
    }
   ],
   "source": [
    "str(s3)+\" \"+s1"
   ]
  },
  {
   "cell_type": "code",
   "execution_count": 34,
   "id": "6deff0c9-9a24-4eae-bff7-2a33427fa0d6",
   "metadata": {},
   "outputs": [],
   "source": [
    "dinkar = '''\n",
    "वर्षों तक वन में घूम-घूम,\n",
    "बाधा-विघ्नों को चूम-चूम,\n",
    "सह धूप-घाम, पानी-पत्थर,\n",
    "पांडव आये कुछ और निखर।\n",
    "सौभाग्य न सब दिन सोता है,\n",
    "देखें, आगे क्या होता है।\n",
    "\n",
    "मैत्री की राह बताने को,\n",
    "सबको सुमार्ग पर लाने को,\n",
    "दुर्योधन को समझाने को,\n",
    "भीषण विध्वंस बचाने को,\n",
    "भगवान् हस्तिनापुर आये,\n",
    "पांडव का संदेशा लाये।\n",
    "\n",
    "‘दो न्याय अगर तो आधा दो,\n",
    "पर, इसमें भी यदि बाधा हो,\n",
    "तो दे दो केवल पाँच ग्राम,\n",
    "रक्खो अपनी धरती तमाम।\n",
    "हम वहीं खुशी से खायेंगे,\n",
    "परिजन पर असि न उठायेंगे!\n",
    "\n",
    "दुर्योधन वह भी दे ना सका,\n",
    "आशीष समाज की ले न सका,\n",
    "उलटे, हरि को बाँधने चला,\n",
    "जो था असाध्य, साधने चला।\n",
    "जब नाश मनुज पर छाता है,\n",
    "पहले विवेक मर जाता है।\n",
    "\n",
    "हरि ने भीषण हुंकार किया,\n",
    "अपना स्वरूप-विस्तार किया,\n",
    "डगमग-डगमग दिग्गज डोले,\n",
    "भगवान् कुपित होकर बोले-\n",
    "‘जंजीर बढ़ा कर साध मुझे,\n",
    "हाँ, हाँ दुर्योधन! बाँध मुझे।\n",
    "\n",
    "यह देख, गगन मुझमें लय है,\n",
    "यह देख, पवन मुझमें लय है,\n",
    "मुझमें विलीन झंकार सकल,\n",
    "मुझमें लय है संसार सकल।\n",
    "अमरत्व फूलता है मुझमें,\n",
    "संहार झूलता है मुझमें।\n",
    "'''"
   ]
  },
  {
   "cell_type": "code",
   "execution_count": 35,
   "id": "0e53c8a3-2f3b-4e90-a286-ae24d72dfce4",
   "metadata": {},
   "outputs": [
    {
     "data": {
      "text/plain": [
       "'\\nवर्षों तक वन में घूम-घूम,\\nबाधा-विघ्नों को चूम-चूम,\\nसह धूप-घाम, पानी-पत्थर,\\nपांडव आये कुछ और निखर।\\nसौभाग्य न सब दिन सोता है,\\nदेखें, आगे क्या होता है।\\n\\nमैत्री की राह बताने को,\\nसबको सुमार्ग पर लाने को,\\nदुर्योधन को समझाने को,\\nभीषण विध्वंस बचाने को,\\nभगवान् हस्तिनापुर आये,\\nपांडव का संदेशा लाये।\\n\\n‘दो न्याय अगर तो आधा दो,\\nपर, इसमें भी यदि बाधा हो,\\nतो दे दो केवल पाँच ग्राम,\\nरक्खो अपनी धरती तमाम।\\nहम वहीं खुशी से खायेंगे,\\nपरिजन पर असि न उठायेंगे!\\n\\nदुर्योधन वह भी दे ना सका,\\nआशीष समाज की ले न सका,\\nउलटे, हरि को बाँधने चला,\\nजो था असाध्य, साधने चला।\\nजब नाश मनुज पर छाता है,\\nपहले विवेक मर जाता है।\\n\\nहरि ने भीषण हुंकार किया,\\nअपना स्वरूप-विस्तार किया,\\nडगमग-डगमग दिग्गज डोले,\\nभगवान् कुपित होकर बोले-\\n‘जंजीर बढ़ा कर साध मुझे,\\nहाँ, हाँ दुर्योधन! बाँध मुझे।\\n\\nयह देख, गगन मुझमें लय है,\\nयह देख, पवन मुझमें लय है,\\nमुझमें विलीन झंकार सकल,\\nमुझमें लय है संसार सकल।\\nअमरत्व फूलता है मुझमें,\\nसंहार झूलता है मुझमें।\\n'"
      ]
     },
     "execution_count": 35,
     "metadata": {},
     "output_type": "execute_result"
    }
   ],
   "source": [
    "### Count programmatically how many stanzas are there?\n",
    "dinkar"
   ]
  },
  {
   "cell_type": "code",
   "execution_count": 36,
   "id": "bc1e6c3e-ad9c-4c2b-afc7-c15bb2bf60cc",
   "metadata": {},
   "outputs": [
    {
     "data": {
      "text/plain": [
       "['\\nवर्षों तक वन में घूम-घूम,\\nबाधा-विघ्नों को चूम-चूम,\\nसह धूप-घाम, पानी-पत्थर,\\nपांडव आये कुछ और निखर।\\nसौभाग्य न सब दिन सोता है,\\nदेखें, आगे क्या होता है।',\n",
       " 'मैत्री की राह बताने को,\\nसबको सुमार्ग पर लाने को,\\nदुर्योधन को समझाने को,\\nभीषण विध्वंस बचाने को,\\nभगवान् हस्तिनापुर आये,\\nपांडव का संदेशा लाये।',\n",
       " '‘दो न्याय अगर तो आधा दो,\\nपर, इसमें भी यदि बाधा हो,\\nतो दे दो केवल पाँच ग्राम,\\nरक्खो अपनी धरती तमाम।\\nहम वहीं खुशी से खायेंगे,\\nपरिजन पर असि न उठायेंगे!',\n",
       " 'दुर्योधन वह भी दे ना सका,\\nआशीष समाज की ले न सका,\\nउलटे, हरि को बाँधने चला,\\nजो था असाध्य, साधने चला।\\nजब नाश मनुज पर छाता है,\\nपहले विवेक मर जाता है।',\n",
       " 'हरि ने भीषण हुंकार किया,\\nअपना स्वरूप-विस्तार किया,\\nडगमग-डगमग दिग्गज डोले,\\nभगवान् कुपित होकर बोले-\\n‘जंजीर बढ़ा कर साध मुझे,\\nहाँ, हाँ दुर्योधन! बाँध मुझे।',\n",
       " 'यह देख, गगन मुझमें लय है,\\nयह देख, पवन मुझमें लय है,\\nमुझमें विलीन झंकार सकल,\\nमुझमें लय है संसार सकल।\\nअमरत्व फूलता है मुझमें,\\nसंहार झूलता है मुझमें।\\n']"
      ]
     },
     "execution_count": 36,
     "metadata": {},
     "output_type": "execute_result"
    }
   ],
   "source": [
    "dinkar.split(\"\\n\\n\")"
   ]
  },
  {
   "cell_type": "code",
   "execution_count": 37,
   "id": "a77d193f-1ed1-446a-85ca-8ff0e21b5a53",
   "metadata": {},
   "outputs": [
    {
     "data": {
      "text/plain": [
       "6"
      ]
     },
     "execution_count": 37,
     "metadata": {},
     "output_type": "execute_result"
    }
   ],
   "source": [
    "len(dinkar.split(\"\\n\\n\"))"
   ]
  },
  {
   "cell_type": "code",
   "execution_count": 38,
   "id": "66a6f80c-fc60-4951-bd6d-db5b1519b869",
   "metadata": {},
   "outputs": [],
   "source": [
    "### Count the words in each sentence and store the count somewhere.\n",
    "paras = dinkar.split(\"\\n\\n\")"
   ]
  },
  {
   "cell_type": "code",
   "execution_count": 42,
   "id": "fee261f7-ae7d-40d8-a173-37a4b9acd717",
   "metadata": {},
   "outputs": [
    {
     "data": {
      "text/plain": [
       "['\\nवर्षों तक वन में घूम-घूम,\\nबाधा-विघ्नों को चूम-चूम,\\nसह धूप-घाम, पानी-पत्थर,\\nपांडव आये कुछ और निखर।\\nसौभाग्य न सब दिन सोता है,\\nदेखें, आगे क्या होता है।',\n",
       " 'मैत्री की राह बताने को,\\nसबको सुमार्ग पर लाने को,\\nदुर्योधन को समझाने को,\\nभीषण विध्वंस बचाने को,\\nभगवान् हस्तिनापुर आये,\\nपांडव का संदेशा लाये।',\n",
       " '‘दो न्याय अगर तो आधा दो,\\nपर, इसमें भी यदि बाधा हो,\\nतो दे दो केवल पाँच ग्राम,\\nरक्खो अपनी धरती तमाम।\\nहम वहीं खुशी से खायेंगे,\\nपरिजन पर असि न उठायेंगे!',\n",
       " 'दुर्योधन वह भी दे ना सका,\\nआशीष समाज की ले न सका,\\nउलटे, हरि को बाँधने चला,\\nजो था असाध्य, साधने चला।\\nजब नाश मनुज पर छाता है,\\nपहले विवेक मर जाता है।',\n",
       " 'हरि ने भीषण हुंकार किया,\\nअपना स्वरूप-विस्तार किया,\\nडगमग-डगमग दिग्गज डोले,\\nभगवान् कुपित होकर बोले-\\n‘जंजीर बढ़ा कर साध मुझे,\\nहाँ, हाँ दुर्योधन! बाँध मुझे।',\n",
       " 'यह देख, गगन मुझमें लय है,\\nयह देख, पवन मुझमें लय है,\\nमुझमें विलीन झंकार सकल,\\nमुझमें लय है संसार सकल।\\nअमरत्व फूलता है मुझमें,\\nसंहार झूलता है मुझमें।\\n']"
      ]
     },
     "execution_count": 42,
     "metadata": {},
     "output_type": "execute_result"
    }
   ],
   "source": [
    "paras"
   ]
  },
  {
   "cell_type": "code",
   "execution_count": 59,
   "id": "caaf2262-d20e-4ebe-a0cf-ac390437ae2c",
   "metadata": {},
   "outputs": [
    {
     "data": {
      "text/plain": [
       "21"
      ]
     },
     "execution_count": 59,
     "metadata": {},
     "output_type": "execute_result"
    }
   ],
   "source": [
    "paras[0].count(\" \")"
   ]
  },
  {
   "cell_type": "code",
   "execution_count": 53,
   "id": "3d428ac0-bc92-4b8c-9860-d865940bc202",
   "metadata": {},
   "outputs": [
    {
     "name": "stdout",
     "output_type": "stream",
     "text": [
      "149\n",
      "139\n",
      "148\n",
      "145\n",
      "152\n",
      "147\n"
     ]
    }
   ],
   "source": [
    "for p in paras:\n",
    "    print(len(p))"
   ]
  },
  {
   "cell_type": "code",
   "execution_count": 70,
   "id": "7089daeb-cbe8-4bec-8f6b-cb86cdf7e962",
   "metadata": {},
   "outputs": [
    {
     "name": "stdout",
     "output_type": "stream",
     "text": [
      "5 ['वर्षों', 'तक', 'वन', 'में', 'घूम-घूम,']\n",
      "3 ['बाधा-विघ्नों', 'को', 'चूम-चूम,']\n",
      "3 ['सह', 'धूप-घाम,', 'पानी-पत्थर,']\n",
      "5 ['पांडव', 'आये', 'कुछ', 'और', 'निखर।']\n",
      "6 ['सौभाग्य', 'न', 'सब', 'दिन', 'सोता', 'है,']\n",
      "5 ['देखें,', 'आगे', 'क्या', 'होता', 'है।']\n",
      "****\n",
      "27\n",
      "****\n",
      "5 ['मैत्री', 'की', 'राह', 'बताने', 'को,']\n",
      "5 ['सबको', 'सुमार्ग', 'पर', 'लाने', 'को,']\n",
      "4 ['दुर्योधन', 'को', 'समझाने', 'को,']\n",
      "4 ['भीषण', 'विध्वंस', 'बचाने', 'को,']\n",
      "3 ['भगवान्', 'हस्तिनापुर', 'आये,']\n",
      "4 ['पांडव', 'का', 'संदेशा', 'लाये।']\n",
      "****\n",
      "25\n",
      "****\n",
      "6 ['‘दो', 'न्याय', 'अगर', 'तो', 'आधा', 'दो,']\n",
      "6 ['पर,', 'इसमें', 'भी', 'यदि', 'बाधा', 'हो,']\n",
      "6 ['तो', 'दे', 'दो', 'केवल', 'पाँच', 'ग्राम,']\n",
      "4 ['रक्खो', 'अपनी', 'धरती', 'तमाम।']\n",
      "5 ['हम', 'वहीं', 'खुशी', 'से', 'खायेंगे,']\n",
      "5 ['परिजन', 'पर', 'असि', 'न', 'उठायेंगे!']\n",
      "****\n",
      "32\n",
      "****\n",
      "6 ['दुर्योधन', 'वह', 'भी', 'दे', 'ना', 'सका,']\n",
      "6 ['आशीष', 'समाज', 'की', 'ले', 'न', 'सका,']\n",
      "5 ['उलटे,', 'हरि', 'को', 'बाँधने', 'चला,']\n",
      "5 ['जो', 'था', 'असाध्य,', 'साधने', 'चला।']\n",
      "6 ['जब', 'नाश', 'मनुज', 'पर', 'छाता', 'है,']\n",
      "5 ['पहले', 'विवेक', 'मर', 'जाता', 'है।']\n",
      "****\n",
      "33\n",
      "****\n",
      "5 ['हरि', 'ने', 'भीषण', 'हुंकार', 'किया,']\n",
      "3 ['अपना', 'स्वरूप-विस्तार', 'किया,']\n",
      "3 ['डगमग-डगमग', 'दिग्गज', 'डोले,']\n",
      "4 ['भगवान्', 'कुपित', 'होकर', 'बोले-']\n",
      "5 ['‘जंजीर', 'बढ़ा', 'कर', 'साध', 'मुझे,']\n",
      "5 ['हाँ,', 'हाँ', 'दुर्योधन!', 'बाँध', 'मुझे।']\n",
      "****\n",
      "25\n",
      "****\n",
      "6 ['यह', 'देख,', 'गगन', 'मुझमें', 'लय', 'है,']\n",
      "6 ['यह', 'देख,', 'पवन', 'मुझमें', 'लय', 'है,']\n",
      "4 ['मुझमें', 'विलीन', 'झंकार', 'सकल,']\n",
      "5 ['मुझमें', 'लय', 'है', 'संसार', 'सकल।']\n",
      "4 ['अमरत्व', 'फूलता', 'है', 'मुझमें,']\n",
      "4 ['संहार', 'झूलता', 'है', 'मुझमें।']\n",
      "****\n",
      "29\n",
      "****\n",
      "[5, 3, 3, 5, 6, 5, 5, 5, 4, 4, 3, 4, 6, 6, 6, 4, 5, 5, 6, 6, 5, 5, 6, 5, 5, 3, 3, 4, 5, 5, 6, 6, 4, 5, 4, 4]\n",
      "[27, 25, 32, 33, 25, 29]\n"
     ]
    }
   ],
   "source": [
    "### Count the number of \"words\" in each para, store those counts\n",
    "counts=[]\n",
    "words_para = []\n",
    "for p in paras:\n",
    "    count_para = 0\n",
    "    sents = p.split(\"\\n\")\n",
    "    for sent in sents:\n",
    "        if sent!=\"\":\n",
    "            num_words_sent = len(sent.split(\" \"))\n",
    "            count_para = count_para + num_words_sent\n",
    "            print(num_words_sent, sent.split(\" \"))\n",
    "            counts.append(num_words_sent)\n",
    "    print(\"****\")\n",
    "    print(count_para)\n",
    "    print(\"****\")\n",
    "    words_para.append(count_para)\n",
    "print(counts)\n",
    "print(words_para)"
   ]
  },
  {
   "cell_type": "code",
   "execution_count": 55,
   "id": "44ca42da-6986-4511-88a8-11900fc18f2f",
   "metadata": {},
   "outputs": [
    {
     "data": {
      "text/plain": [
       "171"
      ]
     },
     "execution_count": 55,
     "metadata": {},
     "output_type": "execute_result"
    }
   ],
   "source": [
    "sum(counts)"
   ]
  },
  {
   "cell_type": "code",
   "execution_count": 69,
   "id": "2e551e63-4f19-4835-9b25-db622f51e185",
   "metadata": {},
   "outputs": [
    {
     "data": {
      "text/plain": [
       "171"
      ]
     },
     "execution_count": 69,
     "metadata": {},
     "output_type": "execute_result"
    }
   ],
   "source": [
    "sum(words_para)"
   ]
  },
  {
   "cell_type": "code",
   "execution_count": 72,
   "id": "82b1ee6b-f127-4174-8f56-aa88483edd69",
   "metadata": {},
   "outputs": [
    {
     "name": "stdout",
     "output_type": "stream",
     "text": [
      "वर्षों 1\n",
      "तक 2\n",
      "वन 3\n",
      "में 4\n",
      "घूम-घूम, 5\n",
      "बाधा-विघ्नों 1\n",
      "को 2\n",
      "चूम-चूम, 3\n",
      "सह 1\n",
      "धूप-घाम, 2\n",
      "पानी-पत्थर, 3\n",
      "पांडव 1\n",
      "आये 2\n",
      "कुछ 3\n",
      "और 4\n",
      "निखर। 5\n",
      "सौभाग्य 1\n",
      "न 2\n",
      "सब 3\n",
      "दिन 4\n",
      "सोता 5\n",
      "है, 6\n",
      "देखें, 1\n",
      "आगे 2\n",
      "क्या 3\n",
      "होता 4\n",
      "है। 5\n",
      "मैत्री 1\n",
      "की 2\n",
      "राह 3\n",
      "बताने 4\n",
      "को, 5\n",
      "सबको 1\n",
      "सुमार्ग 2\n",
      "पर 3\n",
      "लाने 4\n",
      "को, 5\n",
      "दुर्योधन 1\n",
      "को 2\n",
      "समझाने 3\n",
      "को, 4\n",
      "भीषण 1\n",
      "विध्वंस 2\n",
      "बचाने 3\n",
      "को, 4\n",
      "भगवान् 1\n",
      "हस्तिनापुर 2\n",
      "आये, 3\n",
      "पांडव 1\n",
      "का 2\n",
      "संदेशा 3\n",
      "लाये। 4\n",
      "‘दो 1\n",
      "न्याय 2\n",
      "अगर 3\n",
      "तो 4\n",
      "आधा 5\n",
      "दो, 6\n",
      "पर, 1\n",
      "इसमें 2\n",
      "भी 3\n",
      "यदि 4\n",
      "बाधा 5\n",
      "हो, 6\n",
      "तो 1\n",
      "दे 2\n",
      "दो 3\n",
      "केवल 4\n",
      "पाँच 5\n",
      "ग्राम, 6\n",
      "रक्खो 1\n",
      "अपनी 2\n",
      "धरती 3\n",
      "तमाम। 4\n",
      "हम 1\n",
      "वहीं 2\n",
      "खुशी 3\n",
      "से 4\n",
      "खायेंगे, 5\n",
      "परिजन 1\n",
      "पर 2\n",
      "असि 3\n",
      "न 4\n",
      "उठायेंगे! 5\n",
      "दुर्योधन 1\n",
      "वह 2\n",
      "भी 3\n",
      "दे 4\n",
      "ना 5\n",
      "सका, 6\n",
      "आशीष 1\n",
      "समाज 2\n",
      "की 3\n",
      "ले 4\n",
      "न 5\n",
      "सका, 6\n",
      "उलटे, 1\n",
      "हरि 2\n",
      "को 3\n",
      "बाँधने 4\n",
      "चला, 5\n",
      "जो 1\n",
      "था 2\n",
      "असाध्य, 3\n",
      "साधने 4\n",
      "चला। 5\n",
      "जब 1\n",
      "नाश 2\n",
      "मनुज 3\n",
      "पर 4\n",
      "छाता 5\n",
      "है, 6\n",
      "पहले 1\n",
      "विवेक 2\n",
      "मर 3\n",
      "जाता 4\n",
      "है। 5\n",
      "हरि 1\n",
      "ने 2\n",
      "भीषण 3\n",
      "हुंकार 4\n",
      "किया, 5\n",
      "अपना 1\n",
      "स्वरूप-विस्तार 2\n",
      "किया, 3\n",
      "डगमग-डगमग 1\n",
      "दिग्गज 2\n",
      "डोले, 3\n",
      "भगवान् 1\n",
      "कुपित 2\n",
      "होकर 3\n",
      "बोले- 4\n",
      "‘जंजीर 1\n",
      "बढ़ा 2\n",
      "कर 3\n",
      "साध 4\n",
      "मुझे, 5\n",
      "हाँ, 1\n",
      "हाँ 2\n",
      "दुर्योधन! 3\n",
      "बाँध 4\n",
      "मुझे। 5\n",
      "यह 1\n",
      "देख, 2\n",
      "गगन 3\n",
      "मुझमें 4\n",
      "लय 5\n",
      "है, 6\n",
      "यह 1\n",
      "देख, 2\n",
      "पवन 3\n",
      "मुझमें 4\n",
      "लय 5\n",
      "है, 6\n",
      "मुझमें 1\n",
      "विलीन 2\n",
      "झंकार 3\n",
      "सकल, 4\n",
      "मुझमें 1\n",
      "लय 2\n",
      "है 3\n",
      "संसार 4\n",
      "सकल। 5\n",
      "अमरत्व 1\n",
      "फूलता 2\n",
      "है 3\n",
      "मुझमें, 4\n",
      "संहार 1\n",
      "झूलता 2\n",
      "है 3\n",
      "मुझमें। 4\n"
     ]
    }
   ],
   "source": [
    "### Count the number of \"words\" in each para, store those counts\n",
    "counts=[]\n",
    "words_para = []\n",
    "for p in paras:\n",
    "    count_para = 0\n",
    "    sents = p.split(\"\\n\")\n",
    "    for sent in sents:\n",
    "        if sent!=\"\":\n",
    "            idx = 1\n",
    "            for word in sent.split(\" \"):\n",
    "                print(word,idx)\n",
    "                idx = idx+1\n",
    "            "
   ]
  },
  {
   "cell_type": "code",
   "execution_count": 73,
   "id": "67d6b6e1-f3b5-4886-88bd-240f00dc17fa",
   "metadata": {},
   "outputs": [],
   "source": [
    "job_description1 = '''We are a dominant engineering firm that boasts many leading clients. We are determined to stand apart from the competition.'''\n",
    "job_description2 = '''We are a community of engineers who have effective relationships with many satisfied clients. We are committed to understanding the engineer sector intimately. '''\n",
    "job_description3 = '''Strong communication and influencing skills. Ability to perform individually in a competitive environment. Superior ability to satisfy customers and manage company’s association with them.'''\n",
    "job_description4 = '''Proficient oral and written communications skills. Collaborates well in a team environment. Sensitive to clients’ needs, can develop warm client relationships.'''\n",
    "job_description5 = '''Direct project groups to manage project progress and ensure accurate task control. Determine compliance with client’s objectives.'''\n",
    "job_description6 = '''Provide general support to project team in a manner complimentary to the company. Help clients with construction activities.'''"
   ]
  },
  {
   "cell_type": "code",
   "execution_count": 74,
   "id": "4af8ff17-845b-4bee-9faa-fe3f5e6eec0f",
   "metadata": {},
   "outputs": [],
   "source": [
    "feminine_coded_words = [\n",
    "    \"agree\",\n",
    "    \"affectionate\",\n",
    "    \"child\",\n",
    "    \"cheer\",\n",
    "    \"collab\",\n",
    "    \"commit\",\n",
    "    \"communal\",\n",
    "    \"compassion\",\n",
    "    \"connect\",\n",
    "    \"considerate\",\n",
    "    \"cooperat\",\n",
    "    \"co-operat\",\n",
    "    \"depend\",\n",
    "    \"emotiona\",\n",
    "    \"empath\",\n",
    "    \"feel\",\n",
    "    \"flatterable\",\n",
    "    \"gentle\",\n",
    "    \"honest\",\n",
    "    \"interpersonal\",\n",
    "    \"interdependen\",\n",
    "    \"interpersona\",\n",
    "    \"inter-personal\",\n",
    "    \"inter-dependen\",\n",
    "    \"inter-persona\",\n",
    "    \"kind\",\n",
    "    \"kinship\",\n",
    "    \"loyal\",\n",
    "    \"modesty\",\n",
    "    \"nag\",\n",
    "    \"nurtur\",\n",
    "    \"pleasant\",\n",
    "    \"polite\",\n",
    "    \"quiet\",\n",
    "    \"respon\",\n",
    "    \"sensitiv\",\n",
    "    \"submissive\",\n",
    "    \"support\",\n",
    "    \"sympath\",\n",
    "    \"tender\",\n",
    "    \"together\",\n",
    "    \"trust\",\n",
    "    \"understand\",\n",
    "    \"warm\",\n",
    "    \"whin\",\n",
    "    \"enthusias\",\n",
    "    \"inclusive\",\n",
    "    \"yield\",\n",
    "    \"share\",\n",
    "    \"sharin\"\n",
    "]\n",
    "\n",
    "masculine_coded_words = [\n",
    "    \"active\",\n",
    "    \"adventurous\",\n",
    "    \"aggress\",\n",
    "    \"ambitio\",\n",
    "    \"analy\",\n",
    "    \"assert\",\n",
    "    \"athlet\",\n",
    "    \"autonom\",\n",
    "    \"battle\",\n",
    "    \"boast\",\n",
    "    \"challeng\",\n",
    "    \"champion\",\n",
    "    \"compet\",\n",
    "    \"confident\",\n",
    "    \"courag\",\n",
    "    \"decid\",\n",
    "    \"decision\",\n",
    "    \"decisive\",\n",
    "    \"defend\",\n",
    "    \"determin\",\n",
    "    \"domina\",\n",
    "    \"dominant\",\n",
    "    \"driven\",\n",
    "    \"fearless\",\n",
    "    \"fight\",\n",
    "    \"force\",\n",
    "    \"greedy\",\n",
    "    \"head-strong\",\n",
    "    \"headstrong\",\n",
    "    \"hierarch\",\n",
    "    \"hostil\",\n",
    "    \"impulsive\",\n",
    "    \"independen\",\n",
    "    \"individual\",\n",
    "    \"intellect\",\n",
    "    \"lead\",\n",
    "    \"logic\",\n",
    "    \"objective\",\n",
    "    \"opinion\",\n",
    "    \"outspoken\",\n",
    "    \"persist\",\n",
    "    \"principle\",\n",
    "    \"reckless\",\n",
    "    \"self-confiden\",\n",
    "    \"self-relian\",\n",
    "    \"self-sufficien\",\n",
    "    \"selfconfiden\",\n",
    "    \"selfrelian\",\n",
    "    \"selfsufficien\",\n",
    "    \"stubborn\",\n",
    "    \"superior\",\n",
    "    \"unreasonab\"\n",
    "]\n"
   ]
  },
  {
   "cell_type": "code",
   "execution_count": 110,
   "id": "cb780d86-94d8-4a83-a8ea-731813c794f1",
   "metadata": {},
   "outputs": [
    {
     "data": {
      "text/plain": [
       "['We are a dominant engineering firm that boasts many leading clients',\n",
       " ' We are determined to stand apart from the competition',\n",
       " '']"
      ]
     },
     "execution_count": 110,
     "metadata": {},
     "output_type": "execute_result"
    }
   ],
   "source": [
    "### get_sentences() Input = Jd, Output a list of sentences in JD\n",
    "job_description1.strip().split(\".\")"
   ]
  },
  {
   "cell_type": "code",
   "execution_count": 93,
   "id": "e250e58b-c941-4034-92ce-e72fe9fb23ba",
   "metadata": {},
   "outputs": [
    {
     "data": {
      "text/plain": [
       "['We are a community of engineers who have effective relationships with many satisfied clients',\n",
       " ' We are committed to understanding the engineer sector intimately',\n",
       " ' ']"
      ]
     },
     "execution_count": 93,
     "metadata": {},
     "output_type": "execute_result"
    }
   ],
   "source": [
    "job_description2.split(\".\")"
   ]
  },
  {
   "cell_type": "code",
   "execution_count": 92,
   "id": "5ce52eed-8784-4936-a00d-f2df87cce752",
   "metadata": {},
   "outputs": [
    {
     "data": {
      "text/plain": [
       "['Strong communication and influencing skills',\n",
       " ' Ability to perform individually in a competitive environment',\n",
       " ' Superior ability to satisfy customers and manage company’s association with them',\n",
       " '']"
      ]
     },
     "execution_count": 92,
     "metadata": {},
     "output_type": "execute_result"
    }
   ],
   "source": [
    "job_description3.split(\".\")"
   ]
  },
  {
   "cell_type": "code",
   "execution_count": 120,
   "id": "f00b1945-d287-4e87-941a-51d0b9e1fa6c",
   "metadata": {},
   "outputs": [
    {
     "name": "stdout",
     "output_type": "stream",
     "text": [
      "['We are a dominant engineering firm that boasts many leading clients', 'We are determined to stand apart from the competition', '']\n"
     ]
    }
   ],
   "source": [
    "jd = job_description1.split(\".\")\n",
    "sents = []\n",
    "for sent in jd:\n",
    "    sents.append(sent.strip())\n",
    "print(sents)"
   ]
  },
  {
   "cell_type": "code",
   "execution_count": 113,
   "id": "09785473-0fe3-4e23-9317-f0fd9f269ebd",
   "metadata": {},
   "outputs": [],
   "source": [
    "def get_sentences(jd):\n",
    "    jd = jd.split(\".\")\n",
    "    sents = []\n",
    "    for sent in jd:\n",
    "        if sent.strip()!='':\n",
    "            sents.append(sent.strip())\n",
    "    return sents"
   ]
  },
  {
   "cell_type": "code",
   "execution_count": 119,
   "id": "c5a0fe24-1c01-407e-8cef-303e530352ed",
   "metadata": {},
   "outputs": [
    {
     "data": {
      "text/plain": [
       "['Provide general support to project team in a manner complimentary to the company',\n",
       " 'Help clients with construction activities']"
      ]
     },
     "execution_count": 119,
     "metadata": {},
     "output_type": "execute_result"
    }
   ],
   "source": [
    "get_sentences(job_description6)"
   ]
  },
  {
   "cell_type": "code",
   "execution_count": 121,
   "id": "02f3f6d2-ffed-4bdd-83e5-bf5115b01a51",
   "metadata": {},
   "outputs": [],
   "source": [
    "### get_words, Input should be a Sentence, returns a list of words.\n",
    "def get_words(sent):\n",
    "    bow = sent.split(\" \")   \n",
    "    return bow "
   ]
  },
  {
   "cell_type": "code",
   "execution_count": 123,
   "id": "75b561a4-055e-4efb-a87c-908c8f577880",
   "metadata": {},
   "outputs": [
    {
     "name": "stdout",
     "output_type": "stream",
     "text": [
      "['We', 'are', 'a', 'community', 'of', 'engineers', 'who', 'have', 'effective', 'relationships', 'with', 'many', 'satisfied', 'clients']\n",
      "['We', 'are', 'committed', 'to', 'understanding', 'the', 'engineer', 'sector', 'intimately']\n"
     ]
    }
   ],
   "source": [
    "for sent in get_sentences(job_description2):\n",
    "    print(get_words(sent))"
   ]
  },
  {
   "cell_type": "code",
   "execution_count": 1,
   "id": "33b28e49-f18a-454e-898e-6442046a1c6e",
   "metadata": {},
   "outputs": [],
   "source": [
    "a = [1,2,3,4,5,6,7]"
   ]
  },
  {
   "cell_type": "code",
   "execution_count": 3,
   "id": "ce8f2e32-3a99-44ec-ad84-475772bd981d",
   "metadata": {},
   "outputs": [
    {
     "data": {
      "text/plain": [
       "3.5"
      ]
     },
     "execution_count": 3,
     "metadata": {},
     "output_type": "execute_result"
    }
   ],
   "source": [
    "len(a)/2"
   ]
  },
  {
   "cell_type": "code",
   "execution_count": 4,
   "id": "f50ea17c-88b3-4331-9afc-a2ea7e21bcb9",
   "metadata": {},
   "outputs": [
    {
     "data": {
      "text/plain": [
       "3"
      ]
     },
     "execution_count": 4,
     "metadata": {},
     "output_type": "execute_result"
    }
   ],
   "source": [
    "len(a)//2"
   ]
  },
  {
   "cell_type": "code",
   "execution_count": null,
   "id": "a3c85e4d-14d1-4455-a9a6-69a07a10e1d5",
   "metadata": {},
   "outputs": [],
   "source": []
  }
 ],
 "metadata": {
  "kernelspec": {
   "display_name": "Python 3",
   "language": "python",
   "name": "python3"
  },
  "language_info": {
   "codemirror_mode": {
    "name": "ipython",
    "version": 3
   },
   "file_extension": ".py",
   "mimetype": "text/x-python",
   "name": "python",
   "nbconvert_exporter": "python",
   "pygments_lexer": "ipython3",
   "version": "3.9.5"
  }
 },
 "nbformat": 4,
 "nbformat_minor": 5
}
