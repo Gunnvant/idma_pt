{
 "cells": [
  {
   "cell_type": "markdown",
   "id": "76a0def3-ca0c-4d5b-bc0a-a6fe328f020d",
   "metadata": {
    "tags": []
   },
   "source": [
    "---\n",
    "**Author**: Gunnvant\n",
    "\n",
    "**Description**: Lecture on Python 101\n",
    "\n",
    "**Audience**: Beginner to no programming background\n",
    "\n",
    "**Pre-requisites**: Basic programming concepts such as variable, looping, if else statements\n",
    "\n",
    "---\n",
    "\n",
    "**TOC**:\n",
    "1. Basic Python Data Structures\n",
    "2. Numbers and Strings\n",
    "3. Lists and Tuples\n",
    "4. Sets and Dictionaries\n",
    "5. File objects\n",
    "6. Looping constructs: maps, list comprehension"
   ]
  },
  {
   "cell_type": "markdown",
   "id": "209c5163-8480-46af-97d8-d860610a6a80",
   "metadata": {},
   "source": [
    "## Numbers"
   ]
  },
  {
   "cell_type": "code",
   "execution_count": 1,
   "id": "8487fe52-45f1-406a-93b5-fe322153e4ec",
   "metadata": {},
   "outputs": [
    {
     "name": "stdout",
     "output_type": "stream",
     "text": [
      "3\n",
      "3.0\n"
     ]
    }
   ],
   "source": [
    "a = 3\n",
    "b = 3.0\n",
    "print(a)\n",
    "print(b)"
   ]
  },
  {
   "cell_type": "code",
   "execution_count": 2,
   "id": "51b66406-711c-40cb-a57b-be2d4019a8cc",
   "metadata": {
    "tags": []
   },
   "outputs": [
    {
     "name": "stdout",
     "output_type": "stream",
     "text": [
      "<class 'int'>\n"
     ]
    }
   ],
   "source": [
    "print(type(a))"
   ]
  },
  {
   "cell_type": "code",
   "execution_count": 3,
   "id": "78553962-09b6-488b-a439-e0b62929bdb4",
   "metadata": {
    "tags": []
   },
   "outputs": [
    {
     "name": "stdout",
     "output_type": "stream",
     "text": [
      "<class 'float'>\n"
     ]
    }
   ],
   "source": [
    "print(type(b))"
   ]
  },
  {
   "cell_type": "code",
   "execution_count": 4,
   "id": "5f1f00f5-0f4f-4289-a8c5-a2bfaa132134",
   "metadata": {
    "tags": []
   },
   "outputs": [
    {
     "name": "stdout",
     "output_type": "stream",
     "text": [
      "1.0\n"
     ]
    }
   ],
   "source": [
    "## What will happen if we divide the two\n",
    "print(a/b)"
   ]
  },
  {
   "cell_type": "code",
   "execution_count": 5,
   "id": "41128627-23f5-490e-ae0c-c6cf03525b3c",
   "metadata": {},
   "outputs": [
    {
     "name": "stdout",
     "output_type": "stream",
     "text": [
      "9.0\n"
     ]
    }
   ],
   "source": [
    "print(a*b)"
   ]
  },
  {
   "cell_type": "code",
   "execution_count": 6,
   "id": "f98ceeca-1013-4c9d-ac63-6a1ba7efc85e",
   "metadata": {},
   "outputs": [
    {
     "name": "stdout",
     "output_type": "stream",
     "text": [
      "0.0\n"
     ]
    }
   ],
   "source": [
    "print(a-b)"
   ]
  },
  {
   "cell_type": "code",
   "execution_count": 7,
   "id": "e36516f8-fcc1-42b0-890b-917e772dd521",
   "metadata": {},
   "outputs": [
    {
     "name": "stdout",
     "output_type": "stream",
     "text": [
      "6.0\n"
     ]
    }
   ],
   "source": [
    "print(a+b)"
   ]
  },
  {
   "cell_type": "markdown",
   "id": "1cdc7f21-12fb-4c65-8e4f-3ab18ce28a2c",
   "metadata": {},
   "source": [
    "## Strings"
   ]
  },
  {
   "cell_type": "code",
   "execution_count": 8,
   "id": "ac10dfb6-2a89-4931-a03e-543b65027a0c",
   "metadata": {},
   "outputs": [],
   "source": [
    "s1 = \"This is a string\"\n",
    "s2 = \"This is also a string\"\n",
    "s3 = '''This too is a string''' ## you can write multiline strings using ''' triple quotes '''"
   ]
  },
  {
   "cell_type": "code",
   "execution_count": 9,
   "id": "c838b39c-ecff-4192-bdd8-94165b4271c3",
   "metadata": {},
   "outputs": [
    {
     "data": {
      "text/plain": [
       "'T'"
      ]
     },
     "execution_count": 9,
     "metadata": {},
     "output_type": "execute_result"
    }
   ],
   "source": [
    "### Strings are iterables and can be indexed and looped through\n",
    "s1[0]"
   ]
  },
  {
   "cell_type": "code",
   "execution_count": 10,
   "id": "822e975d-a99b-43f4-bc97-687a7a8418d8",
   "metadata": {},
   "outputs": [
    {
     "data": {
      "text/plain": [
       "'i'"
      ]
     },
     "execution_count": 10,
     "metadata": {},
     "output_type": "execute_result"
    }
   ],
   "source": [
    "s1[2]"
   ]
  },
  {
   "cell_type": "code",
   "execution_count": 11,
   "id": "409d9ae1-baee-4d1c-9c22-3ac34e3a2d14",
   "metadata": {},
   "outputs": [
    {
     "data": {
      "text/plain": [
       "'g'"
      ]
     },
     "execution_count": 11,
     "metadata": {},
     "output_type": "execute_result"
    }
   ],
   "source": [
    "s1[-1]"
   ]
  },
  {
   "cell_type": "code",
   "execution_count": 12,
   "id": "dfa1bf1c-bcde-47c9-ba1b-932949e237f3",
   "metadata": {},
   "outputs": [
    {
     "name": "stdout",
     "output_type": "stream",
     "text": [
      "T\n",
      "h\n",
      "i\n",
      "s\n",
      " \n",
      "i\n",
      "s\n",
      " \n",
      "a\n",
      " \n",
      "s\n",
      "t\n",
      "r\n",
      "i\n",
      "n\n",
      "g\n"
     ]
    }
   ],
   "source": [
    "for s in s1:\n",
    "    print(s)"
   ]
  },
  {
   "cell_type": "markdown",
   "id": "4431d878-cfb3-49e3-ac55-db6f38fabf8c",
   "metadata": {},
   "source": [
    "## Some peculiarities of strings"
   ]
  },
  {
   "cell_type": "code",
   "execution_count": 13,
   "id": "09c4d01c-8a30-4f87-b3df-c867ceeae7b9",
   "metadata": {},
   "outputs": [
    {
     "name": "stdout",
     "output_type": "stream",
     "text": [
      "4\n"
     ]
    }
   ],
   "source": [
    "a = 4 \n",
    "print(a) ## you can change numbers at place"
   ]
  },
  {
   "cell_type": "code",
   "execution_count": 14,
   "id": "33f02e15-ef6b-4dfc-b24d-fc53a421fde2",
   "metadata": {},
   "outputs": [
    {
     "name": "stdout",
     "output_type": "stream",
     "text": [
      "This is a string\n",
      "This is not a string\n"
     ]
    }
   ],
   "source": [
    "print(s1)\n",
    "s1 = 'This is not a string'\n",
    "print(s1) ## you can overwrite the whole string"
   ]
  },
  {
   "cell_type": "code",
   "execution_count": 15,
   "id": "718a9f80-14d6-40a0-aea4-d0170f8f474c",
   "metadata": {},
   "outputs": [
    {
     "ename": "TypeError",
     "evalue": "'str' object does not support item assignment",
     "output_type": "error",
     "traceback": [
      "\u001b[1;31m---------------------------------------------------------------------------\u001b[0m",
      "\u001b[1;31mTypeError\u001b[0m                                 Traceback (most recent call last)",
      "\u001b[1;32m~\\AppData\\Local\\Temp/ipykernel_6524/569328156.py\u001b[0m in \u001b[0;36m<module>\u001b[1;34m\u001b[0m\n\u001b[1;32m----> 1\u001b[1;33m \u001b[0ms1\u001b[0m\u001b[1;33m[\u001b[0m\u001b[1;36m0\u001b[0m\u001b[1;33m]\u001b[0m\u001b[1;33m=\u001b[0m\u001b[1;34m\"h\"\u001b[0m \u001b[1;31m#but you can't change the strings in place\u001b[0m\u001b[1;33m\u001b[0m\u001b[1;33m\u001b[0m\u001b[0m\n\u001b[0m",
      "\u001b[1;31mTypeError\u001b[0m: 'str' object does not support item assignment"
     ]
    }
   ],
   "source": [
    "s1[0]=\"h\" #but you can't change the strings in place"
   ]
  },
  {
   "cell_type": "code",
   "execution_count": 16,
   "id": "959e4a13-62cd-4db8-80cb-049150871a25",
   "metadata": {},
   "outputs": [
    {
     "name": "stdout",
     "output_type": "stream",
     "text": [
      "This is not a string\n",
      "This is also a string\n"
     ]
    }
   ],
   "source": [
    "print(s1)\n",
    "print(s2)"
   ]
  },
  {
   "cell_type": "code",
   "execution_count": 17,
   "id": "504e5941-95d4-4058-95a2-64bf186b4d1e",
   "metadata": {},
   "outputs": [
    {
     "name": "stdout",
     "output_type": "stream",
     "text": [
      "This is not a stringThis is also a string\n"
     ]
    }
   ],
   "source": [
    "print(s1+s2) # you can concatenate two strings "
   ]
  },
  {
   "cell_type": "code",
   "execution_count": 18,
   "id": "398d9520-e754-4c4b-9e82-d9a1357daa04",
   "metadata": {},
   "outputs": [
    {
     "name": "stdout",
     "output_type": "stream",
     "text": [
      "This is not a string This is also a string\n"
     ]
    }
   ],
   "source": [
    "print(s1+\" \"+s2)"
   ]
  },
  {
   "cell_type": "code",
   "execution_count": 19,
   "id": "64d491ae-1061-436d-a67a-cc864ea44a1b",
   "metadata": {},
   "outputs": [
    {
     "name": "stdout",
     "output_type": "stream",
     "text": [
      "This is not a string This is also a string\n"
     ]
    }
   ],
   "source": [
    "print(f'{s1} {s2}') #you can also use f-strings"
   ]
  },
  {
   "cell_type": "code",
   "execution_count": 20,
   "id": "9a092bdb-54e4-4a31-9b4e-299686e286e5",
   "metadata": {},
   "outputs": [
    {
     "data": {
      "text/plain": [
       "False"
      ]
     },
     "execution_count": 20,
     "metadata": {},
     "output_type": "execute_result"
    }
   ],
   "source": [
    "### Quotes behaviour\n",
    "s1 = '\"This has a quote\"'\n",
    "s2 = 'This has a quote'\n",
    "s1 == s2"
   ]
  },
  {
   "cell_type": "code",
   "execution_count": 21,
   "id": "63ec3c47-15a7-427a-865e-a5a405fc9646",
   "metadata": {},
   "outputs": [
    {
     "data": {
      "text/plain": [
       "'This has a quote'"
      ]
     },
     "execution_count": 21,
     "metadata": {},
     "output_type": "execute_result"
    }
   ],
   "source": [
    "s1.replace('\"',\"\")"
   ]
  },
  {
   "cell_type": "code",
   "execution_count": 22,
   "id": "14806896-8ae4-44ef-af52-3bb6226e55a5",
   "metadata": {},
   "outputs": [
    {
     "data": {
      "text/plain": [
       "True"
      ]
     },
     "execution_count": 22,
     "metadata": {},
     "output_type": "execute_result"
    }
   ],
   "source": [
    "s1.replace('\"',\"\") == s2"
   ]
  },
  {
   "cell_type": "markdown",
   "id": "f01de845-3cc3-4e48-9596-5e3c37271a4d",
   "metadata": {},
   "source": [
    "## How do we know what operations can be done on strings?\n",
    "\n",
    "Short Answer: Every thing in python is a [class](https://en.wikipedia.org/wiki/Class_(computer_programming)). And one can easily figure out what are the functions supported by objects of a class. We will discuss python classes in more detail in upcoming sessions."
   ]
  },
  {
   "cell_type": "code",
   "execution_count": 23,
   "id": "b30564c5-cd4e-4e0f-bae6-844cb3377391",
   "metadata": {},
   "outputs": [
    {
     "name": "stdout",
     "output_type": "stream",
     "text": [
      "['__add__', '__class__', '__contains__', '__delattr__', '__dir__', '__doc__', '__eq__', '__format__', '__ge__', '__getattribute__', '__getitem__', '__getnewargs__', '__gt__', '__hash__', '__init__', '__init_subclass__', '__iter__', '__le__', '__len__', '__lt__', '__mod__', '__mul__', '__ne__', '__new__', '__reduce__', '__reduce_ex__', '__repr__', '__rmod__', '__rmul__', '__setattr__', '__sizeof__', '__str__', '__subclasshook__', 'capitalize', 'casefold', 'center', 'count', 'encode', 'endswith', 'expandtabs', 'find', 'format', 'format_map', 'index', 'isalnum', 'isalpha', 'isascii', 'isdecimal', 'isdigit', 'isidentifier', 'islower', 'isnumeric', 'isprintable', 'isspace', 'istitle', 'isupper', 'join', 'ljust', 'lower', 'lstrip', 'maketrans', 'partition', 'replace', 'rfind', 'rindex', 'rjust', 'rpartition', 'rsplit', 'rstrip', 'split', 'splitlines', 'startswith', 'strip', 'swapcase', 'title', 'translate', 'upper', 'zfill']\n"
     ]
    }
   ],
   "source": [
    "print(dir(s1)) \n",
    "### this prints out all the methods, functions and attributes supported by python classes. Ignore the names that have this form __name__ "
   ]
  },
  {
   "cell_type": "code",
   "execution_count": 24,
   "id": "c27ecca6-57c6-45fb-b346-0e58bf563376",
   "metadata": {},
   "outputs": [
    {
     "data": {
      "text/plain": [
       "'\"this has a quote\"'"
      ]
     },
     "execution_count": 24,
     "metadata": {},
     "output_type": "execute_result"
    }
   ],
   "source": [
    "### How to use the methods, once we know what methods are supported by a particular class?\n",
    "s1.lower()"
   ]
  },
  {
   "cell_type": "code",
   "execution_count": 25,
   "id": "a51246ee-95f9-476a-a6ae-6ffea634ba99",
   "metadata": {},
   "outputs": [
    {
     "data": {
      "text/plain": [
       "'\"This has a quote\"'"
      ]
     },
     "execution_count": 25,
     "metadata": {},
     "output_type": "execute_result"
    }
   ],
   "source": [
    "s1"
   ]
  },
  {
   "cell_type": "code",
   "execution_count": 26,
   "id": "757d90d6-ee4c-4391-93fc-5a2fbc68c05d",
   "metadata": {},
   "outputs": [],
   "source": [
    "### Try using title method\n"
   ]
  },
  {
   "cell_type": "code",
   "execution_count": 27,
   "id": "8e90b2e3-6f04-48c5-afc3-9c733d9da94e",
   "metadata": {},
   "outputs": [
    {
     "data": {
      "text/plain": [
       "\u001b[1;31mSignature:\u001b[0m \u001b[0ms1\u001b[0m\u001b[1;33m.\u001b[0m\u001b[0mtitle\u001b[0m\u001b[1;33m(\u001b[0m\u001b[1;33m)\u001b[0m\u001b[1;33m\u001b[0m\u001b[1;33m\u001b[0m\u001b[0m\n",
       "\u001b[1;31mDocstring:\u001b[0m\n",
       "Return a version of the string where each word is titlecased.\n",
       "\n",
       "More specifically, words start with uppercased characters and all remaining\n",
       "cased characters have lower case.\n",
       "\u001b[1;31mType:\u001b[0m      builtin_function_or_method\n"
      ]
     },
     "metadata": {},
     "output_type": "display_data"
    }
   ],
   "source": [
    "### How do we find out what a method does?\n",
    "## Google\n",
    "## Use python documentation\n",
    "\n",
    "?s1.title"
   ]
  },
  {
   "cell_type": "code",
   "execution_count": 28,
   "id": "7f87cd4c-e546-4640-85d6-07b6f0cc9ae1",
   "metadata": {},
   "outputs": [],
   "source": [
    "## What does the method split does?\n"
   ]
  },
  {
   "cell_type": "markdown",
   "id": "379b9047-9529-47c8-a4e4-587935186400",
   "metadata": {},
   "source": [
    "### Class Demonstration [Common Programming Interview problems](https://www.geeksforgeeks.org/python-uppercase-half-string/)\n",
    "- input : test_str = dino\n",
    "- Output : diNO\n",
    "- Explanation : Latter half of string is uppercased.\n",
    "\n",
    "- Input : test_str = apples\n",
    "- Output : appLES\n",
    "- Explanation : Latter half of string is uppercased."
   ]
  },
  {
   "cell_type": "code",
   "execution_count": 29,
   "id": "33f36143-5422-4bf2-942a-00ca6412271f",
   "metadata": {},
   "outputs": [
    {
     "data": {
      "text/plain": [
       "'d'"
      ]
     },
     "execution_count": 29,
     "metadata": {},
     "output_type": "execute_result"
    }
   ],
   "source": [
    "s = 'dino'\n",
    "## Which letters have to be capitalized?\n",
    "## Can you tell the position?\n",
    "s[0]"
   ]
  },
  {
   "cell_type": "code",
   "execution_count": 30,
   "id": "267fc0e9-a2e4-4875-b2fc-1c629628ffcb",
   "metadata": {},
   "outputs": [
    {
     "data": {
      "text/plain": [
       "'i'"
      ]
     },
     "execution_count": 30,
     "metadata": {},
     "output_type": "execute_result"
    }
   ],
   "source": [
    "s[1]"
   ]
  },
  {
   "cell_type": "code",
   "execution_count": 31,
   "id": "cb16714e-f959-4915-8d54-8a15840343fd",
   "metadata": {},
   "outputs": [
    {
     "data": {
      "text/plain": [
       "'n'"
      ]
     },
     "execution_count": 31,
     "metadata": {},
     "output_type": "execute_result"
    }
   ],
   "source": [
    "s[2]"
   ]
  },
  {
   "cell_type": "code",
   "execution_count": 32,
   "id": "482eea36-5375-40a0-92c8-37a2acf4b9fb",
   "metadata": {},
   "outputs": [
    {
     "data": {
      "text/plain": [
       "'o'"
      ]
     },
     "execution_count": 32,
     "metadata": {},
     "output_type": "execute_result"
    }
   ],
   "source": [
    "s[3]"
   ]
  },
  {
   "cell_type": "code",
   "execution_count": 33,
   "id": "0269fa4b-b4ad-4d5e-ada6-927cbf63b341",
   "metadata": {},
   "outputs": [],
   "source": [
    "## Can you come up with a logic to find the middle position of any string?\n",
    "l = len(s)"
   ]
  },
  {
   "cell_type": "code",
   "execution_count": 34,
   "id": "35fa9b6f-93da-4e4f-933a-73c2273323df",
   "metadata": {},
   "outputs": [
    {
     "data": {
      "text/plain": [
       "2.0"
      ]
     },
     "execution_count": 34,
     "metadata": {},
     "output_type": "execute_result"
    }
   ],
   "source": [
    "l/2"
   ]
  },
  {
   "cell_type": "code",
   "execution_count": 35,
   "id": "36d38461-1ce7-4343-863b-0ad8b12edd66",
   "metadata": {},
   "outputs": [],
   "source": [
    "## Can you think of any counter example where this may fail?\n",
    "s = 'dinos'\n",
    "l = len(s)"
   ]
  },
  {
   "cell_type": "code",
   "execution_count": 36,
   "id": "5e91e233-c9df-47f9-b25d-dcbca377db69",
   "metadata": {},
   "outputs": [
    {
     "data": {
      "text/plain": [
       "2.5"
      ]
     },
     "execution_count": 36,
     "metadata": {},
     "output_type": "execute_result"
    }
   ],
   "source": [
    "l/2"
   ]
  },
  {
   "cell_type": "code",
   "execution_count": 37,
   "id": "2d91a2df-33ac-4ba7-be3a-112a46fdd604",
   "metadata": {},
   "outputs": [
    {
     "data": {
      "text/plain": [
       "2"
      ]
     },
     "execution_count": 37,
     "metadata": {},
     "output_type": "execute_result"
    }
   ],
   "source": [
    "l//2"
   ]
  },
  {
   "cell_type": "code",
   "execution_count": 38,
   "id": "ac82d49b-0fa4-4998-9f8c-3a2a99fd6d02",
   "metadata": {},
   "outputs": [],
   "source": [
    "### Create logic to find the middle index\n",
    "s = 'dinos'\n",
    "mid_idx = len(s)//2\n",
    "new_string = ''\n",
    "for i in range(len(s)):\n",
    "    if i<mid_idx:\n",
    "        new_string = new_string+s[i]\n",
    "    else:\n",
    "        new_string = new_string+s[i].upper()"
   ]
  },
  {
   "cell_type": "code",
   "execution_count": 39,
   "id": "e17a3526-43f5-4091-9ba8-68aef459c936",
   "metadata": {},
   "outputs": [
    {
     "name": "stdout",
     "output_type": "stream",
     "text": [
      "diNOS\n"
     ]
    }
   ],
   "source": [
    "print(new_string)"
   ]
  },
  {
   "cell_type": "code",
   "execution_count": 40,
   "id": "4e233e09-1834-4214-8bbb-cb4d433c8d8e",
   "metadata": {},
   "outputs": [],
   "source": [
    "### We can put the complete logic in a function\n",
    "def transform(s):\n",
    "    mid_idx = len(s)//2\n",
    "    new_string = ''\n",
    "    for i in range(len(s)):\n",
    "        if i<mid_idx:\n",
    "            new_string = new_string+s[i]\n",
    "        else:\n",
    "            new_string = new_string+s[i].upper()\n",
    "    return new_string"
   ]
  },
  {
   "cell_type": "code",
   "execution_count": 41,
   "id": "34957125-8b96-4632-8097-3feee2dfe26d",
   "metadata": {},
   "outputs": [
    {
     "data": {
      "text/plain": [
       "'appLES'"
      ]
     },
     "execution_count": 41,
     "metadata": {},
     "output_type": "execute_result"
    }
   ],
   "source": [
    "transform(\"apples\")"
   ]
  },
  {
   "cell_type": "markdown",
   "id": "6200e805-67e8-41cf-a2f0-d0438aae2637",
   "metadata": {},
   "source": [
    "### Class Excercise [source](https://www.geeksforgeeks.org/python-program-to-check-if-a-string-has-at-least-one-letter-and-one-number/) (Try to solve on your own)\n",
    "\n",
    "- Input: welcome2ourcountry34\n",
    "- Output: True\n",
    "\n",
    "- Input: stringwithoutnum\n",
    "- Output: False\n",
    "\n",
    "- Hints: Look at the output of dir() for any string object and find out the methods which can help in finding which element is a string and which is a number\n"
   ]
  },
  {
   "cell_type": "markdown",
   "id": "9dcbb46a-7af8-42dd-9765-e25577d8db25",
   "metadata": {},
   "source": [
    "### Lists\n",
    "- Lists are general buckets\n",
    "- They can be used to store many types of data including lists themselves"
   ]
  },
  {
   "cell_type": "code",
   "execution_count": 42,
   "id": "e7a0e795-752d-4eb4-8eda-a3c4ba8160cc",
   "metadata": {},
   "outputs": [],
   "source": [
    "l1 = [1,2,3,4,'a','b',[99,24,11]]"
   ]
  },
  {
   "cell_type": "code",
   "execution_count": 43,
   "id": "3d10efc2-b7b4-43dd-87eb-47bfa668526c",
   "metadata": {},
   "outputs": [
    {
     "data": {
      "text/plain": [
       "1"
      ]
     },
     "execution_count": 43,
     "metadata": {},
     "output_type": "execute_result"
    }
   ],
   "source": [
    "l1[0]"
   ]
  },
  {
   "cell_type": "code",
   "execution_count": 44,
   "id": "9df7991f-e070-48ad-ab6b-6deba168d179",
   "metadata": {},
   "outputs": [
    {
     "name": "stdout",
     "output_type": "stream",
     "text": [
      "1\n",
      "2\n",
      "3\n",
      "4\n",
      "a\n",
      "b\n",
      "[99, 24, 11]\n"
     ]
    }
   ],
   "source": [
    "for i in l1:\n",
    "    print(i)"
   ]
  },
  {
   "cell_type": "code",
   "execution_count": 45,
   "id": "69424774-ddce-44e8-af78-51c7e7f86b7e",
   "metadata": {},
   "outputs": [],
   "source": [
    "l1.append(169)"
   ]
  },
  {
   "cell_type": "code",
   "execution_count": 46,
   "id": "fa69eb6d-0ba9-452c-bb52-eac06157b2e7",
   "metadata": {},
   "outputs": [
    {
     "data": {
      "text/plain": [
       "[1, 2, 3, 4, 'a', 'b', [99, 24, 11], 169]"
      ]
     },
     "execution_count": 46,
     "metadata": {},
     "output_type": "execute_result"
    }
   ],
   "source": [
    "l1"
   ]
  },
  {
   "cell_type": "code",
   "execution_count": 47,
   "id": "7b3d9a55-a7f3-4af9-ba65-e32e9a889bfe",
   "metadata": {},
   "outputs": [],
   "source": [
    "l2 = [80,90,100]"
   ]
  },
  {
   "cell_type": "code",
   "execution_count": 48,
   "id": "aaafc95d-e910-4bfe-aa68-fed80033716f",
   "metadata": {},
   "outputs": [
    {
     "data": {
      "text/plain": [
       "[1, 2, 3, 4, 'a', 'b', [99, 24, 11], 169, 80, 90, 100]"
      ]
     },
     "execution_count": 48,
     "metadata": {},
     "output_type": "execute_result"
    }
   ],
   "source": [
    "l1+l2"
   ]
  },
  {
   "cell_type": "code",
   "execution_count": 49,
   "id": "e327117c-dfd0-47a0-ac97-c7e9d5bfaf83",
   "metadata": {},
   "outputs": [],
   "source": [
    "l1.extend(l2)"
   ]
  },
  {
   "cell_type": "code",
   "execution_count": 50,
   "id": "6f19148d-fdac-40a0-ab3f-72356706a0cb",
   "metadata": {},
   "outputs": [
    {
     "data": {
      "text/plain": [
       "[1, 2, 3, 4, 'a', 'b', [99, 24, 11], 169, 80, 90, 100]"
      ]
     },
     "execution_count": 50,
     "metadata": {},
     "output_type": "execute_result"
    }
   ],
   "source": [
    "l1"
   ]
  },
  {
   "cell_type": "code",
   "execution_count": 51,
   "id": "58344a48-2ae1-449f-b653-b8c0880a88f9",
   "metadata": {},
   "outputs": [
    {
     "name": "stdout",
     "output_type": "stream",
     "text": [
      "['__add__', '__class__', '__contains__', '__delattr__', '__delitem__', '__dir__', '__doc__', '__eq__', '__format__', '__ge__', '__getattribute__', '__getitem__', '__gt__', '__hash__', '__iadd__', '__imul__', '__init__', '__init_subclass__', '__iter__', '__le__', '__len__', '__lt__', '__mul__', '__ne__', '__new__', '__reduce__', '__reduce_ex__', '__repr__', '__reversed__', '__rmul__', '__setattr__', '__setitem__', '__sizeof__', '__str__', '__subclasshook__', 'append', 'clear', 'copy', 'count', 'extend', 'index', 'insert', 'pop', 'remove', 'reverse', 'sort']\n"
     ]
    }
   ],
   "source": [
    "print(dir(l1))"
   ]
  },
  {
   "cell_type": "code",
   "execution_count": 52,
   "id": "9b1a3a7a-bbb1-41e9-bd3d-19889f3bd2e9",
   "metadata": {},
   "outputs": [
    {
     "data": {
      "text/plain": [
       "11"
      ]
     },
     "execution_count": 52,
     "metadata": {},
     "output_type": "execute_result"
    }
   ],
   "source": [
    "len(l1)"
   ]
  },
  {
   "cell_type": "markdown",
   "id": "03ed881f-db27-498e-aa7f-c1954008424e",
   "metadata": {},
   "source": [
    "### Using lists and strings to analyse data -  Class Case Study 1"
   ]
  },
  {
   "cell_type": "code",
   "execution_count": 1,
   "id": "da6b2855-2cd6-420c-bc5a-6e3b09f34946",
   "metadata": {},
   "outputs": [],
   "source": [
    "amazon_review = '''\n",
    "What can I say!\n",
    "SIMPLY SPECTACULAR.\n",
    "PUBG - smooth +90 FPS\n",
    "Smashing all the bench marks by some margin (140%~~)\n",
    "4 SPEAKERS are like home theatre.\n",
    "Battery backup is excellent\n",
    "Could have been better than 20 wts charger\n",
    "\n",
    "I will keep u guys posted...stay tuned\n",
    "\n",
    "'''"
   ]
  },
  {
   "cell_type": "markdown",
   "id": "1761a834-e1f3-46e2-a08d-e4153fcfa504",
   "metadata": {},
   "source": [
    "### Q1. Count the number of sentences in the review\n",
    "\n",
    "Understand what new line, line feed and carraige return is: **[reading](https://www.loginradius.com/blog/async/eol-end-of-line-or-newline-characters/)**"
   ]
  },
  {
   "cell_type": "code",
   "execution_count": 54,
   "id": "886c97a1-6ccf-420e-8bf9-76fd4d9b28eb",
   "metadata": {},
   "outputs": [
    {
     "data": {
      "text/plain": [
       "['',\n",
       " 'What can I say!',\n",
       " 'SIMPLY SPECTACULAR.',\n",
       " 'PUBG - smooth +90 FPS',\n",
       " 'Smashing all the bench marks by some margin (140%~~)',\n",
       " '4 SPEAKERS are like home theatre.',\n",
       " 'Battery backup is excellent',\n",
       " 'Could have been better than 20 wts charger',\n",
       " '',\n",
       " 'I will keep u guys posted...stay tuned',\n",
       " '',\n",
       " '']"
      ]
     },
     "execution_count": 54,
     "metadata": {},
     "output_type": "execute_result"
    }
   ],
   "source": [
    "amazon_review.split(\"\\n\") ## How can you store only sentences? "
   ]
  },
  {
   "cell_type": "code",
   "execution_count": 55,
   "id": "8557eb12-4af2-45b1-9994-734007445e31",
   "metadata": {},
   "outputs": [],
   "source": [
    "## We can fill an empty list by iterating over the comment and checking for empty comments\n",
    "valid_comments = []\n",
    "for comment in amazon_review.split(\"\\n\"):\n",
    "    if comment!=\"\":\n",
    "        valid_comments.append(comment)"
   ]
  },
  {
   "cell_type": "code",
   "execution_count": 56,
   "id": "b64631c2-ad39-4fe7-9440-a889550291d5",
   "metadata": {},
   "outputs": [
    {
     "name": "stdout",
     "output_type": "stream",
     "text": [
      "['What can I say!', 'SIMPLY SPECTACULAR.', 'PUBG - smooth +90 FPS', 'Smashing all the bench marks by some margin (140%~~)', '4 SPEAKERS are like home theatre.', 'Battery backup is excellent', 'Could have been better than 20 wts charger', 'I will keep u guys posted...stay tuned']\n"
     ]
    }
   ],
   "source": [
    "print(valid_comments)"
   ]
  },
  {
   "cell_type": "code",
   "execution_count": 57,
   "id": "ca9a1397-b310-4d19-88b4-26a097925325",
   "metadata": {},
   "outputs": [
    {
     "data": {
      "text/plain": [
       "8"
      ]
     },
     "execution_count": 57,
     "metadata": {},
     "output_type": "execute_result"
    }
   ],
   "source": [
    "len(valid_comments)"
   ]
  },
  {
   "cell_type": "markdown",
   "id": "d1b8d8b7-3245-4075-9dac-4cf06d601c00",
   "metadata": {},
   "source": [
    "### Q2 Find out how many words (approximately, consider \"say!\" as one word) are there in each sentence?"
   ]
  },
  {
   "cell_type": "code",
   "execution_count": 58,
   "id": "bacfcb48-c586-4056-9c64-f7247efc9e74",
   "metadata": {},
   "outputs": [
    {
     "data": {
      "text/plain": [
       "[4, 2, 5, 9, 6, 4, 8, 7]"
      ]
     },
     "execution_count": 58,
     "metadata": {},
     "output_type": "execute_result"
    }
   ],
   "source": [
    "word_counts = []\n",
    "for sent in valid_comments:\n",
    "    counts = len(sent.split(\" \"))\n",
    "    word_counts.append(counts)\n",
    "word_counts"
   ]
  },
  {
   "cell_type": "markdown",
   "id": "6500280a-c872-47f4-9550-a4353d2eaea1",
   "metadata": {},
   "source": [
    "## Class Excercise 2 "
   ]
  },
  {
   "cell_type": "code",
   "execution_count": 59,
   "id": "117d5a31-c8cc-42c1-9a52-f06c504f8b6f",
   "metadata": {},
   "outputs": [],
   "source": [
    "dinkar = '''\n",
    "वर्षों तक वन में घूम-घूम,\n",
    "बाधा-विघ्नों को चूम-चूम,\n",
    "सह धूप-घाम, पानी-पत्थर,\n",
    "पांडव आये कुछ और निखर।\n",
    "सौभाग्य न सब दिन सोता है,\n",
    "देखें, आगे क्या होता है।\n",
    "\n",
    "मैत्री की राह बताने को,\n",
    "सबको सुमार्ग पर लाने को,\n",
    "दुर्योधन को समझाने को,\n",
    "भीषण विध्वंस बचाने को,\n",
    "भगवान् हस्तिनापुर आये,\n",
    "पांडव का संदेशा लाये।\n",
    "\n",
    "‘दो न्याय अगर तो आधा दो,\n",
    "पर, इसमें भी यदि बाधा हो,\n",
    "तो दे दो केवल पाँच ग्राम,\n",
    "रक्खो अपनी धरती तमाम।\n",
    "हम वहीं खुशी से खायेंगे,\n",
    "परिजन पर असि न उठायेंगे!\n",
    "\n",
    "दुर्योधन वह भी दे ना सका,\n",
    "आशीष समाज की ले न सका,\n",
    "उलटे, हरि को बाँधने चला,\n",
    "जो था असाध्य, साधने चला।\n",
    "जब नाश मनुज पर छाता है,\n",
    "पहले विवेक मर जाता है।\n",
    "\n",
    "हरि ने भीषण हुंकार किया,\n",
    "अपना स्वरूप-विस्तार किया,\n",
    "डगमग-डगमग दिग्गज डोले,\n",
    "भगवान् कुपित होकर बोले-\n",
    "‘जंजीर बढ़ा कर साध मुझे,\n",
    "हाँ, हाँ दुर्योधन! बाँध मुझे।\n",
    "\n",
    "यह देख, गगन मुझमें लय है,\n",
    "यह देख, पवन मुझमें लय है,\n",
    "मुझमें विलीन झंकार सकल,\n",
    "मुझमें लय है संसार सकल।\n",
    "अमरत्व फूलता है मुझमें,\n",
    "संहार झूलता है मुझमें।\n",
    "'''"
   ]
  },
  {
   "cell_type": "markdown",
   "id": "36119f27-14e1-4a7c-b679-967cd9db1e25",
   "metadata": {},
   "source": [
    "### Q1. Programmatically find out how many paras/अनुच्छेद are there in the poem?"
   ]
  },
  {
   "cell_type": "markdown",
   "id": "c284e5a0-8c92-4a84-ab8d-02261b02ac18",
   "metadata": {},
   "source": [
    "### Q2 Count the number of words in a paragraph and each sentence"
   ]
  },
  {
   "cell_type": "markdown",
   "id": "e0e92c59-e330-4f21-aebe-83785ba16ed4",
   "metadata": {},
   "source": [
    "## Class Excercise 3: Gender Neutral Job Descriptions"
   ]
  },
  {
   "cell_type": "code",
   "execution_count": 60,
   "id": "70fb97a0-f75f-41a6-91f8-ff24871376d8",
   "metadata": {},
   "outputs": [],
   "source": [
    "job_description1 = '''We are a dominant engineering firm that boasts many leading clients. We are determined to stand apart from the competition.'''\n",
    "job_description2 = '''We are a community of engineers who have effective relationships with many satisfied clients. We are committed to understanding the engineer sector intimately. '''\n",
    "job_description3 = '''Strong communication and influencing skills. Ability to perform individually in a competitive environment. Superior ability to satisfy customers and manage company’s association with them.'''\n",
    "job_description4 = '''Proficient oral and written communications skills. Collaborates well in a team environment. Sensitive to clients’ needs, can develop warm client relationships.'''\n",
    "job_description5 = '''Direct project groups to manage project progress and ensure accurate task control. Determine compliance with client’s objectives.'''\n",
    "job_description6 = '''Provide general support to project team in a manner complimentary to the company. Help clients with construction activities.'''"
   ]
  },
  {
   "cell_type": "markdown",
   "id": "750db73d-5317-4b3a-935b-13e9d0a6feb6",
   "metadata": {},
   "source": [
    "### Q1. Write the following functions:\n",
    "\n",
    "1. get_sentences(): This takes job descriptions as an input and returns list of sentences as output\n",
    "2. get_words(): This takes a sentence as an input and returns a list of words in the sentence as an output"
   ]
  },
  {
   "cell_type": "code",
   "execution_count": 61,
   "id": "70f5d59f-be76-4494-80ef-23c9b5d075d9",
   "metadata": {},
   "outputs": [],
   "source": [
    "feminine_coded_words = [\n",
    "    \"agree\",\n",
    "    \"affectionate\",\n",
    "    \"child\",\n",
    "    \"cheer\",\n",
    "    \"collab\",\n",
    "    \"commit\",\n",
    "    \"communal\",\n",
    "    \"compassion\",\n",
    "    \"connect\",\n",
    "    \"considerate\",\n",
    "    \"cooperat\",\n",
    "    \"co-operat\",\n",
    "    \"depend\",\n",
    "    \"emotiona\",\n",
    "    \"empath\",\n",
    "    \"feel\",\n",
    "    \"flatterable\",\n",
    "    \"gentle\",\n",
    "    \"honest\",\n",
    "    \"interpersonal\",\n",
    "    \"interdependen\",\n",
    "    \"interpersona\",\n",
    "    \"inter-personal\",\n",
    "    \"inter-dependen\",\n",
    "    \"inter-persona\",\n",
    "    \"kind\",\n",
    "    \"kinship\",\n",
    "    \"loyal\",\n",
    "    \"modesty\",\n",
    "    \"nag\",\n",
    "    \"nurtur\",\n",
    "    \"pleasant\",\n",
    "    \"polite\",\n",
    "    \"quiet\",\n",
    "    \"respon\",\n",
    "    \"sensitiv\",\n",
    "    \"submissive\",\n",
    "    \"support\",\n",
    "    \"sympath\",\n",
    "    \"tender\",\n",
    "    \"together\",\n",
    "    \"trust\",\n",
    "    \"understand\",\n",
    "    \"warm\",\n",
    "    \"whin\",\n",
    "    \"enthusias\",\n",
    "    \"inclusive\",\n",
    "    \"yield\",\n",
    "    \"share\",\n",
    "    \"sharin\"\n",
    "]\n",
    "\n",
    "masculine_coded_words = [\n",
    "    \"active\",\n",
    "    \"adventurous\",\n",
    "    \"aggress\",\n",
    "    \"ambitio\",\n",
    "    \"analy\",\n",
    "    \"assert\",\n",
    "    \"athlet\",\n",
    "    \"autonom\",\n",
    "    \"battle\",\n",
    "    \"boast\",\n",
    "    \"challeng\",\n",
    "    \"champion\",\n",
    "    \"compet\",\n",
    "    \"confident\",\n",
    "    \"courag\",\n",
    "    \"decid\",\n",
    "    \"decision\",\n",
    "    \"decisive\",\n",
    "    \"defend\",\n",
    "    \"determin\",\n",
    "    \"domina\",\n",
    "    \"dominant\",\n",
    "    \"driven\",\n",
    "    \"fearless\",\n",
    "    \"fight\",\n",
    "    \"force\",\n",
    "    \"greedy\",\n",
    "    \"head-strong\",\n",
    "    \"headstrong\",\n",
    "    \"hierarch\",\n",
    "    \"hostil\",\n",
    "    \"impulsive\",\n",
    "    \"independen\",\n",
    "    \"individual\",\n",
    "    \"intellect\",\n",
    "    \"lead\",\n",
    "    \"logic\",\n",
    "    \"objective\",\n",
    "    \"opinion\",\n",
    "    \"outspoken\",\n",
    "    \"persist\",\n",
    "    \"principle\",\n",
    "    \"reckless\",\n",
    "    \"self-confiden\",\n",
    "    \"self-relian\",\n",
    "    \"self-sufficien\",\n",
    "    \"selfconfiden\",\n",
    "    \"selfrelian\",\n",
    "    \"selfsufficien\",\n",
    "    \"stubborn\",\n",
    "    \"superior\",\n",
    "    \"unreasonab\"\n",
    "]\n"
   ]
  },
  {
   "cell_type": "markdown",
   "id": "8ed4c1f7-36b2-4b49-af02-9b3a7930a52c",
   "metadata": {},
   "source": [
    "### Q2. Now write a function which can take a list of words in a sentence and match how many words start with the root form of either masculine or feminine words.\n",
    "\n",
    "```python\n",
    "def get_coded_count(list_words,coded_word_list):\n",
    "    '''\n",
    "    \n",
    "    parameters:\n",
    "    __________\n",
    "    list_words: list of words in a sentence in JD\n",
    "    coded_word_list: either masculine_coded_words or feminine_coded_words\n",
    "    \n",
    "    returns:[counts, words]\n",
    "    counts: count of words that are in the sentence of the jd as well as the coded list\n",
    "    words: words that are in the sentence of the jd as well as the coded list\n",
    "    \n",
    "    '''\n",
    "    ### Your code goes here\n",
    "    \n",
    "    \n",
    "    return [counts,words]\n",
    "\n",
    "```"
   ]
  },
  {
   "cell_type": "markdown",
   "id": "63a1cdc2-fd43-4cf3-8ca9-70cfdbd72a38",
   "metadata": {},
   "source": [
    "## Tuples\n",
    "- Work for the most part like lists\n",
    "- Their values can't be changed in-place."
   ]
  },
  {
   "cell_type": "code",
   "execution_count": 62,
   "id": "afce11e5-e23b-4739-9458-9a627453937e",
   "metadata": {},
   "outputs": [],
   "source": [
    "t = (1,2,3,4,(56,78,'a'),[7,8,9])\n",
    "l1 = [1,2,3,4,(56,78,'a'),[7,8,9]]"
   ]
  },
  {
   "cell_type": "code",
   "execution_count": 63,
   "id": "7cc7e81d-fc6c-4c85-945d-e9e5f8cc44ea",
   "metadata": {},
   "outputs": [
    {
     "name": "stdout",
     "output_type": "stream",
     "text": [
      "1\n",
      "2\n",
      "3\n",
      "4\n",
      "(56, 78, 'a')\n",
      "[7, 8, 9]\n"
     ]
    }
   ],
   "source": [
    "for i in t:\n",
    "    print(i)"
   ]
  },
  {
   "cell_type": "code",
   "execution_count": 64,
   "id": "c548663e-f852-44ca-909c-b20328d826f0",
   "metadata": {},
   "outputs": [
    {
     "data": {
      "text/plain": [
       "1"
      ]
     },
     "execution_count": 64,
     "metadata": {},
     "output_type": "execute_result"
    }
   ],
   "source": [
    "l1[0]"
   ]
  },
  {
   "cell_type": "code",
   "execution_count": 65,
   "id": "111ec616-4b7d-468a-844f-636494518c64",
   "metadata": {},
   "outputs": [],
   "source": [
    "l1[0]=100"
   ]
  },
  {
   "cell_type": "code",
   "execution_count": 66,
   "id": "f6f93692-4745-4c50-b99e-427bfbbd5a7c",
   "metadata": {},
   "outputs": [
    {
     "data": {
      "text/plain": [
       "[100, 2, 3, 4, (56, 78, 'a'), [7, 8, 9]]"
      ]
     },
     "execution_count": 66,
     "metadata": {},
     "output_type": "execute_result"
    }
   ],
   "source": [
    "l1"
   ]
  },
  {
   "cell_type": "code",
   "execution_count": 67,
   "id": "a7e0598c-ea35-4017-a8d3-4e7e6f3300ba",
   "metadata": {},
   "outputs": [
    {
     "data": {
      "text/plain": [
       "1"
      ]
     },
     "execution_count": 67,
     "metadata": {},
     "output_type": "execute_result"
    }
   ],
   "source": [
    "t[0]"
   ]
  },
  {
   "cell_type": "code",
   "execution_count": 68,
   "id": "0b73e931-919d-4fe2-b41d-c5d4a0a45b4a",
   "metadata": {},
   "outputs": [
    {
     "ename": "TypeError",
     "evalue": "'tuple' object does not support item assignment",
     "output_type": "error",
     "traceback": [
      "\u001b[1;31m---------------------------------------------------------------------------\u001b[0m",
      "\u001b[1;31mTypeError\u001b[0m                                 Traceback (most recent call last)",
      "\u001b[1;32m~\\AppData\\Local\\Temp/ipykernel_6524/816329950.py\u001b[0m in \u001b[0;36m<module>\u001b[1;34m\u001b[0m\n\u001b[1;32m----> 1\u001b[1;33m \u001b[0mt\u001b[0m\u001b[1;33m[\u001b[0m\u001b[1;36m0\u001b[0m\u001b[1;33m]\u001b[0m \u001b[1;33m=\u001b[0m \u001b[1;36m100\u001b[0m\u001b[1;33m\u001b[0m\u001b[1;33m\u001b[0m\u001b[0m\n\u001b[0m",
      "\u001b[1;31mTypeError\u001b[0m: 'tuple' object does not support item assignment"
     ]
    }
   ],
   "source": [
    "t[0] = 100"
   ]
  },
  {
   "cell_type": "markdown",
   "id": "aaf91e52-aaba-4471-a270-5bacd347eab5",
   "metadata": {},
   "source": [
    "## Sets\n",
    "\n",
    "- They behave like mathematical sets\n",
    "- Come in handy while doing set operations such as intersection (to find common items) etc"
   ]
  },
  {
   "cell_type": "code",
   "execution_count": 69,
   "id": "95d71ea3-2393-4bc4-af10-6e443a2d447c",
   "metadata": {},
   "outputs": [],
   "source": [
    "set_a = set(['a','b','c'])\n",
    "set_b = {'b','c','d'}"
   ]
  },
  {
   "cell_type": "code",
   "execution_count": 70,
   "id": "57b07a9d-3442-46c9-a78d-4800aa068314",
   "metadata": {},
   "outputs": [
    {
     "name": "stdout",
     "output_type": "stream",
     "text": [
      "['__and__', '__class__', '__contains__', '__delattr__', '__dir__', '__doc__', '__eq__', '__format__', '__ge__', '__getattribute__', '__gt__', '__hash__', '__iand__', '__init__', '__init_subclass__', '__ior__', '__isub__', '__iter__', '__ixor__', '__le__', '__len__', '__lt__', '__ne__', '__new__', '__or__', '__rand__', '__reduce__', '__reduce_ex__', '__repr__', '__ror__', '__rsub__', '__rxor__', '__setattr__', '__sizeof__', '__str__', '__sub__', '__subclasshook__', '__xor__', 'add', 'clear', 'copy', 'difference', 'difference_update', 'discard', 'intersection', 'intersection_update', 'isdisjoint', 'issubset', 'issuperset', 'pop', 'remove', 'symmetric_difference', 'symmetric_difference_update', 'union', 'update']\n"
     ]
    }
   ],
   "source": [
    "print(dir(set_a))"
   ]
  },
  {
   "cell_type": "code",
   "execution_count": 71,
   "id": "6b62190d-4dfd-4f3a-96a3-0ed22a1dc8de",
   "metadata": {},
   "outputs": [
    {
     "name": "stdout",
     "output_type": "stream",
     "text": [
      "b\n",
      "a\n",
      "c\n"
     ]
    }
   ],
   "source": [
    "for i in set_a:\n",
    "    print(i)"
   ]
  },
  {
   "cell_type": "code",
   "execution_count": 72,
   "id": "5efe5b11-9fe1-4424-9637-3928ac825acf",
   "metadata": {},
   "outputs": [
    {
     "ename": "TypeError",
     "evalue": "'set' object is not subscriptable",
     "output_type": "error",
     "traceback": [
      "\u001b[1;31m---------------------------------------------------------------------------\u001b[0m",
      "\u001b[1;31mTypeError\u001b[0m                                 Traceback (most recent call last)",
      "\u001b[1;32m~\\AppData\\Local\\Temp/ipykernel_6524/3958125777.py\u001b[0m in \u001b[0;36m<module>\u001b[1;34m\u001b[0m\n\u001b[1;32m----> 1\u001b[1;33m \u001b[0mset_a\u001b[0m\u001b[1;33m[\u001b[0m\u001b[1;36m0\u001b[0m\u001b[1;33m]\u001b[0m\u001b[1;33m\u001b[0m\u001b[1;33m\u001b[0m\u001b[0m\n\u001b[0m",
      "\u001b[1;31mTypeError\u001b[0m: 'set' object is not subscriptable"
     ]
    }
   ],
   "source": [
    "set_a[0]"
   ]
  },
  {
   "cell_type": "code",
   "execution_count": 73,
   "id": "50ffdc40-7450-4f24-9a1b-3ab60690de92",
   "metadata": {},
   "outputs": [
    {
     "data": {
      "text/plain": [
       "{'b', 'c'}"
      ]
     },
     "execution_count": 73,
     "metadata": {},
     "output_type": "execute_result"
    }
   ],
   "source": [
    "set_a.intersection(set_b)"
   ]
  },
  {
   "cell_type": "code",
   "execution_count": 74,
   "id": "84184af7-3509-467c-bb8c-e705a13029e9",
   "metadata": {},
   "outputs": [
    {
     "data": {
      "text/plain": [
       "{'a'}"
      ]
     },
     "execution_count": 74,
     "metadata": {},
     "output_type": "execute_result"
    }
   ],
   "source": [
    "set_a.difference(set_b)"
   ]
  },
  {
   "cell_type": "code",
   "execution_count": 75,
   "id": "496d4de0-e41f-4e00-bec2-f22730ae4669",
   "metadata": {},
   "outputs": [
    {
     "data": {
      "text/plain": [
       "False"
      ]
     },
     "execution_count": 75,
     "metadata": {},
     "output_type": "execute_result"
    }
   ],
   "source": [
    "set_a == set_b"
   ]
  },
  {
   "cell_type": "code",
   "execution_count": 76,
   "id": "0a87ad63-5faa-4f98-9a8f-7502e2cd71f4",
   "metadata": {},
   "outputs": [],
   "source": [
    "set_c = {'a','b','c'}"
   ]
  },
  {
   "cell_type": "code",
   "execution_count": 77,
   "id": "398d754b-d4cc-4636-a323-d4109aec2245",
   "metadata": {},
   "outputs": [
    {
     "data": {
      "text/plain": [
       "True"
      ]
     },
     "execution_count": 77,
     "metadata": {},
     "output_type": "execute_result"
    }
   ],
   "source": [
    "set_a == set_c"
   ]
  },
  {
   "cell_type": "code",
   "execution_count": 78,
   "id": "29ca61d6-fd62-465a-b611-8a1cc1cfb7fd",
   "metadata": {},
   "outputs": [
    {
     "data": {
      "text/plain": [
       "{'a', 'd', 'i', 'n'}"
      ]
     },
     "execution_count": 78,
     "metadata": {},
     "output_type": "execute_result"
    }
   ],
   "source": [
    "set(\"india\") ## finds the unique alphabets in a string"
   ]
  },
  {
   "cell_type": "markdown",
   "id": "0f74c501-6fe7-4b8e-b065-ca23f4c017fb",
   "metadata": {},
   "source": [
    "## Class Excercise (Travering tuples and using set operations)"
   ]
  },
  {
   "cell_type": "code",
   "execution_count": 1,
   "id": "10c6682b-77e4-4ffd-b2e6-5e623bd9ee2b",
   "metadata": {},
   "outputs": [],
   "source": [
    "import pickle ## ignore this for the while\n",
    "with open(\"../../data/ner_dataset_list\",\"rb\") as f:\n",
    "    ner_data = pickle.load(f)"
   ]
  },
  {
   "cell_type": "code",
   "execution_count": 80,
   "id": "412017d8-5179-48c9-ab61-3302ce820f32",
   "metadata": {},
   "outputs": [
    {
     "data": {
      "text/plain": [
       "[[('Pierre', 'PERSON'),\n",
       "  ('Vinken', 'ORGANIZATION'),\n",
       "  (',', ''),\n",
       "  ('61', ''),\n",
       "  ('years', ''),\n",
       "  ('old', ''),\n",
       "  (',', ''),\n",
       "  ('will', ''),\n",
       "  ('join', ''),\n",
       "  ('the', ''),\n",
       "  ('board', ''),\n",
       "  ('as', ''),\n",
       "  ('a', ''),\n",
       "  ('nonexecutive', ''),\n",
       "  ('director', ''),\n",
       "  ('Nov.', ''),\n",
       "  ('29', ''),\n",
       "  ('.', '')],\n",
       " [('Mr.', 'PERSON'),\n",
       "  ('Vinken', 'PERSON'),\n",
       "  ('is', ''),\n",
       "  ('chairman', ''),\n",
       "  ('of', ''),\n",
       "  ('Elsevier', 'ORGANIZATION'),\n",
       "  ('N.V.', ''),\n",
       "  (',', ''),\n",
       "  ('the', ''),\n",
       "  ('Dutch', 'GPE'),\n",
       "  ('publishing', ''),\n",
       "  ('group', ''),\n",
       "  ('.', '')]]"
      ]
     },
     "execution_count": 80,
     "metadata": {},
     "output_type": "execute_result"
    }
   ],
   "source": [
    "ner_data[0:2]"
   ]
  },
  {
   "cell_type": "markdown",
   "id": "7001b0d5-5fe7-4d1d-a70e-556fdcf78346",
   "metadata": {},
   "source": [
    "### Q1. Use your knowledge about lists and tuples to extract all the entries that have been labelled as GPE"
   ]
  },
  {
   "cell_type": "code",
   "execution_count": 81,
   "id": "c66ca0b3-518f-427a-a5e9-30bd329a7620",
   "metadata": {},
   "outputs": [],
   "source": [
    "gpes = []\n",
    "for doc in ner_data:\n",
    "    for ent in doc:\n",
    "        if ent[1]==\"GPE\":\n",
    "            gpes.append(ent[0].lower())            "
   ]
  },
  {
   "cell_type": "code",
   "execution_count": 82,
   "id": "e4673c2c-1e08-4b4d-b58e-c83662e4ab9c",
   "metadata": {},
   "outputs": [
    {
     "data": {
      "text/plain": [
       "['dutch',\n",
       " 'agnew',\n",
       " 'british',\n",
       " 'new',\n",
       " 'medicine',\n",
       " 'boston',\n",
       " 'western',\n",
       " 'u.s.',\n",
       " 'u.s.',\n",
       " 'medicine',\n",
       " 'july',\n",
       " 'average',\n",
       " 'toronto',\n",
       " 'finmeccanica',\n",
       " 'italian',\n",
       " 'wickliffe',\n",
       " 'ohio',\n",
       " 'u.s.',\n",
       " 'legislation',\n",
       " 'u.s.']"
      ]
     },
     "execution_count": 82,
     "metadata": {},
     "output_type": "execute_result"
    }
   ],
   "source": [
    "gpes[0:20]"
   ]
  },
  {
   "cell_type": "markdown",
   "id": "f5407381-cb7e-4335-a8a6-105bc0da6873",
   "metadata": {},
   "source": [
    "### Q2. Find the number of unique GPES in the data. Use the idea of sets. Also find out the the number of duplicated entries."
   ]
  },
  {
   "cell_type": "code",
   "execution_count": 83,
   "id": "42a2b7b2-f0ba-4fd6-a460-f6ef4323daa6",
   "metadata": {},
   "outputs": [
    {
     "data": {
      "text/plain": [
       "556"
      ]
     },
     "execution_count": 83,
     "metadata": {},
     "output_type": "execute_result"
    }
   ],
   "source": [
    "len(set(gpes))"
   ]
  },
  {
   "cell_type": "code",
   "execution_count": 84,
   "id": "5d7c00f2-0024-4c0b-8c8c-346b53542190",
   "metadata": {},
   "outputs": [
    {
     "data": {
      "text/plain": [
       "1339"
      ]
     },
     "execution_count": 84,
     "metadata": {},
     "output_type": "execute_result"
    }
   ],
   "source": [
    "len(gpes)-len(set(gpes))"
   ]
  },
  {
   "cell_type": "markdown",
   "id": "bdfe7855-a8fe-4b38-b0bd-01842df2d85e",
   "metadata": {},
   "source": [
    "## Dictionaries\n",
    "\n",
    "- Key-value pairs\n",
    "- Indices have no order"
   ]
  },
  {
   "cell_type": "code",
   "execution_count": 85,
   "id": "56c915f2-dc9c-4e1e-ac31-035aeecf6222",
   "metadata": {},
   "outputs": [],
   "source": [
    "d = {'name':'a','age':29,'prev_companies':['abc','def']}"
   ]
  },
  {
   "cell_type": "code",
   "execution_count": 86,
   "id": "a49238f3-8bf2-4c30-8331-590be7846e04",
   "metadata": {},
   "outputs": [
    {
     "ename": "KeyError",
     "evalue": "0",
     "output_type": "error",
     "traceback": [
      "\u001b[1;31m---------------------------------------------------------------------------\u001b[0m",
      "\u001b[1;31mKeyError\u001b[0m                                  Traceback (most recent call last)",
      "\u001b[1;32m~\\AppData\\Local\\Temp/ipykernel_6524/1089268471.py\u001b[0m in \u001b[0;36m<module>\u001b[1;34m\u001b[0m\n\u001b[1;32m----> 1\u001b[1;33m \u001b[0md\u001b[0m\u001b[1;33m[\u001b[0m\u001b[1;36m0\u001b[0m\u001b[1;33m]\u001b[0m\u001b[1;33m\u001b[0m\u001b[1;33m\u001b[0m\u001b[0m\n\u001b[0m",
      "\u001b[1;31mKeyError\u001b[0m: 0"
     ]
    }
   ],
   "source": [
    "d[0]"
   ]
  },
  {
   "cell_type": "code",
   "execution_count": 87,
   "id": "edcb54fe-745f-454e-8cfe-040c1a7d0f4e",
   "metadata": {},
   "outputs": [
    {
     "data": {
      "text/plain": [
       "'a'"
      ]
     },
     "execution_count": 87,
     "metadata": {},
     "output_type": "execute_result"
    }
   ],
   "source": [
    "d['name']"
   ]
  },
  {
   "cell_type": "code",
   "execution_count": 88,
   "id": "a92c33c8-6034-406c-abec-a74585d5a17d",
   "metadata": {},
   "outputs": [
    {
     "data": {
      "text/plain": [
       "['abc', 'def']"
      ]
     },
     "execution_count": 88,
     "metadata": {},
     "output_type": "execute_result"
    }
   ],
   "source": [
    "d['prev_companies']"
   ]
  },
  {
   "cell_type": "code",
   "execution_count": 89,
   "id": "894c9c54-db19-4e22-a0bf-7f78dfcca435",
   "metadata": {},
   "outputs": [
    {
     "data": {
      "text/plain": [
       "'def'"
      ]
     },
     "execution_count": 89,
     "metadata": {},
     "output_type": "execute_result"
    }
   ],
   "source": [
    "d['prev_companies'][-1]"
   ]
  },
  {
   "cell_type": "code",
   "execution_count": 90,
   "id": "e8e0fe0b-c423-400a-98a9-fd4a70a0450f",
   "metadata": {},
   "outputs": [
    {
     "name": "stdout",
     "output_type": "stream",
     "text": [
      "name\n",
      "age\n",
      "prev_companies\n"
     ]
    }
   ],
   "source": [
    "for i in d:\n",
    "    print(i)"
   ]
  },
  {
   "cell_type": "code",
   "execution_count": 91,
   "id": "6fca445c-e072-4ac1-8aef-254549c69b67",
   "metadata": {},
   "outputs": [
    {
     "name": "stdout",
     "output_type": "stream",
     "text": [
      "a\n",
      "29\n",
      "['abc', 'def']\n"
     ]
    }
   ],
   "source": [
    "for i in d:\n",
    "    print(d[i])"
   ]
  },
  {
   "cell_type": "code",
   "execution_count": 92,
   "id": "38a0d342-de81-4c43-9360-a8bab8a49b3d",
   "metadata": {},
   "outputs": [],
   "source": [
    "d['new_key'] = 'value'"
   ]
  },
  {
   "cell_type": "code",
   "execution_count": 93,
   "id": "7c826641-0232-415e-a849-41f136c2922c",
   "metadata": {},
   "outputs": [
    {
     "data": {
      "text/plain": [
       "{'name': 'a', 'age': 29, 'prev_companies': ['abc', 'def'], 'new_key': 'value'}"
      ]
     },
     "execution_count": 93,
     "metadata": {},
     "output_type": "execute_result"
    }
   ],
   "source": [
    "d"
   ]
  },
  {
   "cell_type": "code",
   "execution_count": 94,
   "id": "606f6d0f-0264-4215-a19c-21c3be70731b",
   "metadata": {},
   "outputs": [
    {
     "data": {
      "text/plain": [
       "False"
      ]
     },
     "execution_count": 94,
     "metadata": {},
     "output_type": "execute_result"
    }
   ],
   "source": [
    "'value' in d"
   ]
  },
  {
   "cell_type": "code",
   "execution_count": 95,
   "id": "dee8846f-4c3b-4747-8b29-ad6200d2bfbd",
   "metadata": {},
   "outputs": [
    {
     "data": {
      "text/plain": [
       "True"
      ]
     },
     "execution_count": 95,
     "metadata": {},
     "output_type": "execute_result"
    }
   ],
   "source": [
    "'new_key' in d"
   ]
  },
  {
   "cell_type": "markdown",
   "id": "af7622d7-f27e-414c-ab2e-71a1a6c33cb0",
   "metadata": {},
   "source": [
    "## Class Excercise ([Word Frequency Counter](http://www.thehypertexts.com/Mirza%20Ghalib%20English%20Translations%20by%20Michael%20R.%20Burch.htm))"
   ]
  },
  {
   "cell_type": "code",
   "execution_count": 96,
   "id": "c33626d1-1ff8-4986-8cc6-afa8bd280e52",
   "metadata": {},
   "outputs": [],
   "source": [
    "ghalib = [\n",
    "'''\n",
    "It’s only my heart, not unfeeling stone,\n",
    "so why be dismayed when it throbs with pain?\n",
    "It was made to suffer ten thousand darts;\n",
    "why let one more torment impede us?\n",
    "''',\n",
    "\n",
    "'''\n",
    "The miracle of your absence\n",
    "is that I found myself endlessly searching for you.\n",
    "''',\n",
    "\n",
    "'''\n",
    "On the subject of mystic philosophy, Ghalib,\n",
    "your words might have struck us as deeply profound\n",
    "and we might have pronounced you a saint ...\n",
    "Yes, if only we hadn't found\n",
    "you drunk\n",
    "as a skunk!\n",
    "''',\n",
    "    \n",
    "'''\n",
    "Not the blossomings of songs nor the adornments of music:\n",
    "I am the voice of my own heart breaking.\n",
    "You toy with your long, dark curls\n",
    "while I remain captive to my dark, pensive thoughts.\n",
    "We congratulate ourselves that we two are different:\n",
    "that this weakness has not burdened us both with inchoate grief.\n",
    "Now you are here, and I find myself bowing—\n",
    "as if sadness is a blessing, and longing a sacrament.\n",
    "I am a fragment of sound rebounding;\n",
    "you are the walls impounding my echoes.\n",
    "''',\n",
    "    \n",
    "'''\n",
    "All your life, O Ghalib,\n",
    "You kept repeating the same mistake:\n",
    "Your face was dirty\n",
    "But you were obsessed with cleaning the mirror!\n",
    "'''\n",
    "]"
   ]
  },
  {
   "cell_type": "code",
   "execution_count": 97,
   "id": "3d6a9cbc-b8c4-45f0-9a14-7353d46a8d75",
   "metadata": {},
   "outputs": [],
   "source": [
    "counter = {}\n",
    "for couplet in ghalib:\n",
    "    for token in couplet.replace(\"\\n\",\" \").split(\" \"):\n",
    "        if token.lower() in counter:\n",
    "            counter[token.lower()] = counter[token.lower()]+1\n",
    "        else:\n",
    "            counter[token.lower()]=1      "
   ]
  },
  {
   "cell_type": "code",
   "execution_count": 98,
   "id": "9cc96e1c-562b-448c-ad9c-3606cd5c4e7d",
   "metadata": {},
   "outputs": [
    {
     "data": {
      "text/plain": [
       "{'': 10,\n",
       " 'it’s': 1,\n",
       " 'only': 2,\n",
       " 'my': 4,\n",
       " 'heart,': 1,\n",
       " 'not': 3,\n",
       " 'unfeeling': 1,\n",
       " 'stone,': 1,\n",
       " 'so': 1,\n",
       " 'why': 2,\n",
       " 'be': 1,\n",
       " 'dismayed': 1,\n",
       " 'when': 1,\n",
       " 'it': 2,\n",
       " 'throbs': 1,\n",
       " 'with': 4,\n",
       " 'pain?': 1,\n",
       " 'was': 2,\n",
       " 'made': 1,\n",
       " 'to': 2,\n",
       " 'suffer': 1,\n",
       " 'ten': 1,\n",
       " 'thousand': 1,\n",
       " 'darts;': 1,\n",
       " 'let': 1,\n",
       " 'one': 1,\n",
       " 'more': 1,\n",
       " 'torment': 1,\n",
       " 'impede': 1,\n",
       " 'us?': 1,\n",
       " 'the': 8,\n",
       " 'miracle': 1,\n",
       " 'of': 6,\n",
       " 'your': 5,\n",
       " 'absence': 1,\n",
       " 'is': 2,\n",
       " 'that': 3,\n",
       " 'i': 5,\n",
       " 'found': 2,\n",
       " 'myself': 2,\n",
       " 'endlessly': 1,\n",
       " 'searching': 1,\n",
       " 'for': 1,\n",
       " 'you.': 1,\n",
       " 'on': 1,\n",
       " 'subject': 1,\n",
       " 'mystic': 1,\n",
       " 'philosophy,': 1,\n",
       " 'ghalib,': 2,\n",
       " 'words': 1,\n",
       " 'might': 2,\n",
       " 'have': 2,\n",
       " 'struck': 1,\n",
       " 'us': 2,\n",
       " 'as': 3,\n",
       " 'deeply': 1,\n",
       " 'profound': 1,\n",
       " 'and': 3,\n",
       " 'we': 4,\n",
       " 'pronounced': 1,\n",
       " 'you': 7,\n",
       " 'a': 5,\n",
       " 'saint': 1,\n",
       " '...': 1,\n",
       " 'yes,': 1,\n",
       " 'if': 2,\n",
       " \"hadn't\": 1,\n",
       " 'drunk': 1,\n",
       " 'skunk!': 1,\n",
       " 'blossomings': 1,\n",
       " 'songs': 1,\n",
       " 'nor': 1,\n",
       " 'adornments': 1,\n",
       " 'music:': 1,\n",
       " 'am': 2,\n",
       " 'voice': 1,\n",
       " 'own': 1,\n",
       " 'heart': 1,\n",
       " 'breaking.': 1,\n",
       " 'toy': 1,\n",
       " 'long,': 1,\n",
       " 'dark': 1,\n",
       " 'curls': 1,\n",
       " 'while': 1,\n",
       " 'remain': 1,\n",
       " 'captive': 1,\n",
       " 'dark,': 1,\n",
       " 'pensive': 1,\n",
       " 'thoughts.': 1,\n",
       " 'congratulate': 1,\n",
       " 'ourselves': 1,\n",
       " 'two': 1,\n",
       " 'are': 3,\n",
       " 'different:': 1,\n",
       " 'this': 1,\n",
       " 'weakness': 1,\n",
       " 'has': 1,\n",
       " 'burdened': 1,\n",
       " 'both': 1,\n",
       " 'inchoate': 1,\n",
       " 'grief.': 1,\n",
       " 'now': 1,\n",
       " 'here,': 1,\n",
       " 'find': 1,\n",
       " 'bowing—': 1,\n",
       " 'sadness': 1,\n",
       " 'blessing,': 1,\n",
       " 'longing': 1,\n",
       " 'sacrament.': 1,\n",
       " 'fragment': 1,\n",
       " 'sound': 1,\n",
       " 'rebounding;': 1,\n",
       " 'walls': 1,\n",
       " 'impounding': 1,\n",
       " 'echoes.': 1,\n",
       " 'all': 1,\n",
       " 'life,': 1,\n",
       " 'o': 1,\n",
       " 'kept': 1,\n",
       " 'repeating': 1,\n",
       " 'same': 1,\n",
       " 'mistake:': 1,\n",
       " 'face': 1,\n",
       " 'dirty': 1,\n",
       " 'but': 1,\n",
       " 'were': 1,\n",
       " 'obsessed': 1,\n",
       " 'cleaning': 1,\n",
       " 'mirror!': 1}"
      ]
     },
     "execution_count": 98,
     "metadata": {},
     "output_type": "execute_result"
    }
   ],
   "source": [
    "counter"
   ]
  },
  {
   "cell_type": "markdown",
   "id": "3553b598-48c9-4de7-8ba9-846df9137b71",
   "metadata": {},
   "source": [
    "## Class Excercise (Organize the text)"
   ]
  },
  {
   "cell_type": "markdown",
   "id": "c784a66e-e717-46b0-8c31-9df93545b7b0",
   "metadata": {},
   "source": [
    "### Q1 Use the ner_data and and organize the data in the following manner in a dictionary:\n",
    "\n",
    "```json\n",
    "{\n",
    "    \"PERSON\":['Pierre'...],\n",
    "    \"ORGANIZATION\":['Boeing'.....],\n",
    "    \"GPE\":['DUTCH'.....],\n",
    "    \"LOCATION\":['Missisipi'.....]\n",
    "}\n",
    "\n",
    "```\n",
    "You can ignore to handle the cases where a Named Entity is contigously many words long, e.g. for New York, you can treat New and York as separate words."
   ]
  },
  {
   "cell_type": "markdown",
   "id": "00fc935b-1789-4038-9ec6-17b5852feb16",
   "metadata": {},
   "source": [
    "## Q2. Now modify the existing dictionary so that duplicate entries are removed"
   ]
  },
  {
   "cell_type": "markdown",
   "id": "7202fe17-a7f8-413c-bad4-d9c9cad7b474",
   "metadata": {},
   "source": [
    "## [File objects](https://docs.python.org/3/tutorial/inputoutput.html#reading-and-writing-files)\n",
    "\n",
    "- They help in disk based i/o. \n",
    "- Help you read text as well as binary files."
   ]
  },
  {
   "cell_type": "code",
   "execution_count": 2,
   "id": "391a30b9-aa28-4a53-b6dd-cfb6f350c44d",
   "metadata": {},
   "outputs": [],
   "source": [
    "f = open(\"../../data/file_data.csv\",\"r\")\n",
    "data_string = f.read()\n",
    "f.close()\n",
    "f = open(\"../../data/file_data.csv\",\"r\")\n",
    "data_lines = f.readlines()\n",
    "f.close()"
   ]
  },
  {
   "cell_type": "code",
   "execution_count": 100,
   "id": "8ac1fce7-3963-4774-870c-fdd45c3d3b03",
   "metadata": {},
   "outputs": [
    {
     "data": {
      "text/plain": [
       "',sensor_id,time,incoming,outgoing,range,date,hour,minute,total,location_name\\n0,52,2021-06-17 07:07:1'"
      ]
     },
     "execution_count": 100,
     "metadata": {},
     "output_type": "execute_result"
    }
   ],
   "source": [
    "data_string[0:100]"
   ]
  },
  {
   "cell_type": "code",
   "execution_count": 101,
   "id": "0fb436f5-e0bd-4996-bb96-1417ea0ab77d",
   "metadata": {},
   "outputs": [
    {
     "data": {
      "text/plain": [
       "[',sensor_id,time,incoming,outgoing,range,date,hour,minute,total,location_name\\n',\n",
       " '0,52,2021-06-17 07:07:11.937082+00:00,0,2,1min,2021-06-17,7,7,2,reitan_7eleven_carlberner\\n']"
      ]
     },
     "execution_count": 101,
     "metadata": {},
     "output_type": "execute_result"
    }
   ],
   "source": [
    "data_lines[0:2]"
   ]
  },
  {
   "cell_type": "code",
   "execution_count": 102,
   "id": "556810d9-df3c-4828-aba9-e1e1f9f72462",
   "metadata": {},
   "outputs": [],
   "source": [
    "headers = data_lines[0].replace(\"\\n\",\"\").split(\",\")"
   ]
  },
  {
   "cell_type": "code",
   "execution_count": 103,
   "id": "26b90472-477a-4e9b-8dfc-c6a6734f4f2e",
   "metadata": {},
   "outputs": [
    {
     "data": {
      "text/plain": [
       "['',\n",
       " 'sensor_id',\n",
       " 'time',\n",
       " 'incoming',\n",
       " 'outgoing',\n",
       " 'range',\n",
       " 'date',\n",
       " 'hour',\n",
       " 'minute',\n",
       " 'total',\n",
       " 'location_name']"
      ]
     },
     "execution_count": 103,
     "metadata": {},
     "output_type": "execute_result"
    }
   ],
   "source": [
    "headers"
   ]
  },
  {
   "cell_type": "code",
   "execution_count": 104,
   "id": "acc24e5e-139d-4cf5-bb04-93096c96b3da",
   "metadata": {},
   "outputs": [],
   "source": [
    "sensor_id = []\n",
    "time = [] \n",
    "incoming = []\n",
    "outgoing = []\n",
    "rnge = []\n",
    "date = [] \n",
    "hour = []\n",
    "minute = [] \n",
    "total = [] \n",
    "location_name = []\n",
    "\n",
    "for row in data_lines[1:]:\n",
    "    values = row.replace(\"\\n\",\"\").split(\",\")[1:]\n",
    "    sensor_id.append(values[0])\n",
    "    time.append(values[1])\n",
    "    incoming.append(values[2])\n",
    "    outgoing.append(values[3])\n",
    "    rnge.append(values[4])\n",
    "    date.append(values[5])\n",
    "    hour.append(values[6])\n",
    "    minute.append(values[7])\n",
    "    total.append(values[8])\n",
    "    location_name.append(values[9])"
   ]
  },
  {
   "cell_type": "code",
   "execution_count": 105,
   "id": "35426dfb-9b49-4a3e-b0f3-ec8a96f916fa",
   "metadata": {},
   "outputs": [
    {
     "data": {
      "text/plain": [
       "['52', '52', '52', '52', '52']"
      ]
     },
     "execution_count": 105,
     "metadata": {},
     "output_type": "execute_result"
    }
   ],
   "source": [
    "sensor_id[0:5]"
   ]
  },
  {
   "cell_type": "code",
   "execution_count": 106,
   "id": "2a721a1c-966f-4e88-b977-d90ef06f53c8",
   "metadata": {},
   "outputs": [
    {
     "data": {
      "text/plain": [
       "['2', '1', '1', '1', '1']"
      ]
     },
     "execution_count": 106,
     "metadata": {},
     "output_type": "execute_result"
    }
   ],
   "source": [
    "total[0:5]"
   ]
  },
  {
   "cell_type": "code",
   "execution_count": 107,
   "id": "1649502d-8118-4ac8-99ba-54fd0f65e6d9",
   "metadata": {},
   "outputs": [],
   "source": [
    "sensor_id = []\n",
    "time = [] \n",
    "incoming = []\n",
    "outgoing = []\n",
    "rnge = []\n",
    "date = [] \n",
    "hour = []\n",
    "minute = [] \n",
    "total = [] \n",
    "location_name = []\n",
    "\n",
    "for row in data_lines[1:]:\n",
    "    values = row.replace(\"\\n\",\"\").split(\",\")[1:]\n",
    "    sensor_id.append(int(values[0]))\n",
    "    time.append(values[1])\n",
    "    incoming.append(int(values[2]))\n",
    "    outgoing.append(int(values[3]))\n",
    "    rnge.append(values[4])\n",
    "    date.append(values[5])\n",
    "    hour.append(int(values[6]))\n",
    "    minute.append(int(values[7]))\n",
    "    total.append(int(values[8]))\n",
    "    location_name.append(values[9])"
   ]
  },
  {
   "cell_type": "code",
   "execution_count": 108,
   "id": "24e78611-f16f-49e9-a22c-910fc1ae65c7",
   "metadata": {},
   "outputs": [
    {
     "data": {
      "text/plain": [
       "[2, 1, 1]"
      ]
     },
     "execution_count": 108,
     "metadata": {},
     "output_type": "execute_result"
    }
   ],
   "source": [
    "total[0:3]"
   ]
  },
  {
   "cell_type": "markdown",
   "id": "4aef0516-717e-4482-aea0-f54bb7fc3f19",
   "metadata": {},
   "source": [
    "### Q1 Find out the average of the column total from 11 PM to 11:45 PM on 2021-06-18."
   ]
  },
  {
   "cell_type": "code",
   "execution_count": 109,
   "id": "9d7bbde5-f26d-40d8-b7bf-b6d82b4b7752",
   "metadata": {},
   "outputs": [
    {
     "name": "stdout",
     "output_type": "stream",
     "text": [
      "('2021-06-17', 7, 7, 2)\n",
      "('2021-06-17', 7, 7, 1)\n",
      "('2021-06-17', 7, 9, 1)\n",
      "('2021-06-17', 7, 10, 1)\n",
      "('2021-06-17', 7, 11, 1)\n",
      "('2021-06-17', 7, 14, 1)\n",
      "('2021-06-17', 7, 16, 1)\n",
      "('2021-06-17', 7, 17, 1)\n",
      "('2021-06-17', 7, 17, 1)\n",
      "('2021-06-17', 7, 19, 1)\n"
     ]
    }
   ],
   "source": [
    "cnt = 0\n",
    "for values in zip(date,hour,minute,total):\n",
    "    print(values)\n",
    "    cnt+=1\n",
    "    if cnt==10:\n",
    "        break"
   ]
  },
  {
   "cell_type": "code",
   "execution_count": 110,
   "id": "75833d43-9ec6-4c46-8b56-0d4c1cdcaac7",
   "metadata": {},
   "outputs": [],
   "source": [
    "cnt = 0\n",
    "totals = []\n",
    "for values in zip(date,hour,minute,total):\n",
    "    if values[0]==\"2021-06-18\" and values[1]==23 and values[2]<=45:\n",
    "        cnt+=1\n",
    "        totals.append(values[3])"
   ]
  },
  {
   "cell_type": "code",
   "execution_count": 111,
   "id": "42b6f282-1b30-488c-970d-a208b627cf1b",
   "metadata": {},
   "outputs": [
    {
     "data": {
      "text/plain": [
       "5"
      ]
     },
     "execution_count": 111,
     "metadata": {},
     "output_type": "execute_result"
    }
   ],
   "source": [
    "cnt"
   ]
  },
  {
   "cell_type": "code",
   "execution_count": 112,
   "id": "bbc8eeaa-044c-4bd1-af7e-7575b99177d4",
   "metadata": {},
   "outputs": [
    {
     "data": {
      "text/plain": [
       "[1, 1, 1, 1, 1]"
      ]
     },
     "execution_count": 112,
     "metadata": {},
     "output_type": "execute_result"
    }
   ],
   "source": [
    "totals"
   ]
  },
  {
   "cell_type": "code",
   "execution_count": 113,
   "id": "e8c84bdd-2cc5-4a97-95ca-28bdf8444030",
   "metadata": {},
   "outputs": [
    {
     "data": {
      "text/plain": [
       "1.0"
      ]
     },
     "execution_count": 113,
     "metadata": {},
     "output_type": "execute_result"
    }
   ],
   "source": [
    "sum(totals)/cnt"
   ]
  },
  {
   "cell_type": "markdown",
   "id": "87177c47-fc33-4d25-9afe-0e7c2d36f8e2",
   "metadata": {},
   "source": [
    "### Q2. Count the number of times the incoming is more than outgoing in the whole file."
   ]
  },
  {
   "cell_type": "code",
   "execution_count": 114,
   "id": "6f8ad8f5-bf67-4868-8691-a515d27518f5",
   "metadata": {},
   "outputs": [
    {
     "name": "stdout",
     "output_type": "stream",
     "text": [
      "324\n"
     ]
    }
   ],
   "source": [
    "cnt = 0\n",
    "for values in zip(incoming,outgoing):\n",
    "    if values[0]>values[1]:\n",
    "        cnt+=1\n",
    "print(cnt)"
   ]
  },
  {
   "cell_type": "markdown",
   "id": "0bf26966-d14e-48e2-bfe9-7b045918a619",
   "metadata": {},
   "source": [
    "## Class Assignment \n",
    "\n",
    "- Use the data tweets_assignment.txt\n",
    "- Find out how many tweets were tweeted on each day, i.e. how many tweets were made on 26th December, how many on 25th December and so on."
   ]
  },
  {
   "cell_type": "markdown",
   "id": "91f125d2-4629-438e-ad1e-7e33d4deeacc",
   "metadata": {},
   "source": [
    "## Context Manager: open()\n",
    "\n",
    "- We need to close the file connection every time we open a file\n",
    "- Context managers do some of the tasks implicitly for us\n",
    "- While using `open()` with a context manager the file connection automatically closes\n",
    "- We use `with` statement to use a context manager while working with file objects"
   ]
  },
  {
   "cell_type": "code",
   "execution_count": 3,
   "id": "cb4b3b5e-c2be-4d8c-8519-26a3c7d2e476",
   "metadata": {},
   "outputs": [
    {
     "data": {
      "text/plain": [
       "[',sensor_id,time,incoming,outgoing,range,date,hour,minute,total,location_name\\n',\n",
       " '0,52,2021-06-17 07:07:11.937082+00:00,0,2,1min,2021-06-17,7,7,2,reitan_7eleven_carlberner\\n',\n",
       " '1,52,2021-06-17 07:07:51.166361+00:00,1,0,1min,2021-06-17,7,7,1,reitan_7eleven_carlberner\\n',\n",
       " '2,52,2021-06-17 07:09:48.861997+00:00,0,1,1min,2021-06-17,7,9,1,reitan_7eleven_carlberner\\n',\n",
       " '3,52,2021-06-17 07:10:40.197648+00:00,1,0,1min,2021-06-17,7,10,1,reitan_7eleven_carlberner\\n',\n",
       " '4,52,2021-06-17 07:11:49.664105+00:00,0,1,1min,2021-06-17,7,11,1,reitan_7eleven_carlberner\\n',\n",
       " '5,52,2021-06-17 07:14:20.731722+00:00,1,0,1min,2021-06-17,7,14,1,reitan_7eleven_carlberner\\n',\n",
       " '6,52,2021-06-17 07:16:27.575491+00:00,0,1,1min,2021-06-17,7,16,1,reitan_7eleven_carlberner\\n',\n",
       " '7,52,2021-06-17 07:17:21.919449+00:00,1,0,1min,2021-06-17,7,17,1,reitan_7eleven_carlberner\\n',\n",
       " '8,52,2021-06-17 07:17:52.122774+00:00,0,1,1min,2021-06-17,7,17,1,reitan_7eleven_carlberner\\n']"
      ]
     },
     "execution_count": 3,
     "metadata": {},
     "output_type": "execute_result"
    }
   ],
   "source": [
    "with open(\"../../data/file_data.csv\",\"r\") as f:\n",
    "    data_list = f.readlines()\n",
    "data_list[0:10]"
   ]
  },
  {
   "cell_type": "markdown",
   "id": "0193a2bf-d49c-47aa-8b00-fe999d093eab",
   "metadata": {},
   "source": [
    "## Alternate Looping constructs"
   ]
  },
  {
   "cell_type": "code",
   "execution_count": 116,
   "id": "e808a53a-7893-4967-aacd-1d76ea8d61b3",
   "metadata": {},
   "outputs": [],
   "source": [
    "job_description1 = '''We are a dominant engineering firm that boasts many leading clients. We are determined to stand apart from the competition.'''\n",
    "job_description2 = '''We are a community of engineers who have effective relationships with many satisfied clients. We are committed to understanding the engineer sector intimately. '''\n",
    "job_description3 = '''Strong communication and influencing skills. Ability to perform individually in a competitive environment. Superior ability to satisfy customers and manage company’s association with them.'''\n",
    "job_description4 = '''Proficient oral and written communications skills. Collaborates well in a team environment. Sensitive to clients’ needs, can develop warm client relationships.'''\n",
    "job_description5 = '''Direct project groups to manage project progress and ensure accurate task control. Determine compliance with client’s objectives.'''\n",
    "job_description6 = '''Provide general support to project team in a manner complimentary to the company. Help clients with construction activities.'''"
   ]
  },
  {
   "cell_type": "markdown",
   "id": "0e57a132-dc51-4621-8bb3-b1d7eff1203d",
   "metadata": {},
   "source": [
    "## List Comprehension\n",
    "- Prefer when running a simple for loop\n",
    "- Inspired from set notation in mathematics\n",
    "- You can decide if you want to use this construct based on your comfort level\n",
    "- You might have to read other people's code where this construct may have been used\n",
    "\n",
    "Lets impliment the sentence tokenization logic using list-comprehension"
   ]
  },
  {
   "cell_type": "code",
   "execution_count": 117,
   "id": "a5d9a2a3-d98a-4cff-b4ca-94d93e90abcc",
   "metadata": {},
   "outputs": [
    {
     "data": {
      "text/plain": [
       "['We are a dominant engineering firm that boasts many leading clients',\n",
       " ' We are determined to stand apart from the competition',\n",
       " '']"
      ]
     },
     "execution_count": 117,
     "metadata": {},
     "output_type": "execute_result"
    }
   ],
   "source": [
    "[sent for sent in job_description1.split(\".\")]"
   ]
  },
  {
   "cell_type": "code",
   "execution_count": 118,
   "id": "facae336-beff-488e-9ce3-b62217e597b8",
   "metadata": {},
   "outputs": [
    {
     "data": {
      "text/plain": [
       "['We are a dominant engineering firm that boasts many leading clients',\n",
       " ' We are determined to stand apart from the competition']"
      ]
     },
     "execution_count": 118,
     "metadata": {},
     "output_type": "execute_result"
    }
   ],
   "source": [
    "[sent for sent in job_description1.split(\".\") if sent!=\"\" and sent!=\" \"]\n",
    "## produce a list of sent given the iterable and the condition"
   ]
  },
  {
   "cell_type": "markdown",
   "id": "23eacda8-121e-4e9d-ad31-b55661f83251",
   "metadata": {},
   "source": [
    "## Maps\n",
    "\n",
    "- These can be used to refactor a for loop in which a lot is going on\n",
    "- The idea can be best described by following gif\n",
    "\n",
    "![](maps.gif)\n",
    "\n",
    "\n",
    "Lets impliment the logic we discussed above using the notion of map"
   ]
  },
  {
   "cell_type": "code",
   "execution_count": 119,
   "id": "f9756f98-4a40-4e99-8f32-d5c136718d32",
   "metadata": {},
   "outputs": [],
   "source": [
    "def square(x):\n",
    "    return x**2\n",
    "List = [1,2,3,4,5,6,7,8,9]"
   ]
  },
  {
   "cell_type": "code",
   "execution_count": 120,
   "id": "7fa33a69-ecad-41a3-961c-03f7cd4af7ec",
   "metadata": {},
   "outputs": [
    {
     "data": {
      "text/plain": [
       "[1, 4, 9, 16, 25, 36, 49, 64, 81]"
      ]
     },
     "execution_count": 120,
     "metadata": {},
     "output_type": "execute_result"
    }
   ],
   "source": [
    "list(map(square,List))"
   ]
  },
  {
   "cell_type": "markdown",
   "id": "b227d403-f3e7-4dd8-b8f1-691d0968d008",
   "metadata": {},
   "source": []
  }
 ],
 "metadata": {
  "kernelspec": {
   "display_name": "Python 3",
   "language": "python",
   "name": "python3"
  },
  "language_info": {
   "codemirror_mode": {
    "name": "ipython",
    "version": 3
   },
   "file_extension": ".py",
   "mimetype": "text/x-python",
   "name": "python",
   "nbconvert_exporter": "python",
   "pygments_lexer": "ipython3",
   "version": "3.9.5"
  }
 },
 "nbformat": 4,
 "nbformat_minor": 5
}
