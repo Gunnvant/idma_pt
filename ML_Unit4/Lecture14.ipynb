{
 "cells": [
  {
   "cell_type": "markdown",
   "id": "b681d764-e2c9-4e82-9427-8186dcaa9db3",
   "metadata": {},
   "source": [
    "## Lecture 14: Clustering II (MIT Notes)\n",
    "\n",
    "**Introduction to K-Mediod Algorithm**\n",
    "\n",
    "1. Randomly select $z_1,2_2,...,z_K$\n",
    "2. \n",
    "    - Given $z_1,z_2,...,z_k$, assign each datapoint to $x^i$ to the $z_j$ if\n",
    "    $$Cost(z_1,z_2,...,z_k) = \\sum^{n}_{i=1}min_{j = 1,2...,k}||x^i-z_j||^2$$\n",
    "    \n",
    "    - Given $C_1,C_2,...,C_K$ find the best representatives $z_1,z_2,...,z_K$ such that:\n",
    "    $$z_j = \\underset{z} {\\arg \\min}\\sum_{i \\in C_j}dist(x^i-z)$$ such that $$z_j \\in \\{x^1,x^2,...,x^n\\}$$\n",
    "    \n",
    "\n",
    "This algorithm does two things:\n",
    "\n",
    "1. It finds $z_j$ that are part of the data\n",
    "2. It allows us to use any distance function\n",
    "\n",
    "\n",
    "**Computational Complexity**\n",
    "\n",
    "For the step 2.1, the cost complexity is $O(ndk)$ as there are n data points, k clusters and each datapoint has d dimensions.\n",
    "\n",
    "For the step 2.2 the cost complexity is $O(n^2dk)$ because we need to check if $z_j \\in \\{x^1,x^2,...,x^n\\}$, this adds an extra cost complexity of $O(n)$\n"
   ]
  },
  {
   "cell_type": "code",
   "execution_count": null,
   "id": "838eaf95-fc8e-4bf9-85db-06563dc24333",
   "metadata": {},
   "outputs": [],
   "source": []
  }
 ],
 "metadata": {
  "kernelspec": {
   "display_name": "Python 3",
   "language": "python",
   "name": "python3"
  },
  "language_info": {
   "codemirror_mode": {
    "name": "ipython",
    "version": 3
   },
   "file_extension": ".py",
   "mimetype": "text/x-python",
   "name": "python",
   "nbconvert_exporter": "python",
   "pygments_lexer": "ipython3",
   "version": "3.9.5"
  }
 },
 "nbformat": 4,
 "nbformat_minor": 5
}
