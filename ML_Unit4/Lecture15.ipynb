{
 "cells": [
  {
   "cell_type": "markdown",
   "id": "728f8980-18cd-46ae-8608-3a2b45a3276d",
   "metadata": {},
   "source": [
    "### Lecture 15: Generative Models (MIT Notes)\n",
    "\n",
    "**Gaussian Generative Models**\n",
    "\n",
    "Multinomial Generative models in this lecture were used in the context of sequence classification. When it comes to continous data, one way to model a classification problem in a generative fashion is to use a Guassian Distribution. Some examples in these notes are based on this [document](https://www.inf.ed.ac.uk/teaching/courses/inf2b/learnnotes/inf2b-learn-note09-2up.pdf)\n",
    "\n",
    "- Univariate Gaussian \n",
    "A random variable $x$, st $x \\in R$ is said to follow a gaussian distribution with mean $\\mu$ and variance $\\sigma^2$ if its *pdf* can be written as:\n",
    "\n",
    "$$\\frac{1}{\\sqrt{2\\pi\\sigma^2}}exp(-\\frac{(x-\\mu)^2}{2\\sigma^2})$$\n",
    "\n",
    "The MLE estimate for $\\mu$ is the sample mean $\\bar{x}$ and the estimate for variance $\\sigma^2$ is sample variance $\\bar{\\sigma^2}$\n",
    "\n",
    "\n",
    "- Univariate Gaussian Classification Example\n",
    "\n",
    "Imagine we have data on blood sugar levels and diabetes. We want to build a Gaussian Classifier to predict from blood sugar levels if someone will be a diabetic or not.\n",
    "\n",
    "\n",
    "| Blood Sugar \t| Diabetes \t|\n",
    "|---\t|---\t|\n",
    "| 10 \t| 0 \t|\n",
    "| 8 \t| 0 \t|\n",
    "| 10 \t| 0 \t|\n",
    "| 10 \t| 0 \t|\n",
    "| 11 \t| 0 \t|\n",
    "| 11 \t| 0 \t|\n",
    "| 12 \t| 1 \t|\n",
    "| 9 \t| 1 \t|\n",
    "| 15 \t| 1 \t|\n",
    "| 10 \t| 1 \t|\n",
    "| 13 \t| 1 \t|\n",
    "| 13 \t| 1 \t|\n",
    "\n",
    "\n",
    "Now the MLE for \n",
    "- $\\mu_0 = 10$, $\\sigma^2_{0}=1$\n",
    "- $\\mu_1=12$, $\\sigma^2_{1}=4$\n",
    "\n",
    "Suppose we now get blood sugar measurement as given below:\n",
    "- 10\n",
    "- 11\n",
    "- 6\n",
    "\n",
    "Now using the univariate gaussian model we can estimate the $P(x|0)$ and $P(x|1)$\n",
    "\n",
    "We would ideally want to compute the $P(c|x)$, we can use the baye's rule to compute this probability as a posterior estimate.\n",
    "\n",
    "$P(c=0|x) = \\frac{P(x|c=0)*P(c=0)}{P(x)}$\n",
    "\n",
    "and \n",
    "\n",
    "$P(c=1|x) = \\frac{P(x|c=1)*P(c=1)}{P(x)}$\n",
    "\n",
    "Now to simplify things we can instead take the ratio of proior probabilities\n",
    "\n",
    "$$\\frac{P(c=0|x)}{P(c=1|x)} = \\frac{\\frac{P(x|c=0)*P(c=0)}{P(x)}}{\\frac{P(x|c=1)*P(c=1)}{P(x)}} = \\frac{P(x|c=0)*P(c=0)}{P(x|c=1)*P(c=1)}$$\n",
    "\n",
    "Now in the current case  $P(c=0) = P(c=1)$ (see the table above, we have same number of diabetic and non diabetic cases and there is no additional information given to assume otherwise) so the expression above reduces to:\n",
    "\n",
    "$$\\frac{P(c=0|x)}{P(c=1|x)} = \\frac{P(x|c=0)}{P(x|c=1)} $$"
   ]
  },
  {
   "cell_type": "code",
   "execution_count": 3,
   "id": "9a28695e-f3f6-4946-9720-529b907df70d",
   "metadata": {},
   "outputs": [],
   "source": [
    "import math\n",
    "\n",
    "def norm_dist(x,mu,sigma):\n",
    "    sigma_square = sigma**2\n",
    "    const = 1/math.sqrt(2*math.pi*sigma_square)\n",
    "    norm = -1*((x-mu)**2)/(2*sigma_square)\n",
    "    pdf = const*math.exp(norm)\n",
    "    return pdf"
   ]
  },
  {
   "cell_type": "code",
   "execution_count": 5,
   "id": "a6756dee-34e3-4ff5-b63a-aa12033facdd",
   "metadata": {},
   "outputs": [
    {
     "data": {
      "text/plain": [
       "0.3989422804014327"
      ]
     },
     "execution_count": 5,
     "metadata": {},
     "output_type": "execute_result"
    }
   ],
   "source": [
    "norm_dist(x = 10,mu=10, sigma=1)"
   ]
  },
  {
   "cell_type": "markdown",
   "id": "96f830d1-b9df-44d0-ab80-146d04e38661",
   "metadata": {},
   "source": [
    "Now using the python function defined above we can compute the ratio of posterior probabilities:\n",
    "\n",
    "**$$\\frac{P(c=0|x=10)}{P(c=1|x=10)} = \\frac{P(x=10|c=0)}{P(x=10|c=1)} $$**"
   ]
  },
  {
   "cell_type": "code",
   "execution_count": 6,
   "id": "52550960-4971-4386-8eff-2552e561053e",
   "metadata": {},
   "outputs": [
    {
     "data": {
      "text/plain": [
       "4.532593812267305"
      ]
     },
     "execution_count": 6,
     "metadata": {},
     "output_type": "execute_result"
    }
   ],
   "source": [
    "norm_dist(x = 10,mu=10, sigma=1)/norm_dist(x = 10,mu=12, sigma=4)"
   ]
  },
  {
   "cell_type": "markdown",
   "id": "dd6646d0-9ca6-4ee2-b0e8-08ced7b6eff8",
   "metadata": {},
   "source": [
    "**$$\\frac{P(c=0|x=11)}{P(c=1|x=11)} = \\frac{P(x=11|c=0)}{P(x=11|c=1)} $$**"
   ]
  },
  {
   "cell_type": "code",
   "execution_count": 7,
   "id": "bf924387-df87-4711-8bab-3f3730ce3f5e",
   "metadata": {},
   "outputs": [
    {
     "data": {
      "text/plain": [
       "2.5031360384183645"
      ]
     },
     "execution_count": 7,
     "metadata": {},
     "output_type": "execute_result"
    }
   ],
   "source": [
    "norm_dist(x = 11,mu=10, sigma=1)/norm_dist(x = 11,mu=12, sigma=4)"
   ]
  },
  {
   "cell_type": "markdown",
   "id": "b6f0d103-1324-4fe7-acd0-a660380314f2",
   "metadata": {},
   "source": [
    "**$$\\frac{P(c=0|x=11)}{P(c=1|x=11)} = \\frac{P(x=11|c=0)}{P(x=11|c=1)} $$**"
   ]
  },
  {
   "cell_type": "code",
   "execution_count": 8,
   "id": "80a1d2bf-7dbd-4665-b93f-a675d8ae9485",
   "metadata": {},
   "outputs": [
    {
     "data": {
      "text/plain": [
       "0.004133190554590548"
      ]
     },
     "execution_count": 8,
     "metadata": {},
     "output_type": "execute_result"
    }
   ],
   "source": [
    "norm_dist(x = 6,mu=10, sigma=1)/norm_dist(x = 6,mu=12, sigma=4)"
   ]
  },
  {
   "cell_type": "code",
   "execution_count": null,
   "id": "4866618b-4004-40ef-9084-90bb4cf3cb65",
   "metadata": {},
   "outputs": [],
   "source": []
  }
 ],
 "metadata": {
  "kernelspec": {
   "display_name": "Python 3",
   "language": "python",
   "name": "python3"
  },
  "language_info": {
   "codemirror_mode": {
    "name": "ipython",
    "version": 3
   },
   "file_extension": ".py",
   "mimetype": "text/x-python",
   "name": "python",
   "nbconvert_exporter": "python",
   "pygments_lexer": "ipython3",
   "version": "3.9.5"
  }
 },
 "nbformat": 4,
 "nbformat_minor": 5
}
