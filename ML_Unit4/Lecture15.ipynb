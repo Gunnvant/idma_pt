{
 "cells": [
  {
   "cell_type": "markdown",
   "id": "728f8980-18cd-46ae-8608-3a2b45a3276d",
   "metadata": {},
   "source": [
    "### Lecture 15: Generative Models (MIT Notes)\n",
    "\n"
   ]
  },
  {
   "cell_type": "code",
   "execution_count": null,
   "id": "9a28695e-f3f6-4946-9720-529b907df70d",
   "metadata": {},
   "outputs": [],
   "source": []
  }
 ],
 "metadata": {
  "kernelspec": {
   "display_name": "Python 3",
   "language": "python",
   "name": "python3"
  },
  "language_info": {
   "codemirror_mode": {
    "name": "ipython",
    "version": 3
   },
   "file_extension": ".py",
   "mimetype": "text/x-python",
   "name": "python",
   "nbconvert_exporter": "python",
   "pygments_lexer": "ipython3",
   "version": "3.9.5"
  }
 },
 "nbformat": 4,
 "nbformat_minor": 5
}
