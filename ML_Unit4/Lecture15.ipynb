{
 "cells": [
  {
   "cell_type": "markdown",
   "id": "728f8980-18cd-46ae-8608-3a2b45a3276d",
   "metadata": {},
   "source": [
    "### Lecture 15: Generative Models (MIT Notes)\n",
    "\n",
    "**Gaussian Generative Models**\n",
    "\n",
    "Multinomial Generative models in this lecture were used in the context of sequence classification. When it comes to continous data, one way to model a classification problem in a generative fashion is to use a Guassian Distribution. Some examples in these notes are based on this [document](https://www.inf.ed.ac.uk/teaching/courses/inf2b/learnnotes/inf2b-learn-note09-2up.pdf)\n",
    "\n",
    "- Univariate Gaussian \n",
    "A random variable $x$, st $x \\in R$ is said to follow a gaussian distribution with mean $\\mu$ and variance $\\sigma^2$ if its *pdf* can be written as:\n",
    "\n",
    "$$\\frac{1}{\\sqrt{2\\pi\\sigma^2}}exp(-\\frac{(x-\\mu)^2}{2\\sigma^2})$$\n",
    "\n",
    "The MLE estimate for $\\mu$ is the sample mean $\\bar{x}$ and the estimate for variance $\\sigma^2$ is sample variance $\\bar{\\sigma^2}$\n",
    "\n",
    "\n",
    "- Univariate Gaussian Classification Example\n",
    "\n",
    "Imagine we have data on blood sugar levels and diabetes. We want to build a Gaussian Classifier to predict from blood sugar levels if someone will be a diabetic or not.\n",
    "\n",
    "\n",
    "| Blood Sugar \t| Diabetes \t|\n",
    "|---\t|---\t|\n",
    "| 10 \t| 0 \t|\n",
    "| 8 \t| 0 \t|\n",
    "| 10 \t| 0 \t|\n",
    "| 10 \t| 0 \t|\n",
    "| 11 \t| 0 \t|\n",
    "| 11 \t| 0 \t|\n",
    "| 12 \t| 1 \t|\n",
    "| 9 \t| 1 \t|\n",
    "| 15 \t| 1 \t|\n",
    "| 10 \t| 1 \t|\n",
    "| 13 \t| 1 \t|\n",
    "| 13 \t| 1 \t|\n",
    "\n",
    "\n",
    "Now the MLE for \n",
    "- $\\mu_0 = 10$, $\\sigma^2_{0}=1$\n",
    "- $\\mu_1=12$, $\\sigma^2_{1}=4$\n",
    "\n",
    "Suppose we now get blood sugar measurement as given below:\n",
    "- 10\n",
    "- 11\n",
    "- 6\n",
    "\n",
    "Now using the univariate gaussian model we can estimate the $P(x|0)$ and $P(x|1)$\n",
    "\n",
    "We would ideally want to compute the $P(c|x)$, we can use the baye's rule to compute this probability as a posterior estimate.\n",
    "\n",
    "$P(c=0|x) = \\frac{P(x|c=0)*P(c=0)}{P(x)}$\n",
    "\n",
    "and \n",
    "\n",
    "$P(c=1|x) = \\frac{P(x|c=1)*P(c=1)}{P(x)}$\n",
    "\n",
    "Now to simplify things we can instead take the ratio of proior probabilities\n",
    "\n",
    "$$\\frac{P(c=0|x)}{P(c=1|x)} = \\frac{\\frac{P(x|c=0)*P(c=0)}{P(x)}}{\\frac{P(x|c=1)*P(c=1)}{P(x)}} = \\frac{P(x|c=0)*P(c=0)}{P(x|c=1)*P(c=1)}$$\n",
    "\n",
    "Now in the current case  $P(c=0) = P(c=1)$ (see the table above, we have same number of diabetic and non diabetic cases and there is no additional information given to assume otherwise) so the expression above reduces to:\n",
    "\n",
    "$$\\frac{P(c=0|x)}{P(c=1|x)} = \\frac{P(x|c=0)}{P(x|c=1)} $$"
   ]
  },
  {
   "cell_type": "code",
   "execution_count": 1,
   "id": "9a28695e-f3f6-4946-9720-529b907df70d",
   "metadata": {},
   "outputs": [],
   "source": [
    "import math\n",
    "def norm_dist(x,mu,sigma):\n",
    "    sigma_square = sigma**2\n",
    "    const = 1/math.sqrt(2*math.pi*sigma_square)\n",
    "    norm = -1*((x-mu)**2)/(2*sigma_square)\n",
    "    pdf = const*math.exp(norm)\n",
    "    return pdf"
   ]
  },
  {
   "cell_type": "code",
   "execution_count": 2,
   "id": "a6756dee-34e3-4ff5-b63a-aa12033facdd",
   "metadata": {},
   "outputs": [
    {
     "data": {
      "text/plain": [
       "0.3989422804014327"
      ]
     },
     "execution_count": 2,
     "metadata": {},
     "output_type": "execute_result"
    }
   ],
   "source": [
    "norm_dist(x = 10,mu=10, sigma=1)"
   ]
  },
  {
   "cell_type": "markdown",
   "id": "96f830d1-b9df-44d0-ab80-146d04e38661",
   "metadata": {},
   "source": [
    "Now using the python function defined above we can compute the ratio of posterior probabilities:\n",
    "\n",
    "**$$\\frac{P(c=0|x=10)}{P(c=1|x=10)} = \\frac{P(x=10|c=0)}{P(x=10|c=1)} $$**"
   ]
  },
  {
   "cell_type": "code",
   "execution_count": 3,
   "id": "52550960-4971-4386-8eff-2552e561053e",
   "metadata": {},
   "outputs": [
    {
     "data": {
      "text/plain": [
       "4.532593812267305"
      ]
     },
     "execution_count": 3,
     "metadata": {},
     "output_type": "execute_result"
    }
   ],
   "source": [
    "norm_dist(x = 10,mu=10, sigma=1)/norm_dist(x = 10,mu=12, sigma=4)"
   ]
  },
  {
   "cell_type": "markdown",
   "id": "dd6646d0-9ca6-4ee2-b0e8-08ced7b6eff8",
   "metadata": {},
   "source": [
    "**$$\\frac{P(c=0|x=11)}{P(c=1|x=11)} = \\frac{P(x=11|c=0)}{P(x=11|c=1)} $$**"
   ]
  },
  {
   "cell_type": "code",
   "execution_count": 4,
   "id": "bf924387-df87-4711-8bab-3f3730ce3f5e",
   "metadata": {},
   "outputs": [
    {
     "data": {
      "text/plain": [
       "2.5031360384183645"
      ]
     },
     "execution_count": 4,
     "metadata": {},
     "output_type": "execute_result"
    }
   ],
   "source": [
    "norm_dist(x = 11,mu=10, sigma=1)/norm_dist(x = 11,mu=12, sigma=4)"
   ]
  },
  {
   "cell_type": "markdown",
   "id": "b6f0d103-1324-4fe7-acd0-a660380314f2",
   "metadata": {},
   "source": [
    "**$$\\frac{P(c=0|x=11)}{P(c=1|x=11)} = \\frac{P(x=11|c=0)}{P(x=11|c=1)} $$**"
   ]
  },
  {
   "cell_type": "code",
   "execution_count": 5,
   "id": "80a1d2bf-7dbd-4665-b93f-a675d8ae9485",
   "metadata": {},
   "outputs": [
    {
     "data": {
      "text/plain": [
       "0.004133190554590548"
      ]
     },
     "execution_count": 5,
     "metadata": {},
     "output_type": "execute_result"
    }
   ],
   "source": [
    "norm_dist(x = 6,mu=10, sigma=1)/norm_dist(x = 6,mu=12, sigma=4)"
   ]
  },
  {
   "cell_type": "markdown",
   "id": "c086c6d6-b4a2-4a6f-acfd-c92d09d08493",
   "metadata": {},
   "source": [
    "- Multivariate Gaussian:\n",
    "\n",
    "The extension of univariate case is that of multivariate random vector. A random variable $x$ st $x \\in R^d$ is said to follow a multivariate gaussian distribution if the pdf can be written as below:\n",
    "\n",
    "$$\\frac{1}{\\sqrt{(2\\pi)^ddet\\Sigma}}exp(\\frac{-1(x-\\mu)^T\\Sigma^-1(x-\\mu)}{2})$$\n",
    "\n",
    "The mean vector $\\mu$ is computed from the sample data so is covariance matrix $\\Sigma$ (both are MLE estimates)\n",
    "\n",
    "The process of model estimation and prediction is similar to the one followed in the univariate case. \n",
    "\n",
    "We will use a dataset to estimate the model and then do the prediction."
   ]
  },
  {
   "cell_type": "code",
   "execution_count": 6,
   "id": "1448699c-2861-4106-a0aa-a229e690426f",
   "metadata": {},
   "outputs": [
    {
     "data": {
      "text/html": [
       "<div>\n",
       "<style scoped>\n",
       "    .dataframe tbody tr th:only-of-type {\n",
       "        vertical-align: middle;\n",
       "    }\n",
       "\n",
       "    .dataframe tbody tr th {\n",
       "        vertical-align: top;\n",
       "    }\n",
       "\n",
       "    .dataframe thead th {\n",
       "        text-align: right;\n",
       "    }\n",
       "</style>\n",
       "<table border=\"1\" class=\"dataframe\">\n",
       "  <thead>\n",
       "    <tr style=\"text-align: right;\">\n",
       "      <th></th>\n",
       "      <th>Sex</th>\n",
       "      <th>Length</th>\n",
       "      <th>Diameter</th>\n",
       "      <th>Height</th>\n",
       "      <th>While Weight</th>\n",
       "      <th>Shucked Weight</th>\n",
       "      <th>Visceral Weight</th>\n",
       "      <th>Sell Weight</th>\n",
       "      <th>Rings</th>\n",
       "    </tr>\n",
       "  </thead>\n",
       "  <tbody>\n",
       "    <tr>\n",
       "      <th>0</th>\n",
       "      <td>M</td>\n",
       "      <td>0.455</td>\n",
       "      <td>0.365</td>\n",
       "      <td>0.095</td>\n",
       "      <td>0.5140</td>\n",
       "      <td>0.2245</td>\n",
       "      <td>0.1010</td>\n",
       "      <td>0.150</td>\n",
       "      <td>15</td>\n",
       "    </tr>\n",
       "    <tr>\n",
       "      <th>1</th>\n",
       "      <td>M</td>\n",
       "      <td>0.350</td>\n",
       "      <td>0.265</td>\n",
       "      <td>0.090</td>\n",
       "      <td>0.2255</td>\n",
       "      <td>0.0995</td>\n",
       "      <td>0.0485</td>\n",
       "      <td>0.070</td>\n",
       "      <td>7</td>\n",
       "    </tr>\n",
       "    <tr>\n",
       "      <th>2</th>\n",
       "      <td>F</td>\n",
       "      <td>0.530</td>\n",
       "      <td>0.420</td>\n",
       "      <td>0.135</td>\n",
       "      <td>0.6770</td>\n",
       "      <td>0.2565</td>\n",
       "      <td>0.1415</td>\n",
       "      <td>0.210</td>\n",
       "      <td>9</td>\n",
       "    </tr>\n",
       "    <tr>\n",
       "      <th>3</th>\n",
       "      <td>M</td>\n",
       "      <td>0.440</td>\n",
       "      <td>0.365</td>\n",
       "      <td>0.125</td>\n",
       "      <td>0.5160</td>\n",
       "      <td>0.2155</td>\n",
       "      <td>0.1140</td>\n",
       "      <td>0.155</td>\n",
       "      <td>10</td>\n",
       "    </tr>\n",
       "    <tr>\n",
       "      <th>4</th>\n",
       "      <td>I</td>\n",
       "      <td>0.330</td>\n",
       "      <td>0.255</td>\n",
       "      <td>0.080</td>\n",
       "      <td>0.2050</td>\n",
       "      <td>0.0895</td>\n",
       "      <td>0.0395</td>\n",
       "      <td>0.055</td>\n",
       "      <td>7</td>\n",
       "    </tr>\n",
       "  </tbody>\n",
       "</table>\n",
       "</div>"
      ],
      "text/plain": [
       "  Sex  Length  Diameter  Height  While Weight  Shucked Weight  \\\n",
       "0   M   0.455     0.365   0.095        0.5140          0.2245   \n",
       "1   M   0.350     0.265   0.090        0.2255          0.0995   \n",
       "2   F   0.530     0.420   0.135        0.6770          0.2565   \n",
       "3   M   0.440     0.365   0.125        0.5160          0.2155   \n",
       "4   I   0.330     0.255   0.080        0.2050          0.0895   \n",
       "\n",
       "   Visceral Weight  Sell Weight  Rings  \n",
       "0           0.1010        0.150     15  \n",
       "1           0.0485        0.070      7  \n",
       "2           0.1415        0.210      9  \n",
       "3           0.1140        0.155     10  \n",
       "4           0.0395        0.055      7  "
      ]
     },
     "execution_count": 6,
     "metadata": {},
     "output_type": "execute_result"
    }
   ],
   "source": [
    "import pandas as pd\n",
    "import numpy as np\n",
    "from scipy import stats\n",
    "data = pd.read_csv(\"./data/abalone.csv\",header=None)\n",
    "data.columns=['Sex','Length','Diameter','Height','While Weight','Shucked Weight','Visceral Weight',\"Sell Weight\",\"Rings\"]\n",
    "data.head()"
   ]
  },
  {
   "cell_type": "code",
   "execution_count": 7,
   "id": "e844e554-0ef4-4684-b3d7-6bae9ef2325b",
   "metadata": {},
   "outputs": [],
   "source": [
    "train = data.query(\"Sex!='I'\").sample(frac=0.95,random_state=42)\n",
    "test = data.query(\"Sex!='I'\").drop(train.index)"
   ]
  },
  {
   "cell_type": "code",
   "execution_count": 8,
   "id": "70fc2c50-b32d-47de-b026-7f62d9589fe1",
   "metadata": {},
   "outputs": [
    {
     "data": {
      "text/html": [
       "<div>\n",
       "<style scoped>\n",
       "    .dataframe tbody tr th:only-of-type {\n",
       "        vertical-align: middle;\n",
       "    }\n",
       "\n",
       "    .dataframe tbody tr th {\n",
       "        vertical-align: top;\n",
       "    }\n",
       "\n",
       "    .dataframe thead th {\n",
       "        text-align: right;\n",
       "    }\n",
       "</style>\n",
       "<table border=\"1\" class=\"dataframe\">\n",
       "  <thead>\n",
       "    <tr style=\"text-align: right;\">\n",
       "      <th></th>\n",
       "      <th>Sex</th>\n",
       "      <th>Length</th>\n",
       "      <th>Diameter</th>\n",
       "      <th>Height</th>\n",
       "      <th>While Weight</th>\n",
       "      <th>Shucked Weight</th>\n",
       "      <th>Visceral Weight</th>\n",
       "      <th>Sell Weight</th>\n",
       "      <th>Rings</th>\n",
       "    </tr>\n",
       "  </thead>\n",
       "  <tbody>\n",
       "    <tr>\n",
       "      <th>3078</th>\n",
       "      <td>F</td>\n",
       "      <td>0.695</td>\n",
       "      <td>0.535</td>\n",
       "      <td>0.20</td>\n",
       "      <td>1.5855</td>\n",
       "      <td>0.667</td>\n",
       "      <td>0.334</td>\n",
       "      <td>0.4710</td>\n",
       "      <td>11</td>\n",
       "    </tr>\n",
       "    <tr>\n",
       "      <th>3773</th>\n",
       "      <td>F</td>\n",
       "      <td>0.575</td>\n",
       "      <td>0.460</td>\n",
       "      <td>0.15</td>\n",
       "      <td>0.9270</td>\n",
       "      <td>0.333</td>\n",
       "      <td>0.207</td>\n",
       "      <td>0.2985</td>\n",
       "      <td>9</td>\n",
       "    </tr>\n",
       "  </tbody>\n",
       "</table>\n",
       "</div>"
      ],
      "text/plain": [
       "     Sex  Length  Diameter  Height  While Weight  Shucked Weight  \\\n",
       "3078   F   0.695     0.535    0.20        1.5855           0.667   \n",
       "3773   F   0.575     0.460    0.15        0.9270           0.333   \n",
       "\n",
       "      Visceral Weight  Sell Weight  Rings  \n",
       "3078            0.334       0.4710     11  \n",
       "3773            0.207       0.2985      9  "
      ]
     },
     "execution_count": 8,
     "metadata": {},
     "output_type": "execute_result"
    }
   ],
   "source": [
    "train.head(2)"
   ]
  },
  {
   "cell_type": "code",
   "execution_count": 9,
   "id": "190fc4c6-64ac-4a72-9085-cf1d36da902b",
   "metadata": {},
   "outputs": [
    {
     "data": {
      "text/html": [
       "<div>\n",
       "<style scoped>\n",
       "    .dataframe tbody tr th:only-of-type {\n",
       "        vertical-align: middle;\n",
       "    }\n",
       "\n",
       "    .dataframe tbody tr th {\n",
       "        vertical-align: top;\n",
       "    }\n",
       "\n",
       "    .dataframe thead th {\n",
       "        text-align: right;\n",
       "    }\n",
       "</style>\n",
       "<table border=\"1\" class=\"dataframe\">\n",
       "  <thead>\n",
       "    <tr style=\"text-align: right;\">\n",
       "      <th></th>\n",
       "      <th>Sex</th>\n",
       "      <th>Length</th>\n",
       "      <th>Diameter</th>\n",
       "      <th>Height</th>\n",
       "      <th>While Weight</th>\n",
       "      <th>Shucked Weight</th>\n",
       "      <th>Visceral Weight</th>\n",
       "      <th>Sell Weight</th>\n",
       "      <th>Rings</th>\n",
       "    </tr>\n",
       "  </thead>\n",
       "  <tbody>\n",
       "    <tr>\n",
       "      <th>25</th>\n",
       "      <td>F</td>\n",
       "      <td>0.560</td>\n",
       "      <td>0.440</td>\n",
       "      <td>0.140</td>\n",
       "      <td>0.9285</td>\n",
       "      <td>0.3825</td>\n",
       "      <td>0.1880</td>\n",
       "      <td>0.30</td>\n",
       "      <td>11</td>\n",
       "    </tr>\n",
       "    <tr>\n",
       "      <th>38</th>\n",
       "      <td>F</td>\n",
       "      <td>0.575</td>\n",
       "      <td>0.445</td>\n",
       "      <td>0.135</td>\n",
       "      <td>0.8830</td>\n",
       "      <td>0.3810</td>\n",
       "      <td>0.2035</td>\n",
       "      <td>0.26</td>\n",
       "      <td>11</td>\n",
       "    </tr>\n",
       "  </tbody>\n",
       "</table>\n",
       "</div>"
      ],
      "text/plain": [
       "   Sex  Length  Diameter  Height  While Weight  Shucked Weight  \\\n",
       "25   F   0.560     0.440   0.140        0.9285          0.3825   \n",
       "38   F   0.575     0.445   0.135        0.8830          0.3810   \n",
       "\n",
       "    Visceral Weight  Sell Weight  Rings  \n",
       "25           0.1880         0.30     11  \n",
       "38           0.2035         0.26     11  "
      ]
     },
     "execution_count": 9,
     "metadata": {},
     "output_type": "execute_result"
    }
   ],
   "source": [
    "test.head(2)"
   ]
  },
  {
   "cell_type": "code",
   "execution_count": 10,
   "id": "cbaf42a4-f39b-467c-b7cc-aa50b99cb11c",
   "metadata": {},
   "outputs": [],
   "source": [
    "train_c1 = train.query(\"Sex=='M'\").drop(\"Sex\",axis=1).values\n",
    "train_c0 = train.query(\"Sex=='F'\").drop(\"Sex\",axis=1).values"
   ]
  },
  {
   "cell_type": "code",
   "execution_count": 11,
   "id": "0a0e3351-3354-4625-af93-bc344a316c2f",
   "metadata": {},
   "outputs": [],
   "source": [
    "mu0 = train_c0.mean(axis=0)\n",
    "mu1 = train_c1.mean(axis=0)\n",
    "cov0 = np.cov(train_c0,rowvar=False)\n",
    "cov1 = np.cov(train_c1,rowvar=False)"
   ]
  },
  {
   "cell_type": "markdown",
   "id": "813bdb76-ef64-47e1-a0d6-06cce5011043",
   "metadata": {},
   "source": [
    "We can use the pdf defined in scipy as below:\n",
    "\n",
    "```python\n",
    "stats.multivariate_normal.pdf(test.drop(\"ca_cervix\",axis=1).iloc[0].values,mean=mu0,cov=cov0)\n",
    "```"
   ]
  },
  {
   "cell_type": "code",
   "execution_count": 12,
   "id": "ba645ab2-f2ec-4b6d-8022-1e66a1621d00",
   "metadata": {},
   "outputs": [
    {
     "data": {
      "text/plain": [
       "M    0.540661\n",
       "F    0.459339\n",
       "Name: Sex, dtype: float64"
      ]
     },
     "execution_count": 12,
     "metadata": {},
     "output_type": "execute_result"
    }
   ],
   "source": [
    "train['Sex'].value_counts(normalize=True)"
   ]
  },
  {
   "cell_type": "code",
   "execution_count": 13,
   "id": "21a8d9d8-fe96-466f-8721-a4545605a427",
   "metadata": {},
   "outputs": [],
   "source": [
    "prior_0 = 0.459339\n",
    "prior_1 = 0.540661"
   ]
  },
  {
   "cell_type": "markdown",
   "id": "713adf2b-98d6-44f7-9489-a146b7c72a6d",
   "metadata": {},
   "source": [
    "For the first row in the test data lets use our model to see what predictions we get. We will use the following result:\n",
    "\n",
    "$$\\frac{P(c=0|x)}{P(c=1|x)} = \\frac{\\frac{P(x|c=0)*P(c=0)}{P(x)}}{\\frac{P(x|c=1)*P(c=1)}{P(x)}} = \\frac{P(x|c=0)*P(c=0)}{P(x|c=1)*P(c=1)}$$"
   ]
  },
  {
   "cell_type": "code",
   "execution_count": 14,
   "id": "d5e50d59-4bfe-4d4a-9577-5eef2fb31b2e",
   "metadata": {},
   "outputs": [
    {
     "data": {
      "text/plain": [
       "0.7899157985689419"
      ]
     },
     "execution_count": 14,
     "metadata": {},
     "output_type": "execute_result"
    }
   ],
   "source": [
    "row = test.drop(\"Sex\",axis=1).loc[76].values\n",
    "(stats.multivariate_normal.pdf(row,mean=mu0,cov=cov0)*prior_0)/(stats.multivariate_normal.pdf(row,mean=mu1,cov=cov1)*prior_1)"
   ]
  },
  {
   "cell_type": "code",
   "execution_count": 15,
   "id": "fe4e8295-d8ea-4550-9e77-cff1ce224955",
   "metadata": {},
   "outputs": [
    {
     "data": {
      "text/html": [
       "<div>\n",
       "<style scoped>\n",
       "    .dataframe tbody tr th:only-of-type {\n",
       "        vertical-align: middle;\n",
       "    }\n",
       "\n",
       "    .dataframe tbody tr th {\n",
       "        vertical-align: top;\n",
       "    }\n",
       "\n",
       "    .dataframe thead th {\n",
       "        text-align: right;\n",
       "    }\n",
       "</style>\n",
       "<table border=\"1\" class=\"dataframe\">\n",
       "  <thead>\n",
       "    <tr style=\"text-align: right;\">\n",
       "      <th></th>\n",
       "      <th>Sex</th>\n",
       "      <th>Length</th>\n",
       "      <th>Diameter</th>\n",
       "      <th>Height</th>\n",
       "      <th>While Weight</th>\n",
       "      <th>Shucked Weight</th>\n",
       "      <th>Visceral Weight</th>\n",
       "      <th>Sell Weight</th>\n",
       "      <th>Rings</th>\n",
       "    </tr>\n",
       "  </thead>\n",
       "  <tbody>\n",
       "    <tr>\n",
       "      <th>25</th>\n",
       "      <td>F</td>\n",
       "      <td>0.560</td>\n",
       "      <td>0.440</td>\n",
       "      <td>0.140</td>\n",
       "      <td>0.9285</td>\n",
       "      <td>0.3825</td>\n",
       "      <td>0.1880</td>\n",
       "      <td>0.300</td>\n",
       "      <td>11</td>\n",
       "    </tr>\n",
       "    <tr>\n",
       "      <th>38</th>\n",
       "      <td>F</td>\n",
       "      <td>0.575</td>\n",
       "      <td>0.445</td>\n",
       "      <td>0.135</td>\n",
       "      <td>0.8830</td>\n",
       "      <td>0.3810</td>\n",
       "      <td>0.2035</td>\n",
       "      <td>0.260</td>\n",
       "      <td>11</td>\n",
       "    </tr>\n",
       "    <tr>\n",
       "      <th>76</th>\n",
       "      <td>M</td>\n",
       "      <td>0.595</td>\n",
       "      <td>0.475</td>\n",
       "      <td>0.140</td>\n",
       "      <td>0.9440</td>\n",
       "      <td>0.3625</td>\n",
       "      <td>0.1890</td>\n",
       "      <td>0.315</td>\n",
       "      <td>9</td>\n",
       "    </tr>\n",
       "    <tr>\n",
       "      <th>108</th>\n",
       "      <td>F</td>\n",
       "      <td>0.510</td>\n",
       "      <td>0.390</td>\n",
       "      <td>0.135</td>\n",
       "      <td>0.6335</td>\n",
       "      <td>0.2310</td>\n",
       "      <td>0.1790</td>\n",
       "      <td>0.200</td>\n",
       "      <td>9</td>\n",
       "    </tr>\n",
       "    <tr>\n",
       "      <th>154</th>\n",
       "      <td>F</td>\n",
       "      <td>0.565</td>\n",
       "      <td>0.450</td>\n",
       "      <td>0.135</td>\n",
       "      <td>0.9885</td>\n",
       "      <td>0.3870</td>\n",
       "      <td>0.1495</td>\n",
       "      <td>0.310</td>\n",
       "      <td>12</td>\n",
       "    </tr>\n",
       "  </tbody>\n",
       "</table>\n",
       "</div>"
      ],
      "text/plain": [
       "    Sex  Length  Diameter  Height  While Weight  Shucked Weight  \\\n",
       "25    F   0.560     0.440   0.140        0.9285          0.3825   \n",
       "38    F   0.575     0.445   0.135        0.8830          0.3810   \n",
       "76    M   0.595     0.475   0.140        0.9440          0.3625   \n",
       "108   F   0.510     0.390   0.135        0.6335          0.2310   \n",
       "154   F   0.565     0.450   0.135        0.9885          0.3870   \n",
       "\n",
       "     Visceral Weight  Sell Weight  Rings  \n",
       "25            0.1880        0.300     11  \n",
       "38            0.2035        0.260     11  \n",
       "76            0.1890        0.315      9  \n",
       "108           0.1790        0.200      9  \n",
       "154           0.1495        0.310     12  "
      ]
     },
     "execution_count": 15,
     "metadata": {},
     "output_type": "execute_result"
    }
   ],
   "source": [
    "test.head()"
   ]
  },
  {
   "cell_type": "markdown",
   "id": "1a6fb2b4-dd99-4c7b-bf18-6e944af7f2cc",
   "metadata": {},
   "source": [
    "**3 Class Formulation**"
   ]
  },
  {
   "cell_type": "code",
   "execution_count": 16,
   "id": "77ee8c1f-f257-47ca-88a6-c1d065c26815",
   "metadata": {},
   "outputs": [],
   "source": [
    "data = pd.read_csv(\"./data/abalone.csv\",header=None)\n",
    "data.columns=['Sex','Length','Diameter','Height','While Weight','Shucked Weight','Visceral Weight',\"Sell Weight\",\"Rings\"]\n",
    "train = data.sample(frac=0.95,random_state=42)\n",
    "test = data.drop(train.index)"
   ]
  },
  {
   "cell_type": "code",
   "execution_count": 17,
   "id": "0fda2ca6-fabc-436b-9872-a9bdaa85697f",
   "metadata": {},
   "outputs": [],
   "source": [
    "train_m = train.query(\"Sex=='M'\").drop(\"Sex\",axis=1).values\n",
    "train_f = train.query(\"Sex=='F'\").drop(\"Sex\",axis=1).values\n",
    "train_i = train.query(\"Sex=='I'\").drop(\"Sex\",axis=1).values\n",
    "\n",
    "mu_m = train_m.mean(axis=0)\n",
    "mu_f = train_f.mean(axis=0)\n",
    "nu_i = train_i.mean(axis=0)\n",
    "\n",
    "\n",
    "cov_m = np.cov(train_m,rowvar=False)\n",
    "cov_f = np.cov(train_f,rowvar=False)\n",
    "cov_i = np.cov(train_i,rowvar=False)"
   ]
  },
  {
   "cell_type": "code",
   "execution_count": 18,
   "id": "7061eb78-677f-480a-ad80-b5da318d802c",
   "metadata": {},
   "outputs": [
    {
     "data": {
      "text/plain": [
       "M    0.365171\n",
       "I    0.323841\n",
       "F    0.310988\n",
       "Name: Sex, dtype: float64"
      ]
     },
     "execution_count": 18,
     "metadata": {},
     "output_type": "execute_result"
    }
   ],
   "source": [
    "train['Sex'].value_counts(normalize=True)"
   ]
  },
  {
   "cell_type": "code",
   "execution_count": 19,
   "id": "d7193a8c-b41b-40a7-ac62-35af422ae352",
   "metadata": {},
   "outputs": [],
   "source": [
    "prior_m = train['Sex'].value_counts(normalize=True)['M']\n",
    "prior_f = train['Sex'].value_counts(normalize=True)['F']\n",
    "prior_i = train['Sex'].value_counts(normalize=True)['I']"
   ]
  },
  {
   "cell_type": "code",
   "execution_count": 32,
   "id": "5b9207dc-8e4d-4a00-a1fd-f94233948344",
   "metadata": {},
   "outputs": [],
   "source": [
    "row = test.drop(\"Sex\",axis=1).iloc[3].values\n",
    "l_m = stats.multivariate_normal.pdf(row,mean=mu_m,cov=cov_m)\n",
    "l_f = stats.multivariate_normal.pdf(row,mean=mu_f,cov=cov_f)\n",
    "l_i = stats.multivariate_normal.pdf(row,mean=nu_i,cov=cov_i)\n",
    "post_m = (l_m*prior_m)/(l_m+l_f+l_i)\n",
    "post_f = (l_f*prior_f)/(l_m+l_f+l_i)\n",
    "post_i = (l_i*prior_i)/(l_m+l_f+l_i)"
   ]
  },
  {
   "cell_type": "code",
   "execution_count": 33,
   "id": "8f358f0d-c653-41ef-969d-5ac4940d693b",
   "metadata": {},
   "outputs": [
    {
     "name": "stdout",
     "output_type": "stream",
     "text": [
      "post_m: 0.17131801367707852, post_f: 0.16507670137143418, post_i: 1.358442762714473e-05\n"
     ]
    }
   ],
   "source": [
    "print(f\"post_m: {post_m}, post_f: {post_f}, post_i: {post_i}\")"
   ]
  },
  {
   "cell_type": "code",
   "execution_count": 25,
   "id": "f49980fe-341d-47a6-85d9-9de411231d2b",
   "metadata": {},
   "outputs": [
    {
     "data": {
      "text/html": [
       "<div>\n",
       "<style scoped>\n",
       "    .dataframe tbody tr th:only-of-type {\n",
       "        vertical-align: middle;\n",
       "    }\n",
       "\n",
       "    .dataframe tbody tr th {\n",
       "        vertical-align: top;\n",
       "    }\n",
       "\n",
       "    .dataframe thead th {\n",
       "        text-align: right;\n",
       "    }\n",
       "</style>\n",
       "<table border=\"1\" class=\"dataframe\">\n",
       "  <thead>\n",
       "    <tr style=\"text-align: right;\">\n",
       "      <th></th>\n",
       "      <th>Sex</th>\n",
       "      <th>Length</th>\n",
       "      <th>Diameter</th>\n",
       "      <th>Height</th>\n",
       "      <th>While Weight</th>\n",
       "      <th>Shucked Weight</th>\n",
       "      <th>Visceral Weight</th>\n",
       "      <th>Sell Weight</th>\n",
       "      <th>Rings</th>\n",
       "    </tr>\n",
       "  </thead>\n",
       "  <tbody>\n",
       "    <tr>\n",
       "      <th>34</th>\n",
       "      <td>F</td>\n",
       "      <td>0.705</td>\n",
       "      <td>0.550</td>\n",
       "      <td>0.200</td>\n",
       "      <td>1.7095</td>\n",
       "      <td>0.6330</td>\n",
       "      <td>0.4115</td>\n",
       "      <td>0.490</td>\n",
       "      <td>13</td>\n",
       "    </tr>\n",
       "    <tr>\n",
       "      <th>64</th>\n",
       "      <td>M</td>\n",
       "      <td>0.520</td>\n",
       "      <td>0.400</td>\n",
       "      <td>0.120</td>\n",
       "      <td>0.5800</td>\n",
       "      <td>0.2340</td>\n",
       "      <td>0.1315</td>\n",
       "      <td>0.185</td>\n",
       "      <td>8</td>\n",
       "    </tr>\n",
       "    <tr>\n",
       "      <th>95</th>\n",
       "      <td>M</td>\n",
       "      <td>0.665</td>\n",
       "      <td>0.535</td>\n",
       "      <td>0.195</td>\n",
       "      <td>1.6060</td>\n",
       "      <td>0.5755</td>\n",
       "      <td>0.3880</td>\n",
       "      <td>0.480</td>\n",
       "      <td>14</td>\n",
       "    </tr>\n",
       "    <tr>\n",
       "      <th>130</th>\n",
       "      <td>M</td>\n",
       "      <td>0.595</td>\n",
       "      <td>0.480</td>\n",
       "      <td>0.165</td>\n",
       "      <td>1.2620</td>\n",
       "      <td>0.4835</td>\n",
       "      <td>0.2830</td>\n",
       "      <td>0.410</td>\n",
       "      <td>17</td>\n",
       "    </tr>\n",
       "    <tr>\n",
       "      <th>161</th>\n",
       "      <td>F</td>\n",
       "      <td>0.605</td>\n",
       "      <td>0.485</td>\n",
       "      <td>0.160</td>\n",
       "      <td>1.2220</td>\n",
       "      <td>0.5300</td>\n",
       "      <td>0.2575</td>\n",
       "      <td>0.280</td>\n",
       "      <td>13</td>\n",
       "    </tr>\n",
       "  </tbody>\n",
       "</table>\n",
       "</div>"
      ],
      "text/plain": [
       "    Sex  Length  Diameter  Height  While Weight  Shucked Weight  \\\n",
       "34    F   0.705     0.550   0.200        1.7095          0.6330   \n",
       "64    M   0.520     0.400   0.120        0.5800          0.2340   \n",
       "95    M   0.665     0.535   0.195        1.6060          0.5755   \n",
       "130   M   0.595     0.480   0.165        1.2620          0.4835   \n",
       "161   F   0.605     0.485   0.160        1.2220          0.5300   \n",
       "\n",
       "     Visceral Weight  Sell Weight  Rings  \n",
       "34            0.4115        0.490     13  \n",
       "64            0.1315        0.185      8  \n",
       "95            0.3880        0.480     14  \n",
       "130           0.2830        0.410     17  \n",
       "161           0.2575        0.280     13  "
      ]
     },
     "execution_count": 25,
     "metadata": {},
     "output_type": "execute_result"
    }
   ],
   "source": [
    "test.head()"
   ]
  },
  {
   "cell_type": "code",
   "execution_count": null,
   "id": "3e064c44-dce1-483e-9b86-0d9a089ba624",
   "metadata": {},
   "outputs": [],
   "source": []
  }
 ],
 "metadata": {
  "kernelspec": {
   "display_name": "Python 3",
   "language": "python",
   "name": "python3"
  },
  "language_info": {
   "codemirror_mode": {
    "name": "ipython",
    "version": 3
   },
   "file_extension": ".py",
   "mimetype": "text/x-python",
   "name": "python",
   "nbconvert_exporter": "python",
   "pygments_lexer": "ipython3",
   "version": "3.9.5"
  }
 },
 "nbformat": 4,
 "nbformat_minor": 5
}
