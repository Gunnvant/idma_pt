{
 "cells": [
  {
   "cell_type": "markdown",
   "id": "4bbf85ad-6b9c-4693-a265-47e4b0c5f8b7",
   "metadata": {},
   "source": [
    "## Lecture 13: Clustering 1 (MIT Notes)\n",
    "\n",
    "The deck ```./decks/KMeans.pptx``` is companion to the original MIT content. This will summarise the mathematical theory behind clustering in general and kmeans clustering in particular. \n",
    "\n",
    "**Clustering definition**\n",
    "\n",
    "1. The input is a dataset $S_n = \\{x^i|i=1,...,n\\}$\n",
    "2. The number of clusters to be found $K$\n",
    "\n",
    "The clusters are defined as a partition $C_j$ such that each partition contains the indices of datapoints belonging to that partition. Also $\\bigcup C_j = \\{1,2,3..n\\} \\forall j=1,2..K$ and $C_j \\cap C_k = \\phi; \\forall j \\neq k$\n",
    "\n",
    "**Similarity Measures and Cost**\n",
    "\n",
    "$Cost(C_1,z) = \\sum_{i \\in C_1}dist(x^i,z)$\n",
    "\n",
    "$Cost(C_1,C_2...C_k,z_1,z_2...z_k) = \\sum^{k}_{j=1}\\sum_{i \\in C_j}||x^i-z_j||^2$\n",
    "\n",
    "**Kmeans algorithm: Big Picture**\n",
    "\n",
    "1. Randomly select $z_1,2_2,...,z_K$\n",
    "2. \n",
    "    - Given $z_1,z_2,...,z_k$, assign each datapoint to $x^i$ to the $z_j$ if\n",
    "    $$Cost(z_1,z_2,...,z_k) = \\sum^{n}_{i=1}min_{j = 1,2...,k}||x^i-z_j||^2$$\n",
    "    \n",
    "    - Given $C_1,C_2,...,C_K$ find the best representatives $z_1,z_2,...,z_K$ such that:\n",
    "    $$z_j = argmin\\sum_{i \\in C_j}||x^i-z||^2$$\n",
    "    \n",
    "**Kmeans algorithm specifics**\n",
    "\n",
    "How to find the $z_j$? For each $C_j$ the assignment is made independently, so we can try to find the derivative of $\\sum_{i \\in C_j}||x^i-z_j||^2$\n",
    "\n",
    "$\\frac{\\partial(\\sum_{i \\in C_j}||x^i-z_j||^2)}{\\partial(z_j)}=0 => \\sum_{i \\in C_j}\\frac{\\partial||x^i-z_j||^2)}{\\partial(z_j)} = 0 => \\sum_{i \\in C_j}\\frac{\\partial(x^i-z_j)^2}{\\partial(z_j)} = 0 => \\sum_{i \\in C_j} (-2(x^i - z_j)) = 0 =>\\sum_{i \\in C_j}(x^i - z_j) = 0 => \\sum_{i \\in C_j}(x^i) - \\sum_{i \\in C_j}(z_j) = 0 =>\\sum_{i \\in C_j}(z_j) = \\sum_{i \\in C_j}(x^i) => |C_j|z_j = \\sum_{i \\in C_j}(x^i) => z_j = \\frac{\\sum_{i \\in C_j}(x^i)}{|C_j|} $"
   ]
  },
  {
   "cell_type": "code",
   "execution_count": null,
   "id": "599b64e2-cd28-4814-9665-61dec07dbacd",
   "metadata": {},
   "outputs": [],
   "source": []
  }
 ],
 "metadata": {
  "kernelspec": {
   "display_name": "Python 3",
   "language": "python",
   "name": "python3"
  },
  "language_info": {
   "codemirror_mode": {
    "name": "ipython",
    "version": 3
   },
   "file_extension": ".py",
   "mimetype": "text/x-python",
   "name": "python",
   "nbconvert_exporter": "python",
   "pygments_lexer": "ipython3",
   "version": "3.9.5"
  }
 },
 "nbformat": 4,
 "nbformat_minor": 5
}
