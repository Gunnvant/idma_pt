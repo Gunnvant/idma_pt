{
 "cells": [
  {
   "cell_type": "markdown",
   "id": "13291cdc-5380-481e-9345-d938e2711b65",
   "metadata": {},
   "source": [
    "**EM Algorithm: GMM (Clustering)**\n",
    "\n",
    "This is a boiler-plate template to get you guys started on how Expectation and Maximization steps can be implimented using numpy arrays.\n",
    "\n",
    "Just to emphasize:\n",
    "\n",
    "**E Step**\n",
    "- For each point $i$ st $i \\in \\{1,2,3..N\\}$\n",
    "    - For each. cluster $j$ st $j \\in \\{1,2,3..K\\}$\n",
    "        - Compute $p(j|i)=\\frac{p_jN(x^i,\\mu_j,\\sigma_jI)}{\\sum_{j}p_jN(x^i,\\mu_j,sigma_jI)}$\n",
    "        \n",
    "**M Step**\n",
    "- Compute $n_j=\\sum^{N}_{i=1}p(j|i)$\n",
    "- From $n_j$ compute $p_j=\\frac{n_j}{N}$\n",
    "- From $p_j$ and $n_j$ compute $\\mu_j = \\frac{1}{n_j}\\sum^{N}_{i=1}p(j|i)x^i$\n",
    "- From $p_j$, $n_j$ and $\\mu_j$ compute $\\sigma_j = \\frac{1}{n_j d}\\sum^{N}_{i=1}p(j|i)||x^i-\\mu_j||^2$"
   ]
  },
  {
   "cell_type": "code",
   "execution_count": 1,
   "id": "521f2344-dae2-4a1e-a92e-3ed92c38e3a9",
   "metadata": {},
   "outputs": [],
   "source": [
    "import numpy as np\n",
    "import random\n",
    "from scipy import stats"
   ]
  },
  {
   "cell_type": "code",
   "execution_count": 3,
   "id": "c03e93a4-be23-43e6-bedf-7bc2d302feec",
   "metadata": {},
   "outputs": [],
   "source": [
    "X = np.loadtxt(\"./data/toy_data.txt\")"
   ]
  },
  {
   "cell_type": "code",
   "execution_count": 4,
   "id": "57b31ae3-3321-4227-87b6-43baea99ad63",
   "metadata": {},
   "outputs": [
    {
     "data": {
      "text/plain": [
       "(250, 2)"
      ]
     },
     "execution_count": 4,
     "metadata": {},
     "output_type": "execute_result"
    }
   ],
   "source": [
    "X.shape"
   ]
  },
  {
   "cell_type": "code",
   "execution_count": 14,
   "id": "60b4accc-6964-472e-9ef4-048df23f75cb",
   "metadata": {},
   "outputs": [],
   "source": [
    "## Randomly Select parameters (K=2)\n",
    "## (mu,sigma,pj)\n",
    "random.seed(42)\n",
    "mu_1 = X[random.randint(0,250)]\n",
    "mu_2 = X[random.randint(0,250)]"
   ]
  },
  {
   "cell_type": "code",
   "execution_count": 29,
   "id": "6f616c92-7428-4767-b841-e623d32bc250",
   "metadata": {},
   "outputs": [
    {
     "data": {
      "text/plain": [
       "array([3.806, 0.903])"
      ]
     },
     "execution_count": 29,
     "metadata": {},
     "output_type": "execute_result"
    }
   ],
   "source": [
    "mu_1"
   ]
  },
  {
   "cell_type": "code",
   "execution_count": 17,
   "id": "d0a65152-185b-4331-b68e-121542372002",
   "metadata": {},
   "outputs": [],
   "source": [
    "mu = np.array([mu_1,mu_2])"
   ]
  },
  {
   "cell_type": "code",
   "execution_count": 46,
   "id": "c2ffeb19-0291-4298-8923-73cde6aea2f3",
   "metadata": {},
   "outputs": [
    {
     "data": {
      "text/plain": [
       "array([[ 3.806,  0.903],\n",
       "       [-1.809,  1.69 ]])"
      ]
     },
     "execution_count": 46,
     "metadata": {},
     "output_type": "execute_result"
    }
   ],
   "source": [
    "mu"
   ]
  },
  {
   "cell_type": "code",
   "execution_count": 31,
   "id": "a1f44a75-36bf-4685-ac97-b6833478fa87",
   "metadata": {},
   "outputs": [],
   "source": [
    "p1 = 1/250\n",
    "p2 = 1-p1\n",
    "mixture = np.array([p1,p2])"
   ]
  },
  {
   "cell_type": "code",
   "execution_count": 19,
   "id": "ed50a20f-0acc-4390-adfb-450515f6c4b1",
   "metadata": {},
   "outputs": [],
   "source": [
    "sigma_1 = 0.45\n",
    "sigma_2 = 0.67"
   ]
  },
  {
   "cell_type": "code",
   "execution_count": 20,
   "id": "7bdde6a1-f2fa-46c8-8bae-cac051e4a80c",
   "metadata": {},
   "outputs": [],
   "source": [
    "sigma = np.array([sigma_1,sigma_2])"
   ]
  },
  {
   "cell_type": "code",
   "execution_count": 48,
   "id": "9c401414-1bcf-4a22-8b63-9bcf9f8b4144",
   "metadata": {},
   "outputs": [
    {
     "data": {
      "text/plain": [
       "array([0.45, 0.67])"
      ]
     },
     "execution_count": 48,
     "metadata": {},
     "output_type": "execute_result"
    }
   ],
   "source": [
    "sigma"
   ]
  },
  {
   "cell_type": "code",
   "execution_count": 25,
   "id": "8ed86cf9-be71-4787-a06c-0a36b167a884",
   "metadata": {},
   "outputs": [
    {
     "data": {
      "text/plain": [
       "array([[0.2025, 0.    ],\n",
       "       [0.    , 0.2025]])"
      ]
     },
     "execution_count": 25,
     "metadata": {},
     "output_type": "execute_result"
    }
   ],
   "source": [
    "np.identity(2)*(sigma[0])**2"
   ]
  },
  {
   "cell_type": "code",
   "execution_count": 28,
   "id": "4603a08f-1a8f-47ad-b524-d743db3e64b3",
   "metadata": {},
   "outputs": [
    {
     "data": {
      "text/plain": [
       "5.8625252785376755e-52"
      ]
     },
     "execution_count": 28,
     "metadata": {},
     "output_type": "execute_result"
    }
   ],
   "source": [
    "stats.multivariate_normal.pdf(X[1],mean=mu[0],cov=np.identity(2)*(sigma[0])**2)"
   ]
  },
  {
   "cell_type": "markdown",
   "id": "9bab4660-3c34-4723-b607-0965f4a7d86c",
   "metadata": {},
   "source": [
    "**E Step**\n",
    "- For each point $i$ st $i \\in \\{1,2,3..N\\}$\n",
    "    - For each. cluster $j$ st $j \\in \\{1,2,3..K\\}$\n",
    "        - Compute $p(j|i)=\\frac{p_jN(x^i,\\mu_j,\\sigma_jI)}{\\sum_{j}p_jN(x^i,\\mu_j,sigma_jI)}$\n",
    "\n"
   ]
  },
  {
   "cell_type": "code",
   "execution_count": 38,
   "id": "fee9d944-7779-4ce8-ad38-473c401d9693",
   "metadata": {},
   "outputs": [],
   "source": [
    "### EStep\n",
    "k = 2\n",
    "ll = 0\n",
    "post = np.zeros((X.shape[0],k))\n",
    "for i in range(X.shape[0]):\n",
    "    for j in range(k):\n",
    "        likelihood = stats.multivariate_normal.pdf(X[i],mean = mu[j], cov = np.identity(2)*(sigma[j])**2)\n",
    "        post[i,j]=likelihood*mixture[j]\n",
    "    total = post[i,:].sum()\n",
    "    post[i,:] = post[i,:]/total\n",
    "    ll = ll + np.log(total)"
   ]
  },
  {
   "cell_type": "code",
   "execution_count": 39,
   "id": "95fcf198-5cb1-4d19-8a41-3c30fba1c106",
   "metadata": {},
   "outputs": [
    {
     "data": {
      "text/plain": [
       "-4854.331613120599"
      ]
     },
     "execution_count": 39,
     "metadata": {},
     "output_type": "execute_result"
    }
   ],
   "source": [
    "ll"
   ]
  },
  {
   "cell_type": "markdown",
   "id": "7eac78d0-d72d-4c76-91df-12f9cdc455e2",
   "metadata": {},
   "source": [
    "**M Step**\n",
    "- Compute $n_j=\\sum^{N}_{i=1}p(j|i)$\n",
    "- From $n_j$ compute $p_j=\\frac{n_j}{N}$\n",
    "- From $p_j$ and $n_j$ compute $\\mu_j = \\frac{1}{n_j}\\sum^{N}_{i=1}p(j|i)x^i$\n",
    "- From $p_j$, $n_j$ and $\\mu_j$ compute $\\sigma_j = \\frac{1}{n_j d}\\sum^{N}_{i=1}p(j|i)||x^i-\\mu_j||^2$"
   ]
  },
  {
   "cell_type": "code",
   "execution_count": 42,
   "id": "35d2b126-d297-4e03-845d-f09d27ec0a19",
   "metadata": {},
   "outputs": [],
   "source": [
    "n_j = post.sum(axis=0)"
   ]
  },
  {
   "cell_type": "code",
   "execution_count": 43,
   "id": "4b44fec0-dd36-483c-b2d5-a7e560d2480f",
   "metadata": {},
   "outputs": [
    {
     "data": {
      "text/plain": [
       "array([ 98.97150702, 151.02849298])"
      ]
     },
     "execution_count": 43,
     "metadata": {},
     "output_type": "execute_result"
    }
   ],
   "source": [
    "n_j"
   ]
  },
  {
   "cell_type": "code",
   "execution_count": 44,
   "id": "e0cabd8c-c855-4104-96de-a39f820ceea3",
   "metadata": {},
   "outputs": [],
   "source": [
    "p_j = n_j/250"
   ]
  },
  {
   "cell_type": "code",
   "execution_count": 45,
   "id": "3d047576-0f25-4c3a-9553-ca1a0ea80d3c",
   "metadata": {},
   "outputs": [
    {
     "data": {
      "text/plain": [
       "array([0.39588603, 0.60411397])"
      ]
     },
     "execution_count": 45,
     "metadata": {},
     "output_type": "execute_result"
    }
   ],
   "source": [
    "p_j"
   ]
  },
  {
   "cell_type": "code",
   "execution_count": 47,
   "id": "8edf47fe-39f8-4e31-88d6-265d3c425c22",
   "metadata": {},
   "outputs": [],
   "source": [
    "new_mu = np.zeros((k,X.shape[1]))"
   ]
  },
  {
   "cell_type": "code",
   "execution_count": 49,
   "id": "3272eb85-be79-450d-ae66-2c6c5d280311",
   "metadata": {},
   "outputs": [],
   "source": [
    "new_var = np.zeros(k)"
   ]
  },
  {
   "cell_type": "code",
   "execution_count": 50,
   "id": "7412d488-d1b5-4fa4-b5be-45c309718e0d",
   "metadata": {},
   "outputs": [
    {
     "data": {
      "text/plain": [
       "array([0., 0.])"
      ]
     },
     "execution_count": 50,
     "metadata": {},
     "output_type": "execute_result"
    }
   ],
   "source": [
    "new_var"
   ]
  },
  {
   "cell_type": "code",
   "execution_count": 63,
   "id": "e4b2acd1-1732-4bc5-b64b-5855c565341a",
   "metadata": {},
   "outputs": [
    {
     "data": {
      "text/plain": [
       "(250,)"
      ]
     },
     "execution_count": 63,
     "metadata": {},
     "output_type": "execute_result"
    }
   ],
   "source": [
    "post[:,0].shape"
   ]
  },
  {
   "cell_type": "code",
   "execution_count": 64,
   "id": "44793184-b11f-46ec-b770-4161caaa6750",
   "metadata": {},
   "outputs": [
    {
     "data": {
      "text/plain": [
       "(250, 1)"
      ]
     },
     "execution_count": 64,
     "metadata": {},
     "output_type": "execute_result"
    }
   ],
   "source": [
    "post[:,0,None].shape"
   ]
  },
  {
   "cell_type": "code",
   "execution_count": 71,
   "id": "d1c8da94-455e-4924-af7c-7429787463db",
   "metadata": {},
   "outputs": [
    {
     "data": {
      "text/plain": [
       "array([5.83077787, 0.15133387])"
      ]
     },
     "execution_count": 71,
     "metadata": {},
     "output_type": "execute_result"
    }
   ],
   "source": [
    "((X*post[:,0,None]).sum(axis=0))/n_j ### p(1|i)xi"
   ]
  },
  {
   "cell_type": "code",
   "execution_count": 72,
   "id": "079b8b44-ce5f-409f-a96e-2cad5f2e3465",
   "metadata": {},
   "outputs": [
    {
     "data": {
      "text/plain": [
       "(250, 2)"
      ]
     },
     "execution_count": 72,
     "metadata": {},
     "output_type": "execute_result"
    }
   ],
   "source": [
    "(X*post[:,0,None]).shape"
   ]
  },
  {
   "cell_type": "code",
   "execution_count": 70,
   "id": "ebb1af58-b9df-4aa6-800e-5d574483d709",
   "metadata": {},
   "outputs": [
    {
     "data": {
      "text/plain": [
       "array([-3.14188277,  0.75920293])"
      ]
     },
     "execution_count": 70,
     "metadata": {},
     "output_type": "execute_result"
    }
   ],
   "source": [
    "((X*post[:,1,None]).sum(axis=0))/n_j ### p(2|i)xi"
   ]
  },
  {
   "cell_type": "code",
   "execution_count": null,
   "id": "0e7501d5-6396-4849-93b4-a9b9120b4918",
   "metadata": {},
   "outputs": [],
   "source": []
  }
 ],
 "metadata": {
  "kernelspec": {
   "display_name": "Python 3 (ipykernel)",
   "language": "python",
   "name": "python3"
  },
  "language_info": {
   "codemirror_mode": {
    "name": "ipython",
    "version": 3
   },
   "file_extension": ".py",
   "mimetype": "text/x-python",
   "name": "python",
   "nbconvert_exporter": "python",
   "pygments_lexer": "ipython3",
   "version": "3.9.5"
  }
 },
 "nbformat": 4,
 "nbformat_minor": 5
}
