{
 "cells": [
  {
   "cell_type": "code",
   "execution_count": 3,
   "id": "e22705bd-d592-41b9-b72e-f1d0c9c274dd",
   "metadata": {},
   "outputs": [
    {
     "name": "stdout",
     "output_type": "stream",
     "text": [
      "-0.96\n",
      "-0.9208\n",
      "-0.882384\n",
      "-0.84473632\n",
      "-0.8078415936\n",
      "-0.7716847617279999\n",
      "-0.73625106649344\n",
      "-0.7015260451635712\n",
      "-0.6674955242602998\n",
      "-0.6341456137750938\n"
     ]
    }
   ],
   "source": [
    "## Gradient Descent Python Code\n",
    "## f(x) = x^2-2x\n",
    "def grad(x):\n",
    "    return 2*x-2\n",
    "x_old = -1\n",
    "lr = 0.01\n",
    "for i in range(10):\n",
    "    x_new = x_old-lr*grad(x_old)\n",
    "    x_old = x_new\n",
    "    print(x_old)"
   ]
  },
  {
   "cell_type": "code",
   "execution_count": null,
   "id": "97aa980a-a025-4b2c-8a19-ab447e4cfb96",
   "metadata": {},
   "outputs": [],
   "source": []
  }
 ],
 "metadata": {
  "kernelspec": {
   "display_name": "Python 3",
   "language": "python",
   "name": "python3"
  },
  "language_info": {
   "codemirror_mode": {
    "name": "ipython",
    "version": 3
   },
   "file_extension": ".py",
   "mimetype": "text/x-python",
   "name": "python",
   "nbconvert_exporter": "python",
   "pygments_lexer": "ipython3",
   "version": "3.9.5"
  }
 },
 "nbformat": 4,
 "nbformat_minor": 5
}
