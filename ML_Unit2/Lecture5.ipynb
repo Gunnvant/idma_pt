{
 "cells": [
  {
   "cell_type": "markdown",
   "id": "5d9abc02-9797-4cdb-878b-521d6df672c0",
   "metadata": {},
   "source": [
    "## Lecture 5: Linear Regression Class Notes\n",
    "\n",
    "Not all problems are classification problems. When one wants to predict a continous target variable from a set of features, then the problem is that of regression and not classification. see the tab called **One Feature** in the excel workbook called **Numerical Examples**.\n",
    "\n",
    "**1. Regression Problem**\n",
    "\n",
    "Here the variable we want to predict is continous in nature rather than being a categorical variable \n",
    "\n",
    "The model is $X_t\\theta_1+\\theta_0$\n",
    "\n",
    "**2. Model Meaning**\n",
    "\n",
    "But what does this model mean. Lets explore the tab **Model Meaning**. The model in this case means the parameter values that will enable us to make predictions which are as close to actual values as possible.\n",
    "\n",
    "**3. Parameter Estimation: Cost function**\n",
    "\n",
    "To estimate the value of $\\theta_0$ and $\\theta_1$, we will need to pose this problem as an optimization problem where we should choose those parameter values which minmize the error between actual and predicted values.\n",
    "\n",
    "The error for a single row is defined as $$(\\hat{y_i}-y_i)^2$$ The error for all rows is defined as $$\\frac{1}{2n}\\sum_{0}^{n}(\\hat{y_i}-y_i)^2$$\n",
    "\n",
    "These equations have been summarised in the tab **Cost Function** of the **Numerical Examples** workbook\n",
    "\n",
    "**4. Estimating model parameters: Gradient Descent**\n",
    "\n",
    "Once we are okay with the intuition behind the parameter estimation, we can focus on the specific methods by which the parameters can be estimated. One way to estimate parameters is to use Gradient Descent. The basic update equation for gradient descent is as follows:\n",
    "\n",
    "$\\theta_{new} := \\theta_{old}-\\eta*grad$\n",
    "\n",
    "Refer to the **Gradient Descent Recall** tab in the workbook, for a simple recall of gradient descent.\n",
    "\n",
    "**Class Excecise**\n",
    "Write python code to minimise $\\theta^2-2\\theta$ using gradient descent. Assume that the initial value of $\\theta = -1$, $\\eta=0.01$. Run your iterations 400 times and then print out the values of updated $\\theta$, function's value and value of gradient\n"
   ]
  },
  {
   "cell_type": "code",
   "execution_count": 1,
   "id": "8552e15e-6f30-4c1b-bf98-b5e68c2c2bcd",
   "metadata": {},
   "outputs": [],
   "source": [
    "def func(x):\n",
    "    return x**2-2*x\n",
    "def grad(x):\n",
    "    return 2*x-2"
   ]
  },
  {
   "cell_type": "code",
   "execution_count": 2,
   "id": "8da3519a-b03d-4502-874b-4d971b98a85b",
   "metadata": {},
   "outputs": [
    {
     "name": "stdout",
     "output_type": "stream",
     "text": [
      "-0.9999996172452885 -0.0012373434632233504 0.9993813282683883\n"
     ]
    }
   ],
   "source": [
    "x_old = -1\n",
    "eta = 0.01\n",
    "for i in range(400):\n",
    "    x_new = x_old - eta*grad(x_old)\n",
    "    func_value = func(x_new)\n",
    "    grad_value = grad(x_new)\n",
    "    x_old = x_new\n",
    "print(func_value,grad_value,x_new)"
   ]
  },
  {
   "cell_type": "markdown",
   "id": "cb765452-98c9-415f-8f92-e078fe12b323",
   "metadata": {},
   "source": [
    "**5. Gradient Descent on two parameter linear regression model**\n",
    "\n",
    "Now we can explore the idea of gradient descent in the context of linear regression model of the form $\\frac{1}{2n}\\sum(y_i-(\\theta_0+\\theta_1x_i))^2$\n",
    "\n",
    "**a. Now $grad(\\theta_0)$ for one term will be: (MIT Lectures ignore this term in videos and assume that $\\theta_0=0$)**\n",
    "\n",
    "$\\frac{-1}{n}(y_i-(\\theta_0+\\theta_1x_i)) = \\frac{-1}{n}(E_i)$\n",
    "\n",
    "And $grad(\\theta_0)$ for all terms will be:\n",
    "\n",
    "$\\frac{-1}{n}\\sum(E_i)$\n",
    "\n",
    "**b. $grad(\\theta_1)$ for one term will be:**\n",
    "\n",
    "$\\frac{-1}{n}(y_i-(\\theta_0+\\theta_1x_i))x_i = \\frac{-1}{n}E_ix_i$\n",
    "\n",
    "And $grad(\\theta_1)$ for all terms will be:\n",
    "\n",
    "$\\frac{-1}{n}\\sum(E_ix_i)$\n",
    "\n",
    "You can refer to detailed calculations on a numerical example in the sheet **Grad Descent Linear Regression**\n",
    "\n",
    "**Class Excercise: Use the data in sheet \"One Feature\" and estimate a model using gradient descent**\n"
   ]
  },
  {
   "cell_type": "code",
   "execution_count": 3,
   "id": "c80219eb-487e-4263-ab8f-ad1c18ecc679",
   "metadata": {},
   "outputs": [],
   "source": [
    "import pandas as pd\n",
    "import numpy as np\n",
    "data = pd.read_excel(\"Numerical Examples.xlsx\",sheet_name = \"One Feature\")"
   ]
  },
  {
   "cell_type": "code",
   "execution_count": 4,
   "id": "2167f50d-4ea4-4592-8f05-ff26f7bb4ef6",
   "metadata": {},
   "outputs": [],
   "source": [
    "x,y = data['x'],data['y']"
   ]
  },
  {
   "cell_type": "code",
   "execution_count": 5,
   "id": "bf9cce24-3f95-4952-91de-40bdb8ba8aad",
   "metadata": {},
   "outputs": [
    {
     "name": "stdout",
     "output_type": "stream",
     "text": [
      "0.8835071612232427 66.70456267858215\n"
     ]
    }
   ],
   "source": [
    "theta_0_old = 10\n",
    "theta_1_old = 40\n",
    "eta = 0.01\n",
    "iters = 200\n",
    "for i in range(iters):\n",
    "    preds = theta_0_old+theta_1_old*x\n",
    "    errors = y-preds\n",
    "    grad_theta_0 = (-1.0/preds.shape[0])*errors.sum()\n",
    "    grad_theta_1 = (-1.0/preds.shape[0])*(errors*x).sum()\n",
    "    theta_0_new = theta_0_old-eta*grad_theta_0\n",
    "    theta_1_new = theta_1_old-eta*grad_theta_1\n",
    "    theta_0_old = theta_0_new\n",
    "    theta_1_old = theta_1_new\n",
    "print(theta_0_new,theta_1_new)    "
   ]
  },
  {
   "cell_type": "markdown",
   "id": "7be91647-5e6e-4308-9ee7-10a01c9d4e6c",
   "metadata": {},
   "source": [
    "The MIT lecture 5 also shows gradient descent being done on a single randomly selected row instead of the whole data as shown in the excel sheet and python example above. We can impliment the same by changing the expressions for the $grad(\\theta_0)$ and $grad(\\theta_1)$\n",
    "\n",
    "Since we are using only one data point the expressions will be as follows:\n",
    "\n",
    "$grad(\\theta_0)=$ $\\frac{-1}{n}(y_i-(\\theta_0+\\theta_1x_i)) = \\frac{-1}{n}(E_i)$\n",
    "\n",
    "$grad(\\theta_1)=$ $\\frac{-1}{n}(y_i-(\\theta_0+\\theta_1x_i))x_i = \\frac{-1}{n}E_ix_i$\n",
    "\n",
    "Below is the python code for implimenting the above on the same dataset as used before"
   ]
  },
  {
   "cell_type": "code",
   "execution_count": 6,
   "id": "aebdeb26-8161-4dc1-b54d-c59e7f7d85a5",
   "metadata": {},
   "outputs": [],
   "source": [
    "x,y = data['x'].values,data['y'].values"
   ]
  },
  {
   "cell_type": "code",
   "execution_count": 7,
   "id": "61c73e4b-f29f-4684-852e-efc3e66828f6",
   "metadata": {},
   "outputs": [
    {
     "data": {
      "text/plain": [
       "37"
      ]
     },
     "execution_count": 7,
     "metadata": {},
     "output_type": "execute_result"
    }
   ],
   "source": [
    "np.random.randint(low=0,high=49,size=1)[0]"
   ]
  },
  {
   "cell_type": "code",
   "execution_count": 8,
   "id": "afc1771b-9a88-4205-994a-614bd25cf568",
   "metadata": {},
   "outputs": [
    {
     "name": "stdout",
     "output_type": "stream",
     "text": [
      "0.38648345760780384 69.56805541925394\n"
     ]
    }
   ],
   "source": [
    "theta_0_old = 10\n",
    "theta_1_old = 40\n",
    "eta = 0.01\n",
    "iters = 20000\n",
    "for i in range(iters):\n",
    "    idx = np.random.randint(low=0,high=49,size=1)[0]\n",
    "    pred = theta_0_old + theta_1_old*x[idx]\n",
    "    error = y[idx] - pred\n",
    "    grad_theta_0 = (-1/50)*error\n",
    "    grad_theta_1 = (-1/50)*error*x[idx]\n",
    "    theta_0_new = theta_0_old-eta*grad_theta_0\n",
    "    theta_1_new = theta_1_old-eta*grad_theta_1\n",
    "    theta_0_old = theta_0_new\n",
    "    theta_1_old = theta_1_new\n",
    "print(theta_0_new,theta_1_new)       "
   ]
  },
  {
   "cell_type": "markdown",
   "id": "782271b7-a37a-4b32-a8f5-3d018b391663",
   "metadata": {},
   "source": [
    "**5. Closed Form Solution**\n",
    "\n",
    "Another method of estimating the parameters is to find a closed form solution. Before we do that we will make a small change in notation. Instead of talking about parameters separately $\\theta_0$, $\\theta_1$, we will now talk about parameter vector $\\Theta = $ \n",
    "$\\begin{bmatrix}\n",
    "\\theta_0\\\\\n",
    "\\theta_1\\\\\n",
    "\\vdots \\\\\n",
    "\\theta_n\n",
    "\\end{bmatrix}\n",
    "$\n",
    "\n",
    "The second change we will make is we will represent our features as a feature vector, $X_i$ of the kind $\\begin{bmatrix}\n",
    "            1 \\\\\n",
    "           x_{1} \\\\\n",
    "           x_{2} \\\\\n",
    "           \\vdots \\\\\n",
    "           x_{n}\n",
    "          \\end{bmatrix}$\n",
    "\n",
    "Now our model can be expressed as $\\Theta.X_i$\n",
    "\n",
    "Our cost function will become $\\frac{1}{2n}\\sum(y_i - \\Theta.X_i)^2$\n",
    "\n",
    "This is demonstrated more clearly in the tab named **Vector Notation**\n",
    "\n",
    "\n",
    "**6. Closed form Solution Derivation**\n",
    "\n",
    "Cost function = $C(\\Theta)=\\frac{1}{2n}\\sum(y_i - \\Theta.X_i)^2$,\n",
    "\n",
    "$\\nabla(C(\\Theta)) = \\frac{-1}{n}(\\sum(y_i - \\Theta.X_i)(X_i)$\n",
    "\n",
    "$\\nabla(C(\\Theta)) = \\frac{-1}{n}\\sum(y_iX_i) + \\frac{1}{n}\\sum((\\Theta.X_i)X_i)$\n",
    "\n",
    "$\\nabla(C(\\Theta)) = -b + \\frac{1}{n}\\sum(X_i(\\Theta.X_i))$, now $\\Theta.X_i = X_i^T\\Theta =>$ \n",
    "\n",
    "$\\nabla(C(\\Theta)) = -b + \\frac{1}{n}\\sum((X_iX_i^T)\\Theta) = -b+A\\Theta$\n",
    "\n",
    "To find the optimal value of $\\Theta$, we can try solving $\\nabla(C(\\Theta))=0 =>$\n",
    "\n",
    "$A\\Theta - b = 0=> A\\Theta = b => A^{-1}A\\Theta = A^{-1}b => \\Theta = A^{-1}b$\n",
    "\n",
    "**7. Regularization**\n",
    "\n",
    "Just like we would want to control for overfiting in classification problems, we tend to do the same thing with regression problems as well.\n",
    "\n",
    "MIT curriculum talks about **ridge regression**, in this model the cost function changes as follows:\n",
    "\n",
    "$Cost(\\Theta) = \\frac{\\lambda}{2}||{\\Theta}||^2 + \\frac{1}{2n}\\sum(y_i - \\Theta.X_i)^2$\n",
    "\n",
    "Here $||{\\Theta}||^2 = \\sqrt{(\\theta_0^2+\\theta_1^2+..+\\theta_n^2)}$\n",
    "\n",
    "\n"
   ]
  },
  {
   "cell_type": "code",
   "execution_count": 23,
   "id": "b74c0830-3d15-48af-ad42-a11c1cb99708",
   "metadata": {},
   "outputs": [
    {
     "name": "stdout",
     "output_type": "stream",
     "text": [
      "Theta_0: 8.04004463393458, Theta_1: [20.81844278], coef: 14.092422497476264\n"
     ]
    },
    {
     "data": {
      "image/png": "[encoded data removed]",
      "text/plain": [
       "<Figure size 432x288 with 1 Axes>"
      ]
     },
     "metadata": {
      "needs_background": "light"
     },
     "output_type": "display_data"
    }
   ],
   "source": [
    "### This code is to explain the idea of regularization, don't run it on your local machine, this will be explained in the session\n",
    "from sklearn.datasets import make_regression\n",
    "from sklearn.linear_model import Ridge\n",
    "import matplotlib.pyplot as plt\n",
    "%matplotlib inline\n",
    "def get_data(noise = 2):\n",
    "    X,y,coef = make_regression(n_samples = 50, n_features = 1, noise = noise, random_state=42,coef=True)\n",
    "    return X,y,coef\n",
    "def get_model(X,y,lamda = 3):\n",
    "    reg = Ridge(alpha = lamda)\n",
    "    mod = reg.fit(X,y)\n",
    "    theta_1 = mod.coef_\n",
    "    theta_0 = mod.intercept_\n",
    "    return theta_0,theta_1\n",
    "def plot_data(X,y,theta_1,theta_0):\n",
    "    predictions = theta_0+theta_1*X\n",
    "    plot = plt.plot(X,y,\"*b\",X,predictions,\"*r\")\n",
    "    return plot\n",
    "lamda = 0 ## change the value from 5 to 500 and see coefficient estimates\n",
    "noise = 50\n",
    "X,y,coef = get_data(noise=noise)\n",
    "theta_0,theta_1 = get_model(X,y,lamda=lamda)\n",
    "plot = plot_data(X[:,0],y,theta_1,theta_0)\n",
    "plot\n",
    "print(f\"Theta_0: {theta_0}, Theta_1: {theta_1}\")"
   ]
  },
  {
   "cell_type": "code",
   "execution_count": null,
   "id": "114aef4f-7010-48fc-a918-443cc4cf7b9e",
   "metadata": {},
   "outputs": [],
   "source": []
  },
  {
   "cell_type": "code",
   "execution_count": null,
   "id": "512ba492-2a96-444f-912f-ad0f15b1e551",
   "metadata": {},
   "outputs": [],
   "source": []
  }
 ],
 "metadata": {
  "kernelspec": {
   "display_name": "Python 3",
   "language": "python",
   "name": "python3"
  },
  "language_info": {
   "codemirror_mode": {
    "name": "ipython",
    "version": 3
   },
   "file_extension": ".py",
   "mimetype": "text/x-python",
   "name": "python",
   "nbconvert_exporter": "python",
   "pygments_lexer": "ipython3",
   "version": "3.9.5"
  }
 },
 "nbformat": 4,
 "nbformat_minor": 5
}
